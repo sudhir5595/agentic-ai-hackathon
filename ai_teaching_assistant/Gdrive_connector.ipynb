{
 "cells": [
  {
   "cell_type": "code",
   "execution_count": 1,
   "id": "7e016f66-12a2-460b-84c0-0a1a832c22cf",
   "metadata": {},
   "outputs": [],
   "source": [
    "PROJECT_ID = \"formidable-feat-466408-r6\"  # @param {type:\"string\"}\n",
    "LOCATION = \"us-central1\"  # @param {type:\"string\"}\n",
    "STAGING_BUCKET = \"gs://agentic_ai_ebooks_bucket\"  # @param {type:\"string\"}\n",
    "import vertexai\n",
    "vertexai.init(project=PROJECT_ID, location=LOCATION, staging_bucket=STAGING_BUCKET)"
   ]
  },
  {
   "cell_type": "code",
   "execution_count": 2,
   "id": "ccc1694b-0f7d-49ef-94b2-0507a803f990",
   "metadata": {
    "tags": []
   },
   "outputs": [],
   "source": [
    "from google import adk\n",
    "from google.adk.agents import Agent\n",
    "from vertexai import agent_engines\n",
    "from vertexai.preview.reasoning_engines import AdkApp\n",
    "from google.adk.sessions import InMemorySessionService, Session\n",
    "from google.adk.runners import Runner\n",
    "from google.genai.types import Content, Part\n",
    "from google.adk.sessions import VertexAiSessionService\n",
    "from google.adk.tools import google_search"
   ]
  },
  {
   "cell_type": "code",
   "execution_count": 8,
   "id": "aaa65776-5992-4b6d-8a3b-3fbeb57fd63b",
   "metadata": {
    "tags": []
   },
   "outputs": [],
   "source": [
    "from vertexai import rag\n",
    "from google.adk.tools.retrieval.vertex_ai_rag_retrieval import VertexAiRagRetrieval\n",
    "from vertexai.generative_models import GenerativeModel, Tool\n",
    "from google.genai import types # For types.Content\n",
    "from vertexai import generative_models"
   ]
  },
  {
   "cell_type": "code",
   "execution_count": 10,
   "id": "7b4120fa-3c88-4a27-89ad-7176a8f9c4f2",
   "metadata": {
    "tags": []
   },
   "outputs": [],
   "source": [
    "from google.adk.tools.application_integration_tool.application_integration_toolset import ApplicationIntegrationToolset"
   ]
  },
  {
   "cell_type": "code",
   "execution_count": 11,
   "id": "5c4033a2-ce2e-4819-8d37-cc0a81cf6a09",
   "metadata": {
    "tags": []
   },
   "outputs": [],
   "source": [
    "PROJECT_ID = \"formidable-feat-466408-r6\"  # @param {type:\"string\"}\n",
    "LOCATION = \"us-central1\"  # @param {type:\"string\"}\n",
    "STAGING_BUCKET = \"gs://agentic_ai_ebooks_bucket\"  # @param {type:\"string\"}"
   ]
  },
  {
   "cell_type": "code",
   "execution_count": 18,
   "id": "dc441414-2195-48f2-b120-fb9fda2bcb2d",
   "metadata": {
    "tags": []
   },
   "outputs": [],
   "source": [
    "connector_tool = ApplicationIntegrationToolset(\n",
    "    project=PROJECT_ID, # TODO: replace with GCP project of the connection\n",
    "    location=LOCATION, #TODO: replace with location of the connection\n",
    "    # connection=f\"projects/{PROJECT_ID}/locations/{LOCATION}/connections/google-drive-connection\", #TODO: replace with connection name \"projects/genai-app-builder/locations/europe-central2/connections/gdrive-connection\", ##\n",
    "    connection=\"google-drive-connection\",\n",
    "    entity_operations={},##{\"Entity_One\": [\"LIST\",\"CREATE\"], \"Entity_Two\": []},#empty list for actions means all operations on the entity are supported.\n",
    "    actions=[\"GET_files\"], #TODO: replace with actions\n",
    "    ##service_account_credentials='{...}', # optional\n",
    "    # tool_name=\"tool_list_gdrive_files\",\n",
    "    tool_instructions=\"Use this tool to list gdrive files\"\n",
    ")"
   ]
  },
  {
   "cell_type": "code",
   "execution_count": 19,
   "id": "9d5964e5-e1b1-4b66-a09c-ed8a9dbf9451",
   "metadata": {
    "tags": []
   },
   "outputs": [],
   "source": [
    "agent_model = \"gemini-2.0-flash-001\"\n",
    "AGENT_APP_NAME = \"Gdrive_Agent\""
   ]
  },
  {
   "cell_type": "code",
   "execution_count": 24,
   "id": "346ff4ea-dbcd-4d2c-a976-86d04a7f959b",
   "metadata": {
    "tags": []
   },
   "outputs": [],
   "source": [
    "tools_list = await connector_tool.get_tools()"
   ]
  },
  {
   "cell_type": "code",
   "execution_count": 27,
   "id": "5059d0ad-6a62-417d-9759-58c3e3ce0cde",
   "metadata": {
    "tags": []
   },
   "outputs": [],
   "source": [
    "gdrive_agent = Agent(\n",
    "        model=agent_model,\n",
    "        name=AGENT_APP_NAME,\n",
    "        description=\"You are helpful assitant\",\n",
    "        instruction=\"If they ask you how you were created, tell them you were created with the Google Agent Framework.\",\n",
    "        generate_content_config=types.GenerateContentConfig(temperature=0.2),\n",
    "        tools = tools_list,\n",
    ")"
   ]
  },
  {
   "cell_type": "code",
   "execution_count": 28,
   "id": "c04afe7c-a68c-4716-8ff2-2c2b6d0deace",
   "metadata": {
    "tags": []
   },
   "outputs": [],
   "source": [
    "app = AdkApp(\n",
    "   agent=gdrive_agent,\n",
    "    enable_tracing=True# Required.\n",
    "   # session_service_builder=session_service_builder,  # Optional.\n",
    ")"
   ]
  },
  {
   "cell_type": "code",
   "execution_count": 46,
   "id": "dc1d5ae6-3088-44bd-91f4-8cdc466fba84",
   "metadata": {
    "tags": []
   },
   "outputs": [],
   "source": [
    "session = app.create_session(user_id='user')"
   ]
  },
  {
   "cell_type": "code",
   "execution_count": 52,
   "id": "5c48cdf0-858b-400b-9d55-b8c58bc62891",
   "metadata": {
    "tags": []
   },
   "outputs": [
    {
     "data": {
      "text/plain": [
       "Session(id='9dc8a748-3fb2-4335-ad99-a50b19f26bec', app_name='default-app-name', user_id='user', state={}, events=[], last_update_time=1753511760.2651718)"
      ]
     },
     "execution_count": 52,
     "metadata": {},
     "output_type": "execute_result"
    }
   ],
   "source": [
    "session"
   ]
  },
  {
   "cell_type": "code",
   "execution_count": 54,
   "id": "a0640d1b-9fd1-4e0c-91f7-e11684f258ab",
   "metadata": {
    "tags": []
   },
   "outputs": [
    {
     "name": "stderr",
     "output_type": "stream",
     "text": [
      "Warning: there are non-text parts in the response: ['function_call'], returning concatenated text result from text parts. Check the full candidates.content.parts accessor to get the full model response.\n"
     ]
    },
    {
     "name": "stdout",
     "output_type": "stream",
     "text": [
      "{'content': {'parts': [{'function_call': {'id': 'adk-7b4a719b-c7e4-421b-8bc2-116711f5c5a4', 'args': {'connector_input_payload': {}, 'connection_name': 'projects/formidable-feat-466408-r6/locations/us-central1/connections/google-drive-connection', 'service_name': 'projects/gc816baa67c8b42f8-tp/locations/us-central1/namespaces/cloudrun/services/runtime-tls', 'host': 'https://gc816baa67c8b42f8-tp-us-central1.us-central1-runtime-connectors-google.com', 'entity': None, 'operation': 'EXECUTE_ACTION', 'action': 'GET_files'}, 'name': 'drive_files_list'}}], 'role': 'model'}, 'usage_metadata': {'candidates_token_count': 10, 'candidates_tokens_details': [{'modality': <MediaModality.TEXT: 'TEXT'>, 'token_count': 10}], 'prompt_token_count': 549, 'prompt_tokens_details': [{'modality': <MediaModality.TEXT: 'TEXT'>, 'token_count': 549}], 'total_token_count': 559, 'traffic_type': <TrafficType.ON_DEMAND: 'ON_DEMAND'>}, 'invocation_id': 'e-fd503888-6d59-4b5e-a54d-8a6b4a6fbb1c', 'author': 'Gdrive_Agent', 'actions': {'state_delta': {}, 'artifact_delta': {}, 'requested_auth_configs': {}}, 'long_running_tool_ids': set(), 'id': 'b16a0e37-9af8-4470-b268-5d724e882750', 'timestamp': 1753512833.070711}\n",
      "{'content': {'parts': [{'function_response': {'id': 'adk-7b4a719b-c7e4-421b-8bc2-116711f5c5a4', 'name': 'drive_files_list', 'response': {'error': 'Tool drive_files_list execution failed. Analyze this execution error and your inputs. Retry with adjustments if applicable. But make sure don\\'t retry more than 3 times. Execution Error: {\\n  \"error\": {\\n    \"code\": 401,\\n    \"message\": \" \\'Auth Override is enabled for this connection but no dynamic auth config is provided. Please provide dynamic auth config either through task variable `dynamicAuthConfig` or Https header `X-AppInt-Credentials`\\'\\\\n\\\\t\\\\n\\\\teventMessages without params: \\'[name: \\\\\"ExecuteConnection\\\\\"\\\\nevent_info_id: \\\\\"5b3efa75-2d7b-4e4f-b019-9ef5cee80f87\\\\\"\\\\ntrigger_id: \\\\\"api_trigger/ExecuteConnection\\\\\"\\\\nclient_id: \\\\\"44474009687\\\\\"\\\\nexecution_state: FAILED\\\\ncloud_logging_details {\\\\n}\\\\nevent_bus_status: ACTIVE\\\\nsnapshot_number: 1\\\\nworkflow_origin: APPLICATION_IP_PROVISIONING\\\\n]\\'\\\\n\\\\terror/code: \\'common_error_code: INVALID_CREDENTIALS\\'\",\\n    \"status\": \"UNAUTHENTICATED\"\\n  }\\n}\\n'}}}], 'role': 'user'}, 'invocation_id': 'e-fd503888-6d59-4b5e-a54d-8a6b4a6fbb1c', 'author': 'Gdrive_Agent', 'actions': {'state_delta': {}, 'artifact_delta': {}, 'requested_auth_configs': {}}, 'id': 'ef724a1a-7d31-4c00-8871-1cf679342d75', 'timestamp': 1753512834.25628}\n",
      "{'content': {'parts': [{'text': \"It seems like I'm having trouble authenticating with Google Drive. To list your files, I need the correct permissions. Can you make sure that the Google Drive connection is properly configured and authorized?\\n\"}], 'role': 'model'}, 'usage_metadata': {'candidates_token_count': 41, 'candidates_tokens_details': [{'modality': <MediaModality.TEXT: 'TEXT'>, 'token_count': 41}], 'prompt_token_count': 1685, 'prompt_tokens_details': [{'modality': <MediaModality.TEXT: 'TEXT'>, 'token_count': 1685}], 'total_token_count': 1726, 'traffic_type': <TrafficType.ON_DEMAND: 'ON_DEMAND'>}, 'invocation_id': 'e-fd503888-6d59-4b5e-a54d-8a6b4a6fbb1c', 'author': 'Gdrive_Agent', 'actions': {'state_delta': {}, 'artifact_delta': {}, 'requested_auth_configs': {}}, 'id': 'af404a51-c0db-496b-8d0b-9b482f2b563d', 'timestamp': 1753512834.262188}\n"
     ]
    }
   ],
   "source": [
    "for event in app.stream_query(\n",
    "    user_id=\"1\",\n",
    "    # session_id=SESSION_ID, # Optional. you can pass in the session_id when querying the agent\n",
    "    message=\"list files on my gdrive\",\n",
    "):\n",
    "    print(event)"
   ]
  },
  {
   "cell_type": "code",
   "execution_count": 30,
   "id": "d2dd9148-e57e-4cc4-aed2-f7028356bcdd",
   "metadata": {
    "tags": []
   },
   "outputs": [],
   "source": [
    "session_service = VertexAiSessionService(project=PROJECT_ID, location=LOCATION)"
   ]
  },
  {
   "cell_type": "code",
   "execution_count": 39,
   "id": "a888617b-139e-423a-9205-d102478a78a8",
   "metadata": {
    "tags": []
   },
   "outputs": [],
   "source": [
    "# _session_id=\"session1\"\n",
    "# session = await session_service.create_session(app_name=app, user_id='user')"
   ]
  },
  {
   "cell_type": "code",
   "execution_count": 32,
   "id": "5397d4c5-43e5-4cb0-abc7-fe4d9a5d78f5",
   "metadata": {
    "tags": []
   },
   "outputs": [],
   "source": [
    "# runner = Runner(app_name=app, agent=gdrive_agent, session_service=session_service)"
   ]
  },
  {
   "cell_type": "code",
   "execution_count": 42,
   "id": "48633b45-77e0-400d-876f-aa3f38af95b0",
   "metadata": {
    "tags": []
   },
   "outputs": [],
   "source": [
    "# def get_response(runner, session, message):\n",
    "#     content = types.Content(role='user', parts=[types.Part(text=message)])\n",
    "#     events = runner.run(user_id=session.user_id, session_id=session.id, new_message=content)\n",
    "#     final_response = None\n",
    "#     for _, event in enumerate(events):\n",
    "#         print(event)\n",
    "#         is_final_response = event.is_final_response()\n",
    "#         if is_final_response:\n",
    "#             final_response = event.content.parts[0].text\n",
    "#     return final_response"
   ]
  },
  {
   "cell_type": "code",
   "execution_count": 45,
   "id": "dc1d7359-ff38-4465-bc1d-18ca6c4174de",
   "metadata": {
    "collapsed": true,
    "jupyter": {
     "outputs_hidden": true
    },
    "tags": []
   },
   "outputs": [
    {
     "name": "stderr",
     "output_type": "stream",
     "text": [
      "Exception in thread Thread-9 (_asyncio_thread_main):\n",
      "Traceback (most recent call last):\n",
      "  File \"/opt/conda/lib/python3.10/threading.py\", line 1016, in _bootstrap_inner\n",
      "    self.run()\n",
      "  File \"/opt/conda/lib/python3.10/site-packages/ipykernel/ipkernel.py\", line 766, in run_closure\n",
      "    _threading_Thread_run(self)\n",
      "  File \"/opt/conda/lib/python3.10/threading.py\", line 953, in run\n",
      "    self._target(*self._args, **self._kwargs)\n",
      "  File \"/opt/conda/lib/python3.10/site-packages/google/adk/runners.py\", line 158, in _asyncio_thread_main\n",
      "    asyncio.run(_invoke_run_async())\n",
      "  File \"/opt/conda/lib/python3.10/asyncio/runners.py\", line 44, in run\n",
      "    return loop.run_until_complete(main)\n",
      "  File \"/opt/conda/lib/python3.10/asyncio/base_events.py\", line 649, in run_until_complete\n",
      "    return future.result()\n",
      "  File \"/opt/conda/lib/python3.10/site-packages/google/adk/runners.py\", line 146, in _invoke_run_async\n",
      "    async for event in self.run_async(\n",
      "  File \"/opt/conda/lib/python3.10/site-packages/google/adk/runners.py\", line 196, in run_async\n",
      "    session = await self.session_service.get_session(\n",
      "  File \"/opt/conda/lib/python3.10/site-packages/google/adk/sessions/vertex_ai_session_service.py\", line 191, in get_session\n",
      "    reasoning_engine_id = self._get_reasoning_engine_id(app_name)\n",
      "  File \"/opt/conda/lib/python3.10/site-packages/google/adk/sessions/vertex_ai_session_service.py\", line 340, in _get_reasoning_engine_id\n",
      "    if app_name.isdigit():\n",
      "AttributeError: 'AdkApp' object has no attribute 'isdigit'\n"
     ]
    }
   ],
   "source": [
    "# resp = get_response(runner, session, \"list files on my gdrive\")\n",
    "# resp"
   ]
  },
  {
   "cell_type": "code",
   "execution_count": 44,
   "id": "b222fbfb-8a93-43cd-bf52-752bc82b0521",
   "metadata": {
    "tags": []
   },
   "outputs": [],
   "source": [
    "resp"
   ]
  },
  {
   "cell_type": "code",
   "execution_count": null,
   "id": "e113f105-de6d-4ae5-9358-01c10dce41d2",
   "metadata": {},
   "outputs": [],
   "source": []
  }
 ],
 "metadata": {
  "environment": {
   "kernel": "conda-base-py",
   "name": "workbench-notebooks.m131",
   "type": "gcloud",
   "uri": "us-docker.pkg.dev/deeplearning-platform-release/gcr.io/workbench-notebooks:m131"
  },
  "kernelspec": {
   "display_name": "Python 3 (ipykernel) (Local)",
   "language": "python",
   "name": "conda-base-py"
  },
  "language_info": {
   "codemirror_mode": {
    "name": "ipython",
    "version": 3
   },
   "file_extension": ".py",
   "mimetype": "text/x-python",
   "name": "python",
   "nbconvert_exporter": "python",
   "pygments_lexer": "ipython3",
   "version": "3.10.18"
  }
 },
 "nbformat": 4,
 "nbformat_minor": 5
}
