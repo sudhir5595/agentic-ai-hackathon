{
 "cells": [
  {
   "cell_type": "code",
   "execution_count": 1,
   "id": "7e016f66-12a2-460b-84c0-0a1a832c22cf",
   "metadata": {},
   "outputs": [],
   "source": [
    "PROJECT_ID = \"formidable-feat-466408-r6\"  # @param {type:\"string\"}\n",
    "LOCATION = \"us-central1\"  # @param {type:\"string\"}\n",
    "STAGING_BUCKET = \"gs://agentic_ai_ebooks_bucket\"  # @param {type:\"string\"}\n",
    "import vertexai\n",
    "vertexai.init(project=PROJECT_ID, location=LOCATION, staging_bucket=STAGING_BUCKET)"
   ]
  },
  {
   "cell_type": "code",
   "execution_count": 2,
   "id": "ccc1694b-0f7d-49ef-94b2-0507a803f990",
   "metadata": {
    "tags": []
   },
   "outputs": [],
   "source": [
    "from google import adk\n",
    "from google.adk.agents import Agent\n",
    "from vertexai import agent_engines\n",
    "from vertexai.preview.reasoning_engines import AdkApp\n",
    "from google.adk.sessions import InMemorySessionService, Session\n",
    "from google.adk.runners import Runner\n",
    "from google.genai.types import Content, Part\n",
    "from google.adk.sessions import VertexAiSessionService\n",
    "from google.adk.tools import google_search"
   ]
  },
  {
   "cell_type": "code",
   "execution_count": 3,
   "id": "aaa65776-5992-4b6d-8a3b-3fbeb57fd63b",
   "metadata": {
    "tags": []
   },
   "outputs": [],
   "source": [
    "from vertexai import rag\n",
    "from google.adk.tools.retrieval.vertex_ai_rag_retrieval import VertexAiRagRetrieval\n",
    "from vertexai.generative_models import GenerativeModel, Tool\n",
    "from google.genai import types # For types.Content\n",
    "from vertexai import generative_models\n",
    "import json"
   ]
  },
  {
   "cell_type": "code",
   "execution_count": 4,
   "id": "7b4120fa-3c88-4a27-89ad-7176a8f9c4f2",
   "metadata": {
    "tags": []
   },
   "outputs": [],
   "source": [
    "from google.adk.tools.application_integration_tool.application_integration_toolset import ApplicationIntegrationToolset"
   ]
  },
  {
   "cell_type": "code",
   "execution_count": 5,
   "id": "5c4033a2-ce2e-4819-8d37-cc0a81cf6a09",
   "metadata": {
    "tags": []
   },
   "outputs": [],
   "source": [
    "PROJECT_ID = \"formidable-feat-466408-r6\"  # @param {type:\"string\"}\n",
    "LOCATION = \"us-central1\"  # @param {type:\"string\"}\n",
    "STAGING_BUCKET = \"gs://agentic_ai_ebooks_bucket\"  # @param {type:\"string\"}"
   ]
  },
  {
   "cell_type": "code",
   "execution_count": 6,
   "id": "ca2acdaf-f462-4d7d-93ed-dcefc6785a1b",
   "metadata": {
    "tags": []
   },
   "outputs": [],
   "source": [
    "import os\n",
    "# os.environ[\"GOOGLE_APPLICATION_CREDENTIALS\"] = r\"service_account_details.json\""
   ]
  },
  {
   "cell_type": "code",
   "execution_count": 7,
   "id": "5b7ffe71-d300-4dbf-8446-fdf7f2e39a64",
   "metadata": {
    "tags": []
   },
   "outputs": [],
   "source": [
    "# with open(\"service_account_details.json\") as f:\n",
    "#     service_account_json = json.load(f)"
   ]
  },
  {
   "cell_type": "code",
   "execution_count": 8,
   "id": "dc441414-2195-48f2-b120-fb9fda2bcb2d",
   "metadata": {
    "tags": []
   },
   "outputs": [],
   "source": [
    "connector_tool = ApplicationIntegrationToolset(\n",
    "    project=PROJECT_ID, # TODO: replace with GCP project of the connection\n",
    "    location=LOCATION, #TODO: replace with location of the connection\n",
    "    # connection=f\"projects/{PROJECT_ID}/locations/{LOCATION}/connections/google-drive-connection\", #TODO: replace with connection name \"projects/genai-app-builder/locations/europe-central2/connections/gdrive-connection\", ##\n",
    "    connection=\"google-drive-connection\",\n",
    "    entity_operations={},##{\"Entity_One\": [\"LIST\",\"CREATE\"], \"Entity_Two\": []},#empty list for actions means all operations on the entity are supported.\n",
    "    actions=[\"GET_files\"], #TODO: replace with actions\n",
    "    # service_account_credentials=json.dumps(service_account_json),\n",
    "    # tool_name=\"tool_list_gdrive_files\",\n",
    "    tool_instructions=\"Use this tool to list gdrive files\"\n",
    ")"
   ]
  },
  {
   "cell_type": "code",
   "execution_count": 9,
   "id": "9d5964e5-e1b1-4b66-a09c-ed8a9dbf9451",
   "metadata": {
    "tags": []
   },
   "outputs": [],
   "source": [
    "agent_model = \"gemini-2.0-flash-001\"\n",
    "AGENT_APP_NAME = \"Gdrive_Agent\""
   ]
  },
  {
   "cell_type": "code",
   "execution_count": 15,
   "id": "346ff4ea-dbcd-4d2c-a976-86d04a7f959b",
   "metadata": {
    "tags": []
   },
   "outputs": [],
   "source": [
    "tools_list = await connector_tool.get_tools()"
   ]
  },
  {
   "cell_type": "code",
   "execution_count": 12,
   "id": "8458d79c-d885-4761-b9e6-3a14dcf3a2ad",
   "metadata": {
    "tags": []
   },
   "outputs": [],
   "source": [
    "# tools_list = connector_tool.get_tools()"
   ]
  },
  {
   "cell_type": "code",
   "execution_count": 16,
   "id": "5059d0ad-6a62-417d-9759-58c3e3ce0cde",
   "metadata": {
    "tags": []
   },
   "outputs": [],
   "source": [
    "gdrive_agent = Agent(\n",
    "        model=agent_model,\n",
    "        name=AGENT_APP_NAME,\n",
    "        description=\"You are helpful assitant\",\n",
    "        instruction=\"If they ask you how you were created, tell them you were created with the Google Agent Framework.\",\n",
    "        generate_content_config=types.GenerateContentConfig(temperature=0.2),\n",
    "        tools = tools_list,\n",
    ")"
   ]
  },
  {
   "cell_type": "code",
   "execution_count": 21,
   "id": "c04afe7c-a68c-4716-8ff2-2c2b6d0deace",
   "metadata": {
    "tags": []
   },
   "outputs": [],
   "source": [
    "app = AdkApp(\n",
    "   agent=gdrive_agent,\n",
    "    enable_tracing=True# Required.\n",
    "   # session_service_builder=session_service_builder,  # Optional.\n",
    ")"
   ]
  },
  {
   "cell_type": "code",
   "execution_count": 22,
   "id": "dc1d5ae6-3088-44bd-91f4-8cdc466fba84",
   "metadata": {
    "tags": []
   },
   "outputs": [],
   "source": [
    "session = app.create_session(user_id='user')"
   ]
  },
  {
   "cell_type": "code",
   "execution_count": 24,
   "id": "a0640d1b-9fd1-4e0c-91f7-e11684f258ab",
   "metadata": {
    "tags": []
   },
   "outputs": [
    {
     "name": "stderr",
     "output_type": "stream",
     "text": [
      "Warning: there are non-text parts in the response: ['function_call'], returning concatenated text result from text parts. Check the full candidates.content.parts accessor to get the full model response.\n"
     ]
    },
    {
     "name": "stdout",
     "output_type": "stream",
     "text": [
      "{'content': {'parts': [{'function_call': {'id': 'adk-7247f846-0cf9-42ec-8e6f-e697778cdd47', 'args': {'connector_input_payload': {}, 'connection_name': 'projects/formidable-feat-466408-r6/locations/us-central1/connections/google-drive-connection', 'service_name': 'projects/gc816baa67c8b42f8-tp/locations/us-central1/namespaces/cloudrun/services/runtime-tls', 'host': 'https://gc816baa67c8b42f8-tp-us-central1.us-central1-runtime-connectors-google.com', 'entity': None, 'operation': 'EXECUTE_ACTION', 'action': 'GET_files'}, 'name': 'drive_files_list'}}], 'role': 'model'}, 'usage_metadata': {'candidates_token_count': 10, 'candidates_tokens_details': [{'modality': <MediaModality.TEXT: 'TEXT'>, 'token_count': 10}], 'prompt_token_count': 549, 'prompt_tokens_details': [{'modality': <MediaModality.TEXT: 'TEXT'>, 'token_count': 549}], 'total_token_count': 559, 'traffic_type': <TrafficType.ON_DEMAND: 'ON_DEMAND'>}, 'invocation_id': 'e-fe54ac1f-569a-43e0-abce-5d75fff84c33', 'author': 'Gdrive_Agent', 'actions': {'state_delta': {}, 'artifact_delta': {}, 'requested_auth_configs': {}}, 'long_running_tool_ids': set(), 'id': '9a2d31a1-9e1e-40f0-a0cf-143347b73d32', 'timestamp': 1753528375.361756}\n",
      "{'content': {'parts': [{'function_response': {'id': 'adk-7247f846-0cf9-42ec-8e6f-e697778cdd47', 'name': 'drive_files_list', 'response': {'error': 'Tool drive_files_list execution failed. Analyze this execution error and your inputs. Retry with adjustments if applicable. But make sure don\\'t retry more than 3 times. Execution Error: {\\n  \"error\": {\\n    \"code\": 400,\\n    \"message\": \"No integrations found for the requested trigger_id api_trigger/ExecuteConnection and project 44474009687 The reason might be that either the requested trigger_id / project or both does not match any of the trigger configs.\",\\n    \"status\": \"INVALID_ARGUMENT\"\\n  }\\n}\\n'}}}], 'role': 'user'}, 'invocation_id': 'e-fe54ac1f-569a-43e0-abce-5d75fff84c33', 'author': 'Gdrive_Agent', 'actions': {'state_delta': {}, 'artifact_delta': {}, 'requested_auth_configs': {}}, 'id': 'd6e5a7c2-b7a1-4d48-9e77-7cf26e0d082e', 'timestamp': 1753528376.103986}\n",
      "{'content': {'parts': [{'text': 'I am sorry, I cannot fulfill this request. The tool returned an error. The error message indicates that there is an issue with the trigger ID or project configuration. Please check the configuration and try again.\\n'}], 'role': 'model'}, 'usage_metadata': {'candidates_token_count': 42, 'candidates_tokens_details': [{'modality': <MediaModality.TEXT: 'TEXT'>, 'token_count': 42}], 'prompt_token_count': 1542, 'prompt_tokens_details': [{'modality': <MediaModality.TEXT: 'TEXT'>, 'token_count': 1542}], 'total_token_count': 1584, 'traffic_type': <TrafficType.ON_DEMAND: 'ON_DEMAND'>}, 'invocation_id': 'e-fe54ac1f-569a-43e0-abce-5d75fff84c33', 'author': 'Gdrive_Agent', 'actions': {'state_delta': {}, 'artifact_delta': {}, 'requested_auth_configs': {}}, 'id': '98f6ec6c-6ff5-4a40-967c-e68cd5a0440f', 'timestamp': 1753528376.110115}\n"
     ]
    }
   ],
   "source": [
    "for event in app.stream_query(\n",
    "    user_id=\"user\",\n",
    "    # session_id=SESSION_ID, # Optional. you can pass in the session_id when querying the agent\n",
    "    message=\"list files on my gdrive\",\n",
    "):\n",
    "    print(event)"
   ]
  },
  {
   "cell_type": "code",
   "execution_count": null,
   "id": "3b47bd55-da37-4346-8ae1-c7190c700119",
   "metadata": {
    "tags": []
   },
   "outputs": [],
   "source": [
    "print(\"hello\")"
   ]
  },
  {
   "cell_type": "code",
   "execution_count": 30,
   "id": "d2dd9148-e57e-4cc4-aed2-f7028356bcdd",
   "metadata": {
    "tags": []
   },
   "outputs": [],
   "source": [
    "session_service = VertexAiSessionService(project=PROJECT_ID, location=LOCATION)"
   ]
  },
  {
   "cell_type": "code",
   "execution_count": 39,
   "id": "a888617b-139e-423a-9205-d102478a78a8",
   "metadata": {
    "tags": []
   },
   "outputs": [],
   "source": [
    "# _session_id=\"session1\"\n",
    "# session = await session_service.create_session(app_name=app, user_id='user')"
   ]
  },
  {
   "cell_type": "code",
   "execution_count": 32,
   "id": "5397d4c5-43e5-4cb0-abc7-fe4d9a5d78f5",
   "metadata": {
    "tags": []
   },
   "outputs": [],
   "source": [
    "# runner = Runner(app_name=app, agent=gdrive_agent, session_service=session_service)"
   ]
  },
  {
   "cell_type": "code",
   "execution_count": 44,
   "id": "b222fbfb-8a93-43cd-bf52-752bc82b0521",
   "metadata": {
    "tags": []
   },
   "outputs": [],
   "source": [
    "resp"
   ]
  }
 ],
 "metadata": {
  "environment": {
   "kernel": "conda-base-py",
   "name": "workbench-notebooks.m131",
   "type": "gcloud",
   "uri": "us-docker.pkg.dev/deeplearning-platform-release/gcr.io/workbench-notebooks:m131"
  },
  "kernelspec": {
   "display_name": "Python 3 (ipykernel) (Local)",
   "language": "python",
   "name": "conda-base-py"
  },
  "language_info": {
   "codemirror_mode": {
    "name": "ipython",
    "version": 3
   },
   "file_extension": ".py",
   "mimetype": "text/x-python",
   "name": "python",
   "nbconvert_exporter": "python",
   "pygments_lexer": "ipython3",
   "version": "3.10.18"
  }
 },
 "nbformat": 4,
 "nbformat_minor": 5
}
