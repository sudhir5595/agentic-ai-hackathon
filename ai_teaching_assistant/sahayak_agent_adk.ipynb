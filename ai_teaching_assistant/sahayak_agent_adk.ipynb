{
 "cells": [
  {
   "cell_type": "markdown",
   "id": "c9ec5f48-5262-4b90-b182-960df8492941",
   "metadata": {},
   "source": [
    "### Import Libraries"
   ]
  },
  {
   "cell_type": "code",
   "execution_count": 67,
   "id": "4a916335-081b-4cee-a5f6-34ac151f2a02",
   "metadata": {
    "tags": []
   },
   "outputs": [],
   "source": [
    "PROJECT_ID = \"formidable-feat-466408-r6\"  # @param {type:\"string\"}\n",
    "LOCATION = \"us-central1\"  # @param {type:\"string\"}\n",
    "STAGING_BUCKET = \"gs://agentic_ai_ebooks_bucket\"  # @param {type:\"string\"}\n",
    "import vertexai\n",
    "vertexai.init(project=PROJECT_ID, location=LOCATION, staging_bucket=STAGING_BUCKET)"
   ]
  },
  {
   "cell_type": "code",
   "execution_count": 53,
   "id": "45db0c9d-eadb-41db-8b81-0675793261f0",
   "metadata": {
    "tags": []
   },
   "outputs": [],
   "source": [
    "from google import adk\n",
    "from google.adk.agents import Agent\n",
    "from vertexai import agent_engines\n",
    "from vertexai.preview.reasoning_engines import AdkApp\n",
    "from google.adk.sessions import InMemorySessionService, Session\n",
    "from google.adk.runners import Runner\n",
    "from google.genai.types import Content, Part\n",
    "from google.adk.sessions import VertexAiSessionService\n",
    "from google.adk.tools import google_search"
   ]
  },
  {
   "cell_type": "code",
   "execution_count": 54,
   "id": "01b8ab61-7efa-41da-bcd4-599d32ab89ba",
   "metadata": {
    "tags": []
   },
   "outputs": [],
   "source": [
    "from vertexai import rag\n",
    "from google.adk.tools.retrieval.vertex_ai_rag_retrieval import VertexAiRagRetrieval\n",
    "from vertexai.generative_models import GenerativeModel, Tool\n",
    "from vertexai import generative_models"
   ]
  },
  {
   "cell_type": "code",
   "execution_count": 55,
   "id": "0477700f-d77d-4ac8-9808-1042c3226840",
   "metadata": {
    "tags": []
   },
   "outputs": [],
   "source": [
    "import logging\n",
    "from pydantic_settings import BaseSettings, SettingsConfigDict\n",
    "from pydantic import BaseModel, Field"
   ]
  },
  {
   "cell_type": "code",
   "execution_count": 56,
   "id": "a36dc013-cd04-431e-b4f4-d8c78a2a34ef",
   "metadata": {
    "tags": []
   },
   "outputs": [],
   "source": [
    "import yaml\n",
    "from typing import Optional\n",
    "from typing import Sequence\n",
    "from google.genai import types # For types.Content\n",
    "from IPython.display import HTML, Markdown, display\n",
    "import warnings\n",
    "# warnings.filterwarnings(\"ignore\")"
   ]
  },
  {
   "cell_type": "code",
   "execution_count": 6,
   "id": "c0c57fff-8216-4d39-bd32-c187b5469c9d",
   "metadata": {
    "tags": []
   },
   "outputs": [],
   "source": [
    "# from langchain_core.prompts import ChatPromptTemplate, MessagesPlaceholder\n",
    "# from langchain_core.messages import HumanMessage, AIMessage"
   ]
  },
  {
   "cell_type": "code",
   "execution_count": 7,
   "id": "71ab827e-d206-4f6b-8f60-5075fc217ca9",
   "metadata": {
    "tags": []
   },
   "outputs": [],
   "source": [
    "# from langchain_core.language_models import BaseLanguageModel\n",
    "# from langchain_core.prompts import BasePromptTemplate\n",
    "# from langchain_core.tools import BaseTool\n",
    "# from langchain import hub\n",
    "# from langchain_core.tools import tool"
   ]
  },
  {
   "cell_type": "code",
   "execution_count": 57,
   "id": "d22cdc9f-f951-477c-910b-f98e1e7cb3b6",
   "metadata": {
    "tags": []
   },
   "outputs": [],
   "source": [
    "agent_model = \"gemini-2.0-flash-001\""
   ]
  },
  {
   "cell_type": "code",
   "execution_count": 58,
   "id": "b9ec029b-9020-4aa5-b5bf-cdf9c7e0c1b8",
   "metadata": {
    "tags": []
   },
   "outputs": [],
   "source": [
    "from google.genai import types\n",
    "\n",
    "safety_settings = [\n",
    "    types.SafetySetting(\n",
    "        category=types.HarmCategory.HARM_CATEGORY_DANGEROUS_CONTENT,\n",
    "        threshold=types.HarmBlockThreshold.OFF,\n",
    "    ),\n",
    "]"
   ]
  },
  {
   "cell_type": "markdown",
   "id": "9f086201-e020-4291-a71c-537d241a6264",
   "metadata": {},
   "source": [
    "### Tools"
   ]
  },
  {
   "cell_type": "code",
   "execution_count": 59,
   "id": "392b6325-db40-4eb4-bf55-60642e58b7a0",
   "metadata": {
    "tags": []
   },
   "outputs": [],
   "source": [
    "rag_resource_name = 'projects/44474009687/locations/us-central1/ragCorpora/6917529027641081856'"
   ]
  },
  {
   "cell_type": "code",
   "execution_count": 60,
   "id": "05bcde7a-b729-450e-b01c-b96a41b1da9f",
   "metadata": {
    "tags": []
   },
   "outputs": [],
   "source": [
    "rag_retrieval_tool = VertexAiRagRetrieval(\n",
    "    name='retrieve_rag_documentation',\n",
    "    description=(\n",
    "        'Use this tool to retrieve documentation and reference materials for the question from the RAG corpus,'\n",
    "    ),\n",
    "    rag_resources=[\n",
    "        rag.RagResource(\n",
    "            # please fill in your own rag corpus\n",
    "            # here is a sample rag corpus for testing purpose\n",
    "            # e.g. projects/123/locations/us-central1/ragCorpora/456\n",
    "            rag_corpus=rag_resource_name\n",
    "        )\n",
    "    ],\n",
    "    similarity_top_k=10,\n",
    "    vector_distance_threshold=0.6,\n",
    ")"
   ]
  },
  {
   "cell_type": "code",
   "execution_count": 61,
   "id": "076f3273-f0dc-4bb0-8304-e5787a92d033",
   "metadata": {
    "tags": []
   },
   "outputs": [],
   "source": [
    "agent = Agent(\n",
    "    model=agent_model,\n",
    "    name=\"Classroom_Agent\",\n",
    "    instruction=(\"A personalized AI learning assistant for balbharati and Grade first standard, named balbharati part 1,2,3 and 4. This agent serves to help students understand concepts, review material, and prepare for assessments. Its knowledge is strictly limited to the content within the official course textbook(s). This agent will be used by teachers\"),\n",
    "    # instruction=react_prompt,\n",
    "    description=(\"# CORE IDENTITY \\\n",
    "-   You are AI learning agent an expert AI tutor for Grade first standard. \\\n",
    "-   Your designated persona is to help students and will be used by teachers. Maintain this tone and interaction style consistently.\\\n",
    "# KNOWLEDGE GROUNDING (ABSOLUTE DIRECTIVE) \\\n",
    "-   Your knowledge base is STRICTLY and EXCLUSIVELY limited to the content of the document provided to you. \\\n",
    "-   You MUST base all of your answers, explanations, and examples on information found within these source materials. \\\n",
    "-   If a question cannot be answered using the provided texts, you MUST state that clearly. For example, say: I cannot answer that question as the information is not available in 'Patterns of Interaction'. \\\n",
    "-   DO NOT, under any circumstances, use external knowledge, access the general internet, or invent information. Your reality is defined by the classroom books. \\\n",
    "# CITATION REQUIREMENT \\\n",
    "-   For every answer you provide, you MUST cite the specific location in the source material where the information was found (e.g., According to Chapter 3, Section 2 of '[Textbook Title]'...). This is non-negotiable and reinforces your grounding. \\\n",
    "# INTERACTION PROTOCOL \\\n",
    "-   Your primary goal is to help students learn, not to give them shortcuts. \\\n",
    "-   Engage with students based on your persona. If you are a 'Socratic Tutor,' ask follow-up questions to stimulate critical thinking. If you are a 'Study Buddy,' use encouraging and collaborative language. \\\n",
    "-   Adhere to the following specific behavioral rules: \\\n",
    "    -   Answer the question in the local language of the textbooks. \\\n",
    "    -   If specifically asked to generate in English then only generate in Elnglish language \\\n",
    "# SCOPE AND SAFETY \\\n",
    "-   Politely decline to answer questions that are off-topic, personal, or outside the academic scope of Subject. \\\n",
    "-   Do not engage in debates or express opinions. Your function is to relay and explain the information from your source texts.\"\n",
    "    ),\n",
    "    tools=[rag_retrieval_tool],  \n",
    ")"
   ]
  },
  {
   "cell_type": "code",
   "execution_count": 62,
   "id": "2f96f522-25d1-41df-9da0-2258dbd14ce0",
   "metadata": {
    "tags": []
   },
   "outputs": [],
   "source": [
    "app = AdkApp(\n",
    "   agent=agent,\n",
    "    enable_tracing=True# Required.\n",
    "   # session_service_builder=session_service_builder,  # Optional.\n",
    ")"
   ]
  },
  {
   "cell_type": "code",
   "execution_count": 63,
   "id": "5b9bc2b7-91f0-4c77-bfcf-21194729a60d",
   "metadata": {
    "tags": []
   },
   "outputs": [
    {
     "name": "stdout",
     "output_type": "stream",
     "text": [
      "Agent created successfully\n"
     ]
    }
   ],
   "source": [
    "# This will create a session locally for interaction\n",
    "session = app.create_session(user_id=\"123\")\n",
    "for event in app.stream_query(\n",
    "    user_id=\"123\",\n",
    "    session_id=session.id,\n",
    "    message=\"hello!\",\n",
    "):\n",
    "    if event.get(\"content\", None):\n",
    "        print(\n",
    "            f\"Agent created successfully\"\n",
    "        )"
   ]
  },
  {
   "cell_type": "code",
   "execution_count": 64,
   "id": "8ffa72c9-2f31-4427-8572-5b6ff94f177f",
   "metadata": {
    "tags": []
   },
   "outputs": [
    {
     "data": {
      "text/plain": [
       "Session(id='2aec0032-1bdd-4a5f-be0d-3979227ee30e', app_name='default-app-name', user_id='123', state={}, events=[], last_update_time=1753452215.4983802)"
      ]
     },
     "execution_count": 64,
     "metadata": {},
     "output_type": "execute_result"
    }
   ],
   "source": [
    "session"
   ]
  },
  {
   "cell_type": "code",
   "execution_count": null,
   "id": "a03d6434-2e92-43aa-bc26-0e139e66f16c",
   "metadata": {},
   "outputs": [],
   "source": []
  },
  {
   "cell_type": "code",
   "execution_count": 8,
   "id": "fce8ca09-41d6-40c5-b4cb-e434c3d8285b",
   "metadata": {
    "tags": []
   },
   "outputs": [],
   "source": [
    "# def greetings(query: str):\n",
    "#   \"\"\"Tool to greet user.\"\"\"\n",
    "#   if 'hello' in query.lower():\n",
    "#     return {\"greeting\": \"Hello, world\"}\n",
    "#   else:\n",
    "#     return {\"greeting\": \"Goodbye, world\"}\n",
    "\n",
    "# # Define an ADK agent\n",
    "# root_agent = adk.Agent(\n",
    "#     model=\"gemini-2.0-flash\",\n",
    "#     name='my_agent',\n",
    "#     instruction=\"You are an Agent that greet users, always use greetings tool to respond.\",\n",
    "#     tools=[greetings]\n",
    "# )"
   ]
  },
  {
   "cell_type": "code",
   "execution_count": 10,
   "id": "7c2c0e3f-f673-4fa9-af80-2f01af7bd2f8",
   "metadata": {
    "tags": []
   },
   "outputs": [],
   "source": [
    "# session_service = VertexAiSessionService(project=PROJECT_ID, location=LOCATION)"
   ]
  },
  {
   "cell_type": "code",
   "execution_count": 26,
   "id": "bfea7d95-657a-453e-9922-5e2279dc0e7b",
   "metadata": {
    "tags": []
   },
   "outputs": [],
   "source": [
    "# runner = adk.Runner(\n",
    "#     agent=root_agent,\n",
    "#     app_name='projects/44474009687/locations/us-central1/reasoningEngines/7395007345165598720',\n",
    "#     session_service=session_service)"
   ]
  },
  {
   "cell_type": "code",
   "execution_count": 23,
   "id": "72089531-c481-41f0-bfd3-cc95bab86cba",
   "metadata": {
    "tags": []
   },
   "outputs": [],
   "source": [
    "# runner = adk.Runner(\n",
    "#     agent=root_agent,\n",
    "#     app_name='Test',\n",
    "#     session_service=session_service)"
   ]
  },
  {
   "cell_type": "code",
   "execution_count": 33,
   "id": "c727a9b7-c01d-4961-867a-e1929fcf0c81",
   "metadata": {
    "tags": []
   },
   "outputs": [],
   "source": [
    "# Helper method to send query to the runner\n",
    "# def call_agent(query, session_id, user_id):\n",
    "#     content = types.Content(role='user', parts=[types.Part(text=query)])\n",
    "#     events = runner.run(\n",
    "#       user_id=user_id, session_id=session_id, new_message=content)\n",
    "#     for event in events:\n",
    "#         if event.is_final_response():\n",
    "#             final_response = event.content.parts[0].text\n",
    "#             print(\"Agent Response: \", final_response)"
   ]
  },
  {
   "cell_type": "code",
   "execution_count": 18,
   "id": "0854d83a-246c-4c20-a007-486146eb059b",
   "metadata": {
    "tags": []
   },
   "outputs": [
    {
     "data": {
      "text/plain": [
       "'Sahayak_Agent'"
      ]
     },
     "execution_count": 18,
     "metadata": {},
     "output_type": "execute_result"
    }
   ],
   "source": [
    "# agent.name.split(\"/\")[-1]"
   ]
  },
  {
   "cell_type": "code",
   "execution_count": 18,
   "id": "152477a1-79ad-403a-a42d-4ccd891e1375",
   "metadata": {
    "tags": []
   },
   "outputs": [],
   "source": [
    "# Create a session\n",
    "# session = await session_service.create_session(\n",
    "#        app_name='projects/44474009687/locations/us-central1/reasoningEngines/7395007345165598720',\n",
    "#        user_id='memory_test_5')"
   ]
  },
  {
   "cell_type": "code",
   "execution_count": 65,
   "id": "85ccd30e-2d37-4447-8b8b-5aaede86012b",
   "metadata": {
    "tags": []
   },
   "outputs": [
    {
     "name": "stdout",
     "output_type": "stream",
     "text": [
      "{'content': {'parts': [{'text': \"२१ व्या शतकातील कौशल्ये खालीलप्रमाणे आहेत:\\n\\n*   चिकित्सक विचार (Critical Thinking)\\n*   माहिती (Information)\\n*   लवचीकता (Flexibility)\\n*   नेतृत्व (Leadership)\\n*   पुढाकार (Initiative)\\n*   उत्पादकता (Productivity)\\n*   सामाजिक कौशल्ये (Social Skills)\\n*   माध्यम (Media)\\n*   तंत्रज्ञान (Technology)\\n*   सर्जनशीलता (Creativity)\\n*   सहकार्य (Collaboration)\\n*   संप्रेषण (Communication)\\n*   अध्ययन कौशल्ये (Learning Skills)\\n*   साक्षरता कौशल्ये (Literacy Skills)\\n*   जीवन कौशल्ये (Life Skills) ('Balbharati Part 1', 'Balbharati Part 2', 'Balbharati Part 3' आणि 'Balbharati Part 4')\"}], 'role': 'model'}, 'grounding_metadata': {'grounding_chunks': [{'retrieved_context': {'rag_chunk': {'page_span': {'first_page': 12, 'last_page': 13}, 'text': 'लिही.\\r\\n(Write.)\\r\\nऐक व म्हण.\\r\\n(Listen and say.)\\r\\nकृती कर.\\r\\n(Do activity.)\\r\\nमैदानी खेळ\\r\\n(Outdoor games)\\r\\nरंग भर. \\r\\n(Fill the colours.)\\r\\nचर्चा कर.\\r\\n(Discuss.)\\r\\nकोडी सोडव.\\r\\n(Solve the puzzles.)\\r\\nपाठ्यपुस्तकात वापरण्यात आलेल्या प्रतीकांची ओळख\\r\\n(Introduction of emojis used in the textbook)२१ व्या शतकातील कौशल्ये\\r\\n(21st century skills)\\r\\n\\uf0c6\\r\\n\\uf0c6\\r\\n\\uf0c6\\r\\nचिकित्सक विचार\\r\\nCritical Thinking\\r\\nमाहिती \\r\\nInformation\\r\\nलवचीकता\\r\\nFlexibility\\r\\nनेतृत्व\\r\\nLeadership\\r\\nपुढाकार\\r\\nInitiative\\r\\nउत्पादकता\\r\\nProductivity\\r\\nसामाजिक कौशल्ये\\r\\nSocial Skills\\r\\nमाध्यम\\r\\nMedia\\r\\nतंत्रज्ञान\\r\\nTechnology\\r\\nसर्जनशीलता \\r\\nCreativity\\r\\nसहकार्य\\r\\nCollaboration\\r\\nसंप्रेषण\\r\\nCommunication\\r\\nअध्ययन\\r\\nकौशल्ये\\r\\nLearning \\r\\nSkills\\r\\nसाक्षरता \\r\\nकौशल्ये\\r\\nLiteracy \\r\\nSkills\\r\\nजीवन\\r\\nकौशल्ये\\r\\nLife'}, 'text': 'लिही.\\r\\n(Write.)\\r\\nऐक व म्हण.\\r\\n(Listen and say.)\\r\\nकृती कर.\\r\\n(Do activity.)\\r\\nमैदानी खेळ\\r\\n(Outdoor games)\\r\\nरंग भर. \\r\\n(Fill the colours.)\\r\\nचर्चा कर.\\r\\n(Discuss.)\\r\\nकोडी सोडव.\\r\\n(Solve the puzzles.)\\r\\nपाठ्यपुस्तकात वापरण्यात आलेल्या प्रतीकांची ओळख\\r\\n(Introduction of emojis used in the textbook)२१ व्या शतकातील कौशल्ये\\r\\n(21st century skills)\\r\\n\\uf0c6\\r\\n\\uf0c6\\r\\n\\uf0c6\\r\\nचिकित्सक विचार\\r\\nCritical Thinking\\r\\nमाहिती \\r\\nInformation\\r\\nलवचीकता\\r\\nFlexibility\\r\\nनेतृत्व\\r\\nLeadership\\r\\nपुढाकार\\r\\nInitiative\\r\\nउत्पादकता\\r\\nProductivity\\r\\nसामाजिक कौशल्ये\\r\\nSocial Skills\\r\\nमाध्यम\\r\\nMedia\\r\\nतंत्रज्ञान\\r\\nTechnology\\r\\nसर्जनशीलता \\r\\nCreativity\\r\\nसहकार्य\\r\\nCollaboration\\r\\nसंप्रेषण\\r\\nCommunication\\r\\nअध्ययन\\r\\nकौशल्ये\\r\\nLearning \\r\\nSkills\\r\\nसाक्षरता \\r\\nकौशल्ये\\r\\nLiteracy \\r\\nSkills\\r\\nजीवन\\r\\nकौशल्ये\\r\\nLife', 'title': 'balbharati_part_4.pdf', 'uri': 'https://drive.google.com/file/d/1p6bbaOMT6BKiuH9YylZOmbhq-MJgAxtm/view?usp=drivesdk'}}, {'retrieved_context': {'rag_chunk': {'page_span': {'first_page': 12, 'last_page': 13}, 'text': '(Sing a song.)\\r\\nबैठे खेळ\\r\\n(Indoor games)\\r\\nनिरीक्षण कर.\\r\\n(Observe.)\\r\\nमोज व सांग.\\r\\n(Count and tell.)\\r\\nवर्गीकरण कर.\\r\\n(Classify.)\\r\\nवाच. (Read.)\\r\\nसंवाद साध.\\r\\n(Converse.)\\r\\nचिकित्सक विचार कर.\\r\\n(Think critically.)\\r\\nपुढील संबोधाकडे\\r\\n(Towards the next concept)\\r\\nबघ व कर.\\r\\n(Look and do.)\\r\\nअभिनय कर.\\r\\n(Enact.)\\r\\nलिही.\\r\\n(Write.)\\r\\nऐक व म्हण.\\r\\n(Listen and say.)\\r\\nकृती कर.\\r\\n(Do activity.)\\r\\nमैदानी खेळ\\r\\n(Outdoor games)\\r\\nरंग भर. \\r\\n(Fill the colours.)\\r\\nचर्चा कर.\\r\\n(Discuss.)\\r\\nकोडी सोडव.\\r\\n(Solve the puzzles.)\\r\\nपाठ्यपुस्तकात वापरण्यात आलेल्या प्रतीकांची ओळख\\r\\n(Introduction of emojis used in the textbook)२१ व्या शतकातील कौशल्ये\\r\\n(21st century skills)\\r\\n\\uf0c6\\r\\n\\uf0c6\\r\\n\\uf0c6\\r\\nचिकित्सक विचार\\r\\nCritical Thinking\\r\\nमाहिती \\r\\nInformation\\r\\nलवचीकता\\r\\nFlexibility\\r\\nनेतृत्व\\r\\nLeadership\\r\\nपुढाकार\\r\\nInitiative\\r\\nउत्पादकता\\r\\nProductivity\\r\\nसामाजिक कौशल्ये\\r\\nSocial'}, 'text': '(Sing a song.)\\r\\nबैठे खेळ\\r\\n(Indoor games)\\r\\nनिरीक्षण कर.\\r\\n(Observe.)\\r\\nमोज व सांग.\\r\\n(Count and tell.)\\r\\nवर्गीकरण कर.\\r\\n(Classify.)\\r\\nवाच. (Read.)\\r\\nसंवाद साध.\\r\\n(Converse.)\\r\\nचिकित्सक विचार कर.\\r\\n(Think critically.)\\r\\nपुढील संबोधाकडे\\r\\n(Towards the next concept)\\r\\nबघ व कर.\\r\\n(Look and do.)\\r\\nअभिनय कर.\\r\\n(Enact.)\\r\\nलिही.\\r\\n(Write.)\\r\\nऐक व म्हण.\\r\\n(Listen and say.)\\r\\nकृती कर.\\r\\n(Do activity.)\\r\\nमैदानी खेळ\\r\\n(Outdoor games)\\r\\nरंग भर. \\r\\n(Fill the colours.)\\r\\nचर्चा कर.\\r\\n(Discuss.)\\r\\nकोडी सोडव.\\r\\n(Solve the puzzles.)\\r\\nपाठ्यपुस्तकात वापरण्यात आलेल्या प्रतीकांची ओळख\\r\\n(Introduction of emojis used in the textbook)२१ व्या शतकातील कौशल्ये\\r\\n(21st century skills)\\r\\n\\uf0c6\\r\\n\\uf0c6\\r\\n\\uf0c6\\r\\nचिकित्सक विचार\\r\\nCritical Thinking\\r\\nमाहिती \\r\\nInformation\\r\\nलवचीकता\\r\\nFlexibility\\r\\nनेतृत्व\\r\\nLeadership\\r\\nपुढाकार\\r\\nInitiative\\r\\nउत्पादकता\\r\\nProductivity\\r\\nसामाजिक कौशल्ये\\r\\nSocial', 'title': 'balbharati_part_4.pdf', 'uri': 'gs://agentic_ai_ebooks_bucket/classroom_books/balbharati_part_4.pdf'}}, {'retrieved_context': {'rag_chunk': {'page_span': {'first_page': 12, 'last_page': 13}, 'text': '(Observe.)\\r\\nमोज व सांग.\\r\\n(Count and tell.)\\r\\nवर्गीकरण कर.\\r\\n(Classify.)\\r\\nवाच. (Read.)\\r\\nसंवाद साध.\\r\\n(Converse.)\\r\\nचिकित्सक विचार कर.\\r\\n(Think critically.)\\r\\nपुढील संबोधाकडे\\r\\n(Towards the next concept)\\r\\nबघ व कर.\\r\\n(Look and do.)\\r\\nअभिनय कर.\\r\\n(Enact.)\\r\\nलिही.\\r\\n(Write.)\\r\\nऐक व म्हण.\\r\\n(Listen and say.)\\r\\nकृती कर.\\r\\n(Do activity.)\\r\\nमैदानी खेळ\\r\\n(Outdoor games)\\r\\nरंग भर. \\r\\n(Fill the colours.)\\r\\nचर्चा कर.\\r\\n(Discuss.)\\r\\nकोडी सोडव.\\r\\n(Solve the puzzles.)\\r\\nपाठ्यपुस्तकात वापरण्यात आलेल्या प्रतीकांची ओळख\\r\\n(Introduction of emojis used in the textbook)भावना\\r\\nFeelings\\r\\nफायदे\\r\\nBenefits\\r\\nतथ्ये/वस्तुस्थिती\\r\\nFacts\\r\\nसर्जनशीलता\\r\\nCreativity\\r\\nप्रक्रिया\\r\\nProcess\\r\\nतोटे\\r\\nDisadvantages\\r\\nSix Thinking Hats\\r\\nThe Different Uses\\r\\nThe Picture Brainstorming\\r\\nConstruction Question\\r\\n२१ व्या शतकातील कौशल्ये\\r\\n(21st century skills)\\r\\n\\uf0c6\\r\\n\\uf0c6\\r\\n\\uf0c6\\r\\nचिकित्सक विचार\\r\\nCritical Thinking\\r\\nमाहिती'}, 'text': '(Observe.)\\r\\nमोज व सांग.\\r\\n(Count and tell.)\\r\\nवर्गीकरण कर.\\r\\n(Classify.)\\r\\nवाच. (Read.)\\r\\nसंवाद साध.\\r\\n(Converse.)\\r\\nचिकित्सक विचार कर.\\r\\n(Think critically.)\\r\\nपुढील संबोधाकडे\\r\\n(Towards the next concept)\\r\\nबघ व कर.\\r\\n(Look and do.)\\r\\nअभिनय कर.\\r\\n(Enact.)\\r\\nलिही.\\r\\n(Write.)\\r\\nऐक व म्हण.\\r\\n(Listen and say.)\\r\\nकृती कर.\\r\\n(Do activity.)\\r\\nमैदानी खेळ\\r\\n(Outdoor games)\\r\\nरंग भर. \\r\\n(Fill the colours.)\\r\\nचर्चा कर.\\r\\n(Discuss.)\\r\\nकोडी सोडव.\\r\\n(Solve the puzzles.)\\r\\nपाठ्यपुस्तकात वापरण्यात आलेल्या प्रतीकांची ओळख\\r\\n(Introduction of emojis used in the textbook)भावना\\r\\nFeelings\\r\\nफायदे\\r\\nBenefits\\r\\nतथ्ये/वस्तुस्थिती\\r\\nFacts\\r\\nसर्जनशीलता\\r\\nCreativity\\r\\nप्रक्रिया\\r\\nProcess\\r\\nतोटे\\r\\nDisadvantages\\r\\nSix Thinking Hats\\r\\nThe Different Uses\\r\\nThe Picture Brainstorming\\r\\nConstruction Question\\r\\n२१ व्या शतकातील कौशल्ये\\r\\n(21st century skills)\\r\\n\\uf0c6\\r\\n\\uf0c6\\r\\n\\uf0c6\\r\\nचिकित्सक विचार\\r\\nCritical Thinking\\r\\nमाहिती', 'title': 'balbharati_part_2.pdf', 'uri': 'gs://agentic_ai_ebooks_bucket/classroom_books/balbharati_part_2.pdf'}}, {'retrieved_context': {'rag_chunk': {'page_span': {'first_page': 13, 'last_page': 15}, 'text': 'Thinking Hats\\r\\nThe Different Uses\\r\\nThe Picture Brainstorming\\r\\nConstruction Question\\r\\n२१ व्या शतकातील कौशल्ये\\r\\n(21st century skills)\\r\\n\\uf0c6\\r\\n\\uf0c6\\r\\n\\uf0c6\\r\\nचिकित्सक विचार\\r\\nCritical Thinking\\r\\nमाहिती \\r\\nInformation\\r\\nलवचीकता\\r\\nFlexibility\\r\\nनेतृत्व\\r\\nLeadership\\r\\nपुढाकार\\r\\nInitiative\\r\\nउत्पादकता\\r\\nProductivity\\r\\nसामाजिक कौशल्ये\\r\\nSocial Skills\\r\\nमाध्यम\\r\\nMedia\\r\\nतंत्रज्ञान\\r\\nTechnology\\r\\nसर्जनशीलता \\r\\nCreativity\\r\\nसहकार्य\\r\\nCollaboration\\r\\nसंप्रेषण\\r\\nCommunication\\r\\nअध्ययन\\r\\nकौशल्ये\\r\\nLearning \\r\\nSkills\\r\\nसाक्षरता \\r\\nकौशल्ये\\r\\nLiteracy \\r\\nSkills\\r\\nजीवन\\r\\nकौशल्ये\\r\\nLife \\r\\nSkills\\r\\nपाणी (Water)\\r\\nपाण्याचे स्रोत\\r\\n(Sources of water)\\r\\nपाण्याचे उपयोग\\r\\n(Uses of water)\\r\\nपाण्याचे महत्त्व\\r\\n(Importance of water)\\r\\nपाणी बचत करण्याप्रती माझी जबाबदारी\\r\\n(My responsibilities towards saving water)\\r\\nWhat if... \\r\\nThinker Keys1\\r\\nपाणी (water)2\\r\\nआला पाऊस आला (It’s raining)\\r\\nपाऊस पडतो, सर सर सर \\r\\nघरी चला रे, भर भर भर !'}, 'text': 'Thinking Hats\\r\\nThe Different Uses\\r\\nThe Picture Brainstorming\\r\\nConstruction Question\\r\\n२१ व्या शतकातील कौशल्ये\\r\\n(21st century skills)\\r\\n\\uf0c6\\r\\n\\uf0c6\\r\\n\\uf0c6\\r\\nचिकित्सक विचार\\r\\nCritical Thinking\\r\\nमाहिती \\r\\nInformation\\r\\nलवचीकता\\r\\nFlexibility\\r\\nनेतृत्व\\r\\nLeadership\\r\\nपुढाकार\\r\\nInitiative\\r\\nउत्पादकता\\r\\nProductivity\\r\\nसामाजिक कौशल्ये\\r\\nSocial Skills\\r\\nमाध्यम\\r\\nMedia\\r\\nतंत्रज्ञान\\r\\nTechnology\\r\\nसर्जनशीलता \\r\\nCreativity\\r\\nसहकार्य\\r\\nCollaboration\\r\\nसंप्रेषण\\r\\nCommunication\\r\\nअध्ययन\\r\\nकौशल्ये\\r\\nLearning \\r\\nSkills\\r\\nसाक्षरता \\r\\nकौशल्ये\\r\\nLiteracy \\r\\nSkills\\r\\nजीवन\\r\\nकौशल्ये\\r\\nLife \\r\\nSkills\\r\\nपाणी (Water)\\r\\nपाण्याचे स्रोत\\r\\n(Sources of water)\\r\\nपाण्याचे उपयोग\\r\\n(Uses of water)\\r\\nपाण्याचे महत्त्व\\r\\n(Importance of water)\\r\\nपाणी बचत करण्याप्रती माझी जबाबदारी\\r\\n(My responsibilities towards saving water)\\r\\nWhat if... \\r\\nThinker Keys1\\r\\nपाणी (water)2\\r\\nआला पाऊस आला (It’s raining)\\r\\nपाऊस पडतो, सर सर सर \\r\\nघरी चला रे, भर भर भर !', 'title': 'balbharati_part_2.pdf', 'uri': 'gs://agentic_ai_ebooks_bucket/classroom_books/balbharati_part_2.pdf'}}, {'retrieved_context': {'rag_chunk': {'page_span': {'first_page': 12, 'last_page': 13}, 'text': 'लिही.\\r\\n(Write.)\\r\\nऐक व म्हण.\\r\\n(Listen and say.)\\r\\nकृती कर.\\r\\n(Do activity.)\\r\\nमैदानी खेळ\\r\\n(Outdoor games)\\r\\nरंग भर. \\r\\n(Fill the colours.)\\r\\nचर्चा कर.\\r\\n(Discuss.)\\r\\nकोडी सोडव.\\r\\n(Solve the puzzles.)\\r\\nपाठ्यपुस्तकात वापरण्यात आलेल्या प्रतीकांची ओळख\\r\\n(Introduction of emojis used in the textbook)भावना\\r\\nFeelings\\r\\nफायदे\\r\\nBenefits\\r\\nतथ्ये/वस्तुस्थिती\\r\\nFacts\\r\\nसर्जनशीलता\\r\\nCreativity\\r\\nप्रक्रिया\\r\\nProcess\\r\\nतोटे\\r\\nDisadvantages\\r\\nSix Thinking Hats\\r\\nThe Different Uses\\r\\nThe Picture Brainstorming\\r\\nConstruction Question\\r\\n२१ व्या शतकातील कौशल्ये\\r\\n(21st century skills)\\r\\n\\uf0c6\\r\\n\\uf0c6\\r\\n\\uf0c6\\r\\nचिकित्सक विचार\\r\\nCritical Thinking\\r\\nमाहिती \\r\\nInformation\\r\\nलवचीकता\\r\\nFlexibility\\r\\nनेतृत्व\\r\\nLeadership\\r\\nपुढाकार\\r\\nInitiative\\r\\nउत्पादकता\\r\\nProductivity\\r\\nसामाजिक कौशल्ये\\r\\nSocial Skills\\r\\nमाध्यम\\r\\nMedia\\r\\nतंत्रज्ञान\\r\\nTechnology\\r\\nसर्जनशीलता'}, 'text': 'लिही.\\r\\n(Write.)\\r\\nऐक व म्हण.\\r\\n(Listen and say.)\\r\\nकृती कर.\\r\\n(Do activity.)\\r\\nमैदानी खेळ\\r\\n(Outdoor games)\\r\\nरंग भर. \\r\\n(Fill the colours.)\\r\\nचर्चा कर.\\r\\n(Discuss.)\\r\\nकोडी सोडव.\\r\\n(Solve the puzzles.)\\r\\nपाठ्यपुस्तकात वापरण्यात आलेल्या प्रतीकांची ओळख\\r\\n(Introduction of emojis used in the textbook)भावना\\r\\nFeelings\\r\\nफायदे\\r\\nBenefits\\r\\nतथ्ये/वस्तुस्थिती\\r\\nFacts\\r\\nसर्जनशीलता\\r\\nCreativity\\r\\nप्रक्रिया\\r\\nProcess\\r\\nतोटे\\r\\nDisadvantages\\r\\nSix Thinking Hats\\r\\nThe Different Uses\\r\\nThe Picture Brainstorming\\r\\nConstruction Question\\r\\n२१ व्या शतकातील कौशल्ये\\r\\n(21st century skills)\\r\\n\\uf0c6\\r\\n\\uf0c6\\r\\n\\uf0c6\\r\\nचिकित्सक विचार\\r\\nCritical Thinking\\r\\nमाहिती \\r\\nInformation\\r\\nलवचीकता\\r\\nFlexibility\\r\\nनेतृत्व\\r\\nLeadership\\r\\nपुढाकार\\r\\nInitiative\\r\\nउत्पादकता\\r\\nProductivity\\r\\nसामाजिक कौशल्ये\\r\\nSocial Skills\\r\\nमाध्यम\\r\\nMedia\\r\\nतंत्रज्ञान\\r\\nTechnology\\r\\nसर्जनशीलता', 'title': 'balbharati_part_2.pdf', 'uri': 'https://drive.google.com/file/d/1kn8G_g8K4CNBAvYnH67lgCa4XJSDn_pT/view?usp=drivesdk'}}, {'retrieved_context': {'rag_chunk': {'page_span': {'first_page': 13, 'last_page': 15}, 'text': '.. Key\\r\\nमी (Me) कुटुंबातील सदस्य\\r\\n(Members in the family)\\r\\nकुटुंबाविषयीचा आदर\\r\\n(Respect to the family)\\r\\nकुटुंबाप्रती माझी जबाबदारी \\r\\n(My responsibility\\r\\ntowards the family)\\r\\n२१ व्या शतकातील कौशल्ये(21st century skills)\\r\\n\\uf0c6\\r\\n\\uf0c6\\r\\n\\uf0c6\\r\\nचिकित्सक विचार\\r\\nCritical Thinking\\r\\nमाहिती \\r\\nInformation\\r\\nलवचीकता\\r\\nFlexibility\\r\\nनेतृत्व\\r\\nLeadership\\r\\nपुढाकार\\r\\nInitiative\\r\\nउत्पादकता\\r\\nProductivity\\r\\nसामाजिक कौशल्ये\\r\\nSocial Skills\\r\\nमाध्यम\\r\\nMedia\\r\\nतंत्रज्ञान\\r\\nTechnology\\r\\nसर्जनशीलता \\r\\nCreativity\\r\\nसहकार्य\\r\\nCollaboration\\r\\nसंप्रेषण\\r\\nCommunication\\r\\nअध्ययन\\r\\nकौशल्ये\\r\\nLearning \\r\\nSkills\\r\\nसाक्षरता \\r\\nकौशल्ये\\r\\nLiteracy \\r\\nSkills\\r\\nजीवन \\r\\nकौशल्ये\\r\\nLife \\r\\nSkills\\r\\n(विचारक चाव्या)\\r\\n‘तर काय’ चावी1\\r\\nमी आणि माझे कुटुंब \\r\\n(Me and my family)2\\r\\nमाझे नाव :\\r\\nMy name : \\r\\nमी (Me,'}, 'text': '.. Key\\r\\nमी (Me) कुटुंबातील सदस्य\\r\\n(Members in the family)\\r\\nकुटुंबाविषयीचा आदर\\r\\n(Respect to the family)\\r\\nकुटुंबाप्रती माझी जबाबदारी \\r\\n(My responsibility\\r\\ntowards the family)\\r\\n२१ व्या शतकातील कौशल्ये(21st century skills)\\r\\n\\uf0c6\\r\\n\\uf0c6\\r\\n\\uf0c6\\r\\nचिकित्सक विचार\\r\\nCritical Thinking\\r\\nमाहिती \\r\\nInformation\\r\\nलवचीकता\\r\\nFlexibility\\r\\nनेतृत्व\\r\\nLeadership\\r\\nपुढाकार\\r\\nInitiative\\r\\nउत्पादकता\\r\\nProductivity\\r\\nसामाजिक कौशल्ये\\r\\nSocial Skills\\r\\nमाध्यम\\r\\nMedia\\r\\nतंत्रज्ञान\\r\\nTechnology\\r\\nसर्जनशीलता \\r\\nCreativity\\r\\nसहकार्य\\r\\nCollaboration\\r\\nसंप्रेषण\\r\\nCommunication\\r\\nअध्ययन\\r\\nकौशल्ये\\r\\nLearning \\r\\nSkills\\r\\nसाक्षरता \\r\\nकौशल्ये\\r\\nLiteracy \\r\\nSkills\\r\\nजीवन \\r\\nकौशल्ये\\r\\nLife \\r\\nSkills\\r\\n(विचारक चाव्या)\\r\\n‘तर काय’ चावी1\\r\\nमी आणि माझे कुटुंब \\r\\n(Me and my family)2\\r\\nमाझे नाव :\\r\\nMy name : \\r\\nमी (Me,', 'title': 'balbharati_part_1.pdf', 'uri': 'gs://agentic_ai_ebooks_bucket/classroom_books/balbharati_part_1.pdf'}}, {'retrieved_context': {'rag_chunk': {'page_span': {'first_page': 13, 'last_page': 15}, 'text': '.. Key\\r\\nमी (Me) कुटुंबातील सदस्य\\r\\n(Members in the family)\\r\\nकुटुंबाविषयीचा आदर\\r\\n(Respect to the family)\\r\\nकुटुंबाप्रती माझी जबाबदारी \\r\\n(My responsibility\\r\\ntowards the family)\\r\\n२१ व्या शतकातील कौशल्ये(21st century skills)\\r\\n\\uf0c6\\r\\n\\uf0c6\\r\\n\\uf0c6\\r\\nचिकित्सक विचार\\r\\nCritical Thinking\\r\\nमाहिती \\r\\nInformation\\r\\nलवचीकता\\r\\nFlexibility\\r\\nनेतृत्व\\r\\nLeadership\\r\\nपुढाकार\\r\\nInitiative\\r\\nउत्पादकता\\r\\nProductivity\\r\\nसामाजिक कौशल्ये\\r\\nSocial Skills\\r\\nमाध्यम\\r\\nMedia\\r\\nतंत्रज्ञान\\r\\nTechnology\\r\\nसर्जनशीलता \\r\\nCreativity\\r\\nसहकार्य\\r\\nCollaboration\\r\\nसंप्रेषण\\r\\nCommunication\\r\\nअध्ययन\\r\\nकौशल्ये\\r\\nLearning \\r\\nSkills\\r\\nसाक्षरता \\r\\nकौशल्ये\\r\\nLiteracy \\r\\nSkills\\r\\nजीवन \\r\\nकौशल्ये\\r\\nLife \\r\\nSkills\\r\\n(विचारक चाव्या)\\r\\n‘तर काय’ चावी1\\r\\nमी आणि माझे कुटुंब \\r\\n(Me and my family)2\\r\\nमाझे नाव :\\r\\nMy name : \\r\\nमी (Me,'}, 'text': '.. Key\\r\\nमी (Me) कुटुंबातील सदस्य\\r\\n(Members in the family)\\r\\nकुटुंबाविषयीचा आदर\\r\\n(Respect to the family)\\r\\nकुटुंबाप्रती माझी जबाबदारी \\r\\n(My responsibility\\r\\ntowards the family)\\r\\n२१ व्या शतकातील कौशल्ये(21st century skills)\\r\\n\\uf0c6\\r\\n\\uf0c6\\r\\n\\uf0c6\\r\\nचिकित्सक विचार\\r\\nCritical Thinking\\r\\nमाहिती \\r\\nInformation\\r\\nलवचीकता\\r\\nFlexibility\\r\\nनेतृत्व\\r\\nLeadership\\r\\nपुढाकार\\r\\nInitiative\\r\\nउत्पादकता\\r\\nProductivity\\r\\nसामाजिक कौशल्ये\\r\\nSocial Skills\\r\\nमाध्यम\\r\\nMedia\\r\\nतंत्रज्ञान\\r\\nTechnology\\r\\nसर्जनशीलता \\r\\nCreativity\\r\\nसहकार्य\\r\\nCollaboration\\r\\nसंप्रेषण\\r\\nCommunication\\r\\nअध्ययन\\r\\nकौशल्ये\\r\\nLearning \\r\\nSkills\\r\\nसाक्षरता \\r\\nकौशल्ये\\r\\nLiteracy \\r\\nSkills\\r\\nजीवन \\r\\nकौशल्ये\\r\\nLife \\r\\nSkills\\r\\n(विचारक चाव्या)\\r\\n‘तर काय’ चावी1\\r\\nमी आणि माझे कुटुंब \\r\\n(Me and my family)2\\r\\nमाझे नाव :\\r\\nMy name : \\r\\nमी (Me,', 'title': 'balbharati_part_1.pdf', 'uri': 'https://drive.google.com/file/d/1bcCGzf_Tvbp0QJdPlIzgcarJYAwwnLwf/view?usp=drivesdk'}}, {'retrieved_context': {'rag_chunk': {'page_span': {'first_page': 12, 'last_page': 13}, 'text': 'लिही.\\r\\n(Write.)\\r\\nऐक व म्हण.\\r\\n(Listen and say.)\\r\\nकृती कर.\\r\\n(Do activity.)\\r\\nमैदानी खेळ\\r\\n(Outdoor games)\\r\\nरंग भर. \\r\\n(Fill the colours.)\\r\\nचर्चा कर.\\r\\n(Discuss.)\\r\\nकोडी सोडव.\\r\\n(Solve the puzzles.)\\r\\nपाठ्यपुस्तकात वापरण्यात आलेल्या प्रतीकांची ओळख\\r\\n(Introduction of emojis used in the textbook)भावना\\r\\nFeelings\\r\\nफायदे\\r\\nBenefits\\r\\nतथ्ये/वस्तुस्थिती\\r\\nFacts\\r\\nसर्जनशीलता\\r\\nCreativity\\r\\nप्रक्रिया\\r\\nProcess\\r\\nतोटे\\r\\nDisadvantages\\r\\nThinker Keys\\r\\nConstruction\\r\\nBrainstorming Reverse\\r\\nAlphabet\\r\\nPicture\\r\\nWhat if...\\r\\n२१ व्या शतकातील कौशल्ये(21st century skills)\\r\\n\\uf0c6\\r\\n\\uf0c6\\r\\n\\uf0c6\\r\\nचिकित्सक विचार\\r\\nCritical Thinking\\r\\nमाहिती \\r\\nInformation\\r\\nलवचीकता\\r\\nFlexibility\\r\\nनेतृत्व\\r\\nLeadership\\r\\nपुढाकार\\r\\nInitiative\\r\\nउत्पादकता\\r\\nProductivity\\r\\nसामाजिक कौशल्ये\\r\\nSocial Skills\\r\\nमाध्यम\\r\\nMedia\\r\\nतंत्रज्ञान\\r\\nTechnology\\r\\nसर्जनशीलता'}, 'text': 'लिही.\\r\\n(Write.)\\r\\nऐक व म्हण.\\r\\n(Listen and say.)\\r\\nकृती कर.\\r\\n(Do activity.)\\r\\nमैदानी खेळ\\r\\n(Outdoor games)\\r\\nरंग भर. \\r\\n(Fill the colours.)\\r\\nचर्चा कर.\\r\\n(Discuss.)\\r\\nकोडी सोडव.\\r\\n(Solve the puzzles.)\\r\\nपाठ्यपुस्तकात वापरण्यात आलेल्या प्रतीकांची ओळख\\r\\n(Introduction of emojis used in the textbook)भावना\\r\\nFeelings\\r\\nफायदे\\r\\nBenefits\\r\\nतथ्ये/वस्तुस्थिती\\r\\nFacts\\r\\nसर्जनशीलता\\r\\nCreativity\\r\\nप्रक्रिया\\r\\nProcess\\r\\nतोटे\\r\\nDisadvantages\\r\\nThinker Keys\\r\\nConstruction\\r\\nBrainstorming Reverse\\r\\nAlphabet\\r\\nPicture\\r\\nWhat if...\\r\\n२१ व्या शतकातील कौशल्ये(21st century skills)\\r\\n\\uf0c6\\r\\n\\uf0c6\\r\\n\\uf0c6\\r\\nचिकित्सक विचार\\r\\nCritical Thinking\\r\\nमाहिती \\r\\nInformation\\r\\nलवचीकता\\r\\nFlexibility\\r\\nनेतृत्व\\r\\nLeadership\\r\\nपुढाकार\\r\\nInitiative\\r\\nउत्पादकता\\r\\nProductivity\\r\\nसामाजिक कौशल्ये\\r\\nSocial Skills\\r\\nमाध्यम\\r\\nMedia\\r\\nतंत्रज्ञान\\r\\nTechnology\\r\\nसर्जनशीलता', 'title': 'balbharati_part_3.pdf', 'uri': 'https://drive.google.com/file/d/14bUTSjzLRrGGD5Qbk7L_TVXYWXJKg9Rv/view?usp=drivesdk'}}, {'retrieved_context': {'rag_chunk': {'page_span': {'first_page': 13, 'last_page': 15}, 'text': '..\\r\\n२१ व्या शतकातील कौशल्ये(21st century skills)\\r\\n\\uf0c6\\r\\n\\uf0c6\\r\\n\\uf0c6\\r\\nचिकित्सक विचार\\r\\nCritical Thinking\\r\\nमाहिती \\r\\nInformation\\r\\nलवचीकता\\r\\nFlexibility\\r\\nनेतृत्व\\r\\nLeadership\\r\\nपुढाकार\\r\\nInitiative\\r\\nउत्पादकता\\r\\nProductivity\\r\\nसामाजिक कौशल्ये\\r\\nSocial Skills\\r\\nमाध्यम\\r\\nMedia\\r\\nतंत्रज्ञान\\r\\nTechnology\\r\\nसर्जनशीलता \\r\\nCreativity\\r\\nसहकार्य\\r\\nCollaboration\\r\\nसंप्रेषण\\r\\nCommunication\\r\\nअध्ययन\\r\\nकौशल्ये\\r\\nLearning \\r\\nSkills\\r\\nसाक्षरता \\r\\nकौशल्ये\\r\\nLiteracy \\r\\nSkills\\r\\nजीवन\\r\\nकौशल्ये\\r\\nLife \\r\\nSkills\\r\\nप्राण्यांची ओळख\\r\\n(Introduction \\r\\nof animals)\\r\\nप्राण्यांचे उपयोग\\r\\n(Uses of animals)\\r\\nप्राण्यांचे महत्त्व\\r\\n(Importance of animals)\\r\\nपशु-पक्षी संवर्धन करण्याप्रती माझी जबाबदारी\\r\\n(My responsibilities to conserve \\r\\nanimals and birds)\\r\\nप्राणी\\r\\nSix Thinking Hats1\\r\\nप्राणी (Animals) 2\\r\\nतुझ्या आवडत्या प्राण्याचे चित्र काढ आणि सर्व चित्रे रंगव.'}, 'text': '..\\r\\n२१ व्या शतकातील कौशल्ये(21st century skills)\\r\\n\\uf0c6\\r\\n\\uf0c6\\r\\n\\uf0c6\\r\\nचिकित्सक विचार\\r\\nCritical Thinking\\r\\nमाहिती \\r\\nInformation\\r\\nलवचीकता\\r\\nFlexibility\\r\\nनेतृत्व\\r\\nLeadership\\r\\nपुढाकार\\r\\nInitiative\\r\\nउत्पादकता\\r\\nProductivity\\r\\nसामाजिक कौशल्ये\\r\\nSocial Skills\\r\\nमाध्यम\\r\\nMedia\\r\\nतंत्रज्ञान\\r\\nTechnology\\r\\nसर्जनशीलता \\r\\nCreativity\\r\\nसहकार्य\\r\\nCollaboration\\r\\nसंप्रेषण\\r\\nCommunication\\r\\nअध्ययन\\r\\nकौशल्ये\\r\\nLearning \\r\\nSkills\\r\\nसाक्षरता \\r\\nकौशल्ये\\r\\nLiteracy \\r\\nSkills\\r\\nजीवन\\r\\nकौशल्ये\\r\\nLife \\r\\nSkills\\r\\nप्राण्यांची ओळख\\r\\n(Introduction \\r\\nof animals)\\r\\nप्राण्यांचे उपयोग\\r\\n(Uses of animals)\\r\\nप्राण्यांचे महत्त्व\\r\\n(Importance of animals)\\r\\nपशु-पक्षी संवर्धन करण्याप्रती माझी जबाबदारी\\r\\n(My responsibilities to conserve \\r\\nanimals and birds)\\r\\nप्राणी\\r\\nSix Thinking Hats1\\r\\nप्राणी (Animals) 2\\r\\nतुझ्या आवडत्या प्राण्याचे चित्र काढ आणि सर्व चित्रे रंगव.', 'title': 'balbharati_part_3.pdf', 'uri': 'gs://agentic_ai_ebooks_bucket/classroom_books/balbharati_part_3.pdf'}}, {'retrieved_context': {'rag_chunk': {'page_span': {'first_page': 13, 'last_page': 15}, 'text': 'कौशल्ये\\r\\nSocial Skills\\r\\nमाध्यम\\r\\nMedia\\r\\nतंत्रज्ञान\\r\\nTechnology\\r\\nसर्जनशीलता \\r\\nCreativity\\r\\nसहकार्य\\r\\nCollaboration\\r\\nसंप्रेषण\\r\\nCommunication\\r\\nअध्ययन\\r\\nकौशल्ये\\r\\nLearning \\r\\nSkills\\r\\nसाक्षरता \\r\\nकौशल्ये\\r\\nLiteracy \\r\\nSkills\\r\\nजीवन\\r\\nकौशल्ये\\r\\nLife \\r\\nSkills\\r\\nपाणी (Water)\\r\\nपाण्याचे स्रोत\\r\\n(Sources of water)\\r\\nपाण्याचे उपयोग\\r\\n(Uses of water)\\r\\nपाण्याचे महत्त्व\\r\\n(Importance of water)\\r\\nपाणी बचत करण्याप्रती माझी जबाबदारी\\r\\n(My responsibilities towards saving water)\\r\\nWhat if... \\r\\nThinker Keys1\\r\\nपाणी (water)2\\r\\nआला पाऊस आला (It’s raining)\\r\\nपाऊस पडतो, सर सर सर \\r\\nघरी चला रे, भर भर भर !\\r\\nपाऊस वाजे, धडाड् धूम\\r\\nधावा, धावा ठोका धूम !\\r\\nधावता, धावता गाठले घर\\r\\nपड रे पावसा दिवसभर !'}, 'text': 'कौशल्ये\\r\\nSocial Skills\\r\\nमाध्यम\\r\\nMedia\\r\\nतंत्रज्ञान\\r\\nTechnology\\r\\nसर्जनशीलता \\r\\nCreativity\\r\\nसहकार्य\\r\\nCollaboration\\r\\nसंप्रेषण\\r\\nCommunication\\r\\nअध्ययन\\r\\nकौशल्ये\\r\\nLearning \\r\\nSkills\\r\\nसाक्षरता \\r\\nकौशल्ये\\r\\nLiteracy \\r\\nSkills\\r\\nजीवन\\r\\nकौशल्ये\\r\\nLife \\r\\nSkills\\r\\nपाणी (Water)\\r\\nपाण्याचे स्रोत\\r\\n(Sources of water)\\r\\nपाण्याचे उपयोग\\r\\n(Uses of water)\\r\\nपाण्याचे महत्त्व\\r\\n(Importance of water)\\r\\nपाणी बचत करण्याप्रती माझी जबाबदारी\\r\\n(My responsibilities towards saving water)\\r\\nWhat if... \\r\\nThinker Keys1\\r\\nपाणी (water)2\\r\\nआला पाऊस आला (It’s raining)\\r\\nपाऊस पडतो, सर सर सर \\r\\nघरी चला रे, भर भर भर !\\r\\nपाऊस वाजे, धडाड् धूम\\r\\nधावा, धावा ठोका धूम !\\r\\nधावता, धावता गाठले घर\\r\\nपड रे पावसा दिवसभर !', 'title': 'balbharati_part_2.pdf', 'uri': 'https://drive.google.com/file/d/1kn8G_g8K4CNBAvYnH67lgCa4XJSDn_pT/view?usp=drivesdk'}}], 'grounding_supports': [{'confidence_scores': [0.98662764, 0.98934925, 0.98492104, 0.9814652, 0.9856667, 0.98377246, 0.98377246, 0.98579293, 0.98969895], 'grounding_chunk_indices': [0, 1, 2, 3, 4, 5, 6, 7, 8], 'segment': {'end_index': 180, 'start_index': 116, 'text': '*   चिकित्सक विचार (Critical Thinking)'}}, {'confidence_scores': [0.9788745, 0.9727569, 0.9796276, 0.97966856, 0.9758783, 0.9784151, 0.97487146, 0.9817784], 'grounding_chunk_indices': [0, 1, 5, 6, 4, 3, 7, 8], 'segment': {'end_index': 217, 'start_index': 181, 'text': '*   माहिती (Information)'}}, {'confidence_scores': [0.96545905, 0.94017375, 0.96093476, 0.9627885, 0.9551959, 0.96093965, 0.95053023, 0.96827716], 'grounding_chunk_indices': [0, 1, 5, 6, 4, 3, 7, 8], 'segment': {'end_index': 257, 'start_index': 218, 'text': '*   लवचीकता (Flexibility)'}}, {'confidence_scores': [0.98027706, 0.9751788, 0.97009987, 0.9688326, 0.9736953, 0.96822506, 0.97479475, 0.9817742], 'grounding_chunk_indices': [0, 1, 5, 6, 4, 3, 7, 8], 'segment': {'end_index': 296, 'start_index': 258, 'text': '*   नेतृत्व (Leadership)'}}, {'confidence_scores': [0.97707194, 0.9746903, 0.9734414, 0.9743509, 0.97147095, 0.96278214, 0.97065353, 0.98120385], 'grounding_chunk_indices': [0, 1, 5, 6, 4, 3, 7, 8], 'segment': {'end_index': 335, 'start_index': 297, 'text': '*   पुढाकार (Initiative)'}}, {'confidence_scores': [0.9856737, 0.97920394, 0.98477745, 0.98426926, 0.98135436, 0.9813014, 0.98132527, 0.98753744], 'grounding_chunk_indices': [0, 1, 5, 6, 4, 3, 7, 8], 'segment': {'end_index': 382, 'start_index': 336, 'text': '*   उत्पादकता (Productivity)'}}, {'confidence_scores': [0.98370326, 0.95823437, 0.98063993, 0.98024094, 0.9741677, 0.9809523, 0.9814, 0.98545146, 0.6490534], 'grounding_chunk_indices': [0, 1, 5, 6, 3, 4, 7, 8, 9], 'segment': {'end_index': 446, 'start_index': 383, 'text': '*   सामाजिक कौशल्ये (Social Skills)'}}, {'confidence_scores': [0.98201996, 0.98105043, 0.98129636, 0.9786638, 0.9753057, 0.97986823, 0.9827471, 0.9729547], 'grounding_chunk_indices': [0, 5, 6, 4, 3, 7, 8, 9], 'segment': {'end_index': 477, 'start_index': 447, 'text': '*   माध्यम (Media)'}}, {'confidence_scores': [0.98021096, 0.9776225, 0.977965, 0.9670528, 0.9717894, 0.96566075, 0.981857, 0.97302026], 'grounding_chunk_indices': [0, 5, 6, 4, 3, 7, 8, 9], 'segment': {'end_index': 525, 'start_index': 478, 'text': '*   तंत्रज्ञान (Technology)'}}, {'confidence_scores': [0.9732939, 0.89278644, 0.93858236, 0.89983314, 0.9659551, 0.96562093, 0.967992, 0.9752152, 0.92566955], 'grounding_chunk_indices': [0, 4, 2, 7, 5, 6, 3, 8, 9], 'segment': {'end_index': 573, 'start_index': 526, 'text': '*   सर्जनशीलता (Creativity)'}}, {'confidence_scores': [0.9774989, 0.9756437, 0.9756437, 0.9716206, 0.98008245, 0.97776616], 'grounding_chunk_indices': [0, 5, 6, 3, 8, 9], 'segment': {'end_index': 615, 'start_index': 574, 'text': '*   सहकार्य (Collaboration)'}}, {'confidence_scores': [0.9796269, 0.97961843, 0.97938424, 0.97791016, 0.9816522, 0.97589284], 'grounding_chunk_indices': [0, 5, 6, 3, 8, 9], 'segment': {'end_index': 660, 'start_index': 616, 'text': '*   संप्रेषण (Communication)'}}, {'confidence_scores': [0.983135, 0.9804155, 0.9804606, 0.9820743, 0.9873111, 0.9720471], 'grounding_chunk_indices': [0, 5, 6, 3, 8, 9], 'segment': {'end_index': 723, 'start_index': 661, 'text': '*   अध्ययन कौशल्ये (Learning Skills)'}}, {'confidence_scores': [0.9702617, 0.97604626, 0.9743318, 0.9789612, 0.98336387, 0.97758865], 'grounding_chunk_indices': [0, 5, 6, 3, 8, 9], 'segment': {'end_index': 792, 'start_index': 724, 'text': '*   साक्षरता कौशल्ये (Literacy Skills)'}}], 'retrieval_queries': ['21st century skills']}, 'usage_metadata': {'candidates_token_count': 234, 'candidates_tokens_details': [{'modality': <MediaModality.TEXT: 'TEXT'>, 'token_count': 234}], 'prompt_token_count': 612, 'prompt_tokens_details': [{'modality': <MediaModality.TEXT: 'TEXT'>, 'token_count': 612}], 'total_token_count': 846, 'traffic_type': <TrafficType.ON_DEMAND: 'ON_DEMAND'>}, 'invocation_id': 'e-8aa0f9bc-8023-49e8-89ea-fe835b27cf64', 'author': 'Classroom_Agent', 'actions': {'state_delta': {}, 'artifact_delta': {}, 'requested_auth_configs': {}}, 'id': '850b1625-fb94-4ed1-97d3-a7feb649bf63', 'timestamp': 1753452226.374978}\n"
     ]
    }
   ],
   "source": [
    "for event in app.stream_query(\n",
    "    user_id=\"123\",\n",
    "    session_id=session.id,\n",
    "    message=\"What are the 21st century skills\",\n",
    "):\n",
    "    print(event)"
   ]
  },
  {
   "cell_type": "code",
   "execution_count": 66,
   "id": "93cef847-1c37-4868-bded-467e09f96e00",
   "metadata": {
    "tags": []
   },
   "outputs": [],
   "source": [
    "display_name = \"Classroom_Agent\"\n",
    "description = \"An agent that has access to the classroom RAG engine\""
   ]
  },
  {
   "cell_type": "markdown",
   "id": "5aa30110-a8f0-40ee-a73a-c6fe3fceb04b",
   "metadata": {},
   "source": [
    "### Agent Deployment"
   ]
  },
  {
   "cell_type": "code",
   "execution_count": 70,
   "id": "b3099ad6-1d8b-40cc-98f3-bf66234eb8e0",
   "metadata": {
    "tags": []
   },
   "outputs": [
    {
     "name": "stdout",
     "output_type": "stream",
     "text": [
      "Identified the following requirements: {'google-cloud-aiplatform': '1.103.0', 'pydantic': '2.11.7', 'cloudpickle': '3.1.1'}\n",
      "The following requirements are missing: {'cloudpickle'}\n",
      "The following requirements are appended: {'cloudpickle==3.1.1'}\n",
      "The final list of requirements: ['google-adk (>=0.0.2)', 'google-cloud-aiplatform[agent_engines] (>=1.91.0,!=1.92.0)', 'google-genai (>=1.5.0,<2.0.0)', 'llama-index', 'pydantic (>=2.10.6,<3.0.0)', 'cloudpickle==3.1.1']\n",
      "Using bucket agentic_ai_ebooks_bucket\n",
      "Wrote to gs://agentic_ai_ebooks_bucket/agent_engine/agent_engine.pkl\n",
      "Writing to gs://agentic_ai_ebooks_bucket/agent_engine/requirements.txt\n",
      "Creating in-memory tarfile of extra_packages\n",
      "Writing to gs://agentic_ai_ebooks_bucket/agent_engine/dependencies.tar.gz\n",
      "Creating AgentEngine\n",
      "Create AgentEngine backing LRO: projects/44474009687/locations/us-central1/reasoningEngines/8877817522477334528/operations/1214682962524635136\n",
      "View progress and logs at https://console.cloud.google.com/logs/query?project=formidable-feat-466408-r6\n",
      "AgentEngine created. Resource name: projects/44474009687/locations/us-central1/reasoningEngines/8877817522477334528\n",
      "To use this AgentEngine in another session:\n",
      "agent_engine = vertexai.agent_engines.get('projects/44474009687/locations/us-central1/reasoningEngines/8877817522477334528')\n"
     ]
    }
   ],
   "source": [
    "remote_agent = agent_engines.create(\n",
    "    app,\n",
    "    requirements=[\n",
    "        \"google-adk (>=0.0.2)\",\n",
    "        \"google-cloud-aiplatform[agent_engines] (>=1.91.0,!=1.92.0)\",\n",
    "        \"google-genai (>=1.5.0,<2.0.0)\",\n",
    "        \"llama-index\",\n",
    "        \"pydantic (>=2.10.6,<3.0.0)\"\n",
    "    ],\n",
    "    display_name=display_name,\n",
    "    description=description\n",
    ")"
   ]
  },
  {
   "cell_type": "code",
   "execution_count": null,
   "id": "f1cbfd8a-b6a5-41fc-b278-65299788e580",
   "metadata": {},
   "outputs": [],
   "source": []
  },
  {
   "cell_type": "code",
   "execution_count": null,
   "id": "bcb3ced4-ff8d-47e1-81eb-40b05eeae5bf",
   "metadata": {},
   "outputs": [],
   "source": [
    "# resource_name='projects/925341040009/locations/us-central1/reasoningEngines/719599574053814272'\n",
    "\n",
    "# remote_agent = agent_engines.update(\n",
    "#     agent_engine=agent,\n",
    "#     resource_name=resource_name,\n",
    "#     display_name=display_name,\n",
    "#     description=description\n",
    "# )"
   ]
  },
  {
   "cell_type": "code",
   "execution_count": 74,
   "id": "2c18fed6-6457-4824-af6d-159c6b6309b2",
   "metadata": {
    "tags": []
   },
   "outputs": [],
   "source": [
    "for event in remote_agent.stream_query(\n",
    "    user_id=\"1\",\n",
    "    # session_id=SESSION_ID, # Optional. you can pass in the session_id when querying the agent\n",
    "    message=\"hello\",\n",
    "):\n",
    "    print(1)\n",
    "    print(event)"
   ]
  },
  {
   "cell_type": "code",
   "execution_count": null,
   "id": "db290853-a96d-4451-b9fc-c46ddf3cbba8",
   "metadata": {},
   "outputs": [],
   "source": [
    "# remote_agent.delete()"
   ]
  }
 ],
 "metadata": {
  "environment": {
   "kernel": "conda-base-py",
   "name": "workbench-notebooks.m131",
   "type": "gcloud",
   "uri": "us-docker.pkg.dev/deeplearning-platform-release/gcr.io/workbench-notebooks:m131"
  },
  "kernelspec": {
   "display_name": "Python 3 (ipykernel) (Local)",
   "language": "python",
   "name": "conda-base-py"
  },
  "language_info": {
   "codemirror_mode": {
    "name": "ipython",
    "version": 3
   },
   "file_extension": ".py",
   "mimetype": "text/x-python",
   "name": "python",
   "nbconvert_exporter": "python",
   "pygments_lexer": "ipython3",
   "version": "3.10.18"
  }
 },
 "nbformat": 4,
 "nbformat_minor": 5
}
