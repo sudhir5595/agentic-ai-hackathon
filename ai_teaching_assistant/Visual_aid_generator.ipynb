{
 "cells": [
  {
   "cell_type": "code",
   "execution_count": 8,
   "id": "fadc47a6-9370-4daa-96e4-a6874037ab70",
   "metadata": {
    "tags": []
   },
   "outputs": [],
   "source": [
    "# Conceptual Setup: Agent as a Tool\n",
    "from google.adk.agents import LlmAgent, BaseAgent\n",
    "from google.adk.tools import agent_tool\n",
    "from pydantic import BaseModel"
   ]
  },
  {
   "cell_type": "code",
   "execution_count": 9,
   "id": "5a31d7db-4cd2-4473-802d-adc031aee334",
   "metadata": {
    "tags": []
   },
   "outputs": [],
   "source": [
    "from google import adk\n",
    "from google.adk.agents import Agent\n",
    "from vertexai import agent_engines\n",
    "from vertexai.preview.reasoning_engines import AdkApp\n",
    "from google.adk.sessions import InMemorySessionService, Session\n",
    "from google.adk.runners import Runner\n",
    "from google.genai.types import Content, Part\n",
    "from google.adk.sessions import VertexAiSessionService\n",
    "from google.adk.tools import google_search"
   ]
  },
  {
   "cell_type": "code",
   "execution_count": 10,
   "id": "f69e7c15-7231-4378-837e-66094def7b42",
   "metadata": {
    "tags": []
   },
   "outputs": [],
   "source": [
    "# Define a target agent (could be LlmAgent or custom BaseAgent)\n",
    "class ImageGeneratorAgent(BaseAgent): # Example custom agent\n",
    "    name: str = \"ImageGen\"\n",
    "    description: str = \"Generates an image based on a prompt.\"\n",
    "    # ... internal logic ...\n",
    "    async def _run_async_impl(self, ctx): # Simplified run logic\n",
    "        prompt = ctx.session.state.get(\"image_prompt\", \"default prompt\")\n",
    "        # ... generate image bytes ...\n",
    "        image_bytes = b\"...\"\n",
    "        yield Event(author=self.name, content=types.Content(parts=[types.Part.from_bytes(image_bytes, \"image/png\")]))\n",
    "\n",
    "image_agent = ImageGeneratorAgent()\n",
    "image_tool = agent_tool.AgentTool(agent=image_agent) # Wrap the agent\n",
    "\n",
    "# Parent agent uses the AgentTool\n",
    "artist_agent = LlmAgent(\n",
    "    name=\"Artist\",\n",
    "    model=\"gemini-2.0-flash-preview-image-generation\",\n",
    "    instruction=\"Create a prompt and use the ImageGen tool to generate the image.\",\n",
    "    tools=[image_tool] # Include the AgentTool\n",
    ")\n",
    "# Artist LLM generates a prompt, then calls:\n",
    "# FunctionCall(name='ImageGen', args={'image_prompt': 'a cat wearing a hat'})\n",
    "# Framework calls image_tool.run_async(...), which runs ImageGeneratorAgent.\n",
    "# The resulting image Part is returned to the Artist agent as the tool result."
   ]
  },
  {
   "cell_type": "code",
   "execution_count": 11,
   "id": "e3054704-a937-4777-913e-81d3dd841bcb",
   "metadata": {
    "tags": []
   },
   "outputs": [],
   "source": [
    "app = AdkApp(\n",
    "   agent=artist_agent,\n",
    "    enable_tracing=True# Required.\n",
    "   # session_service_builder=session_service_builder,  # Optional.\n",
    ")"
   ]
  },
  {
   "cell_type": "code",
   "execution_count": 12,
   "id": "6ff22f08-ba9f-4a40-bf39-30f361cecf31",
   "metadata": {
    "tags": []
   },
   "outputs": [],
   "source": [
    "session = app.create_session(user_id='user')"
   ]
  },
  {
   "cell_type": "code",
   "execution_count": 13,
   "id": "f9b5d218-9935-4219-8fcf-33b516b66668",
   "metadata": {
    "tags": []
   },
   "outputs": [
    {
     "data": {
      "text/plain": [
       "Session(id='ba1fb305-78f4-4fa0-b2c3-761eef6bebc0', app_name='default-app-name', user_id='user', state={}, events=[], last_update_time=1753532418.8021355)"
      ]
     },
     "execution_count": 13,
     "metadata": {},
     "output_type": "execute_result"
    }
   ],
   "source": [
    "session"
   ]
  },
  {
   "cell_type": "code",
   "execution_count": 14,
   "id": "0a71ce33-5627-418d-9e8f-74d4940b8c33",
   "metadata": {
    "tags": []
   },
   "outputs": [
    {
     "name": "stderr",
     "output_type": "stream",
     "text": [
      "Exception in thread Thread-15 (_asyncio_thread_main):\n",
      "Traceback (most recent call last):\n",
      "  File \"/opt/conda/lib/python3.10/threading.py\", line 1016, in _bootstrap_inner\n",
      "    self.run()\n",
      "  File \"/opt/conda/lib/python3.10/site-packages/ipykernel/ipkernel.py\", line 766, in run_closure\n",
      "    _threading_Thread_run(self)\n",
      "  File \"/opt/conda/lib/python3.10/threading.py\", line 953, in run\n",
      "    self._target(*self._args, **self._kwargs)\n",
      "  File \"/opt/conda/lib/python3.10/site-packages/google/adk/runners.py\", line 158, in _asyncio_thread_main\n",
      "    asyncio.run(_invoke_run_async())\n",
      "  File \"/opt/conda/lib/python3.10/asyncio/runners.py\", line 44, in run\n",
      "    return loop.run_until_complete(main)\n",
      "  File \"/opt/conda/lib/python3.10/asyncio/base_events.py\", line 649, in run_until_complete\n",
      "    return future.result()\n",
      "  File \"/opt/conda/lib/python3.10/site-packages/google/adk/runners.py\", line 146, in _invoke_run_async\n",
      "    async for event in self.run_async(\n",
      "  File \"/opt/conda/lib/python3.10/site-packages/google/adk/runners.py\", line 233, in run_async\n",
      "    async for event in self._exec_with_plugin(\n",
      "  File \"/opt/conda/lib/python3.10/site-packages/google/adk/runners.py\", line 273, in _exec_with_plugin\n",
      "    async for event in execute_fn(invocation_context):\n",
      "  File \"/opt/conda/lib/python3.10/site-packages/google/adk/runners.py\", line 230, in execute\n",
      "    async for event in ctx.agent.run_async(ctx):\n",
      "  File \"/opt/conda/lib/python3.10/site-packages/google/adk/agents/base_agent.py\", line 208, in run_async\n",
      "    async for event in self._run_async_impl(ctx):\n",
      "  File \"/opt/conda/lib/python3.10/site-packages/google/adk/agents/llm_agent.py\", line 283, in _run_async_impl\n",
      "    async for event in self._llm_flow.run_async(ctx):\n",
      "  File \"/opt/conda/lib/python3.10/site-packages/google/adk/flows/llm_flows/base_llm_flow.py\", line 283, in run_async\n",
      "    async for event in self._run_one_step_async(invocation_context):\n",
      "  File \"/opt/conda/lib/python3.10/site-packages/google/adk/flows/llm_flows/base_llm_flow.py\", line 311, in _run_one_step_async\n",
      "    async for llm_response in self._call_llm_async(\n",
      "  File \"/opt/conda/lib/python3.10/site-packages/google/adk/flows/llm_flows/base_llm_flow.py\", line 537, in _call_llm_async\n",
      "    async for llm_response in llm.generate_content_async(\n",
      "  File \"/opt/conda/lib/python3.10/site-packages/google/adk/models/google_llm.py\", line 175, in generate_content_async\n",
      "    response = await self.api_client.aio.models.generate_content(\n",
      "  File \"/opt/conda/lib/python3.10/site-packages/google/genai/models.py\", line 7427, in generate_content\n",
      "    response = await self._generate_content(\n",
      "  File \"/opt/conda/lib/python3.10/site-packages/google/genai/models.py\", line 6394, in _generate_content\n",
      "    response = await self._api_client.async_request(\n",
      "  File \"/opt/conda/lib/python3.10/site-packages/google/genai/_api_client.py\", line 1111, in async_request\n",
      "    result = await self._async_request(http_request=http_request, stream=False)\n",
      "  File \"/opt/conda/lib/python3.10/site-packages/google/genai/_api_client.py\", line 1056, in _async_request\n",
      "    return await self._async_retry(  # type: ignore[no-any-return]\n",
      "  File \"/opt/conda/lib/python3.10/site-packages/tenacity/asyncio/__init__.py\", line 111, in __call__\n",
      "    do = await self.iter(retry_state=retry_state)\n",
      "  File \"/opt/conda/lib/python3.10/site-packages/tenacity/asyncio/__init__.py\", line 153, in iter\n",
      "    result = await action(retry_state)\n",
      "  File \"/opt/conda/lib/python3.10/site-packages/tenacity/_utils.py\", line 99, in inner\n",
      "    return call(*args, **kwargs)\n",
      "  File \"/opt/conda/lib/python3.10/site-packages/tenacity/__init__.py\", line 418, in exc_check\n",
      "    raise retry_exc.reraise()\n",
      "  File \"/opt/conda/lib/python3.10/site-packages/tenacity/__init__.py\", line 185, in reraise\n",
      "    raise self.last_attempt.result()\n",
      "  File \"/opt/conda/lib/python3.10/concurrent/futures/_base.py\", line 451, in result\n",
      "    return self.__get_result()\n",
      "  File \"/opt/conda/lib/python3.10/concurrent/futures/_base.py\", line 403, in __get_result\n",
      "    raise self._exception\n",
      "  File \"/opt/conda/lib/python3.10/site-packages/tenacity/asyncio/__init__.py\", line 114, in __call__\n",
      "    result = await fn(*args, **kwargs)\n",
      "  File \"/opt/conda/lib/python3.10/site-packages/google/genai/_api_client.py\", line 1037, in _async_request_once\n",
      "    await errors.APIError.raise_for_async_response(response)\n",
      "  File \"/opt/conda/lib/python3.10/site-packages/google/genai/errors.py\", line 156, in raise_for_async_response\n",
      "    raise ClientError(status_code, response_json, response)\n",
      "google.genai.errors.ClientError: 400 INVALID_ARGUMENT. {'error': {'code': 400, 'message': 'The request is not supported by this model.', 'status': 'INVALID_ARGUMENT'}}\n"
     ]
    }
   ],
   "source": [
    "for event in app.stream_query(\n",
    "    user_id=\"user\",\n",
    "    # session_id=SESSION_ID, # Optional. you can pass in the session_id when querying the agent\n",
    "    message=\"Generate the any laptop image\",\n",
    "):\n",
    "    print(event)"
   ]
  },
  {
   "cell_type": "code",
   "execution_count": null,
   "id": "6004c824-0bd8-4e7d-be83-b83adf221d05",
   "metadata": {},
   "outputs": [],
   "source": []
  }
 ],
 "metadata": {
  "environment": {
   "kernel": "conda-base-py",
   "name": "workbench-notebooks.m131",
   "type": "gcloud",
   "uri": "us-docker.pkg.dev/deeplearning-platform-release/gcr.io/workbench-notebooks:m131"
  },
  "kernelspec": {
   "display_name": "Python 3 (ipykernel) (Local)",
   "language": "python",
   "name": "conda-base-py"
  },
  "language_info": {
   "codemirror_mode": {
    "name": "ipython",
    "version": 3
   },
   "file_extension": ".py",
   "mimetype": "text/x-python",
   "name": "python",
   "nbconvert_exporter": "python",
   "pygments_lexer": "ipython3",
   "version": "3.10.18"
  }
 },
 "nbformat": 4,
 "nbformat_minor": 5
}
