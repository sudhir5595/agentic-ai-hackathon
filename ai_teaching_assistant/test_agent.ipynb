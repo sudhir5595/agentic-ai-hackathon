{
 "cells": [
  {
   "cell_type": "code",
   "execution_count": 1,
   "id": "88d0d38e-33f9-44b5-86dd-a20a221d4164",
   "metadata": {
    "tags": []
   },
   "outputs": [],
   "source": [
    "from vertexai import agent_engines\n",
    "from vertexai.preview.reasoning_engines import LangchainAgent\n",
    "from vertexai.generative_models import (\n",
    "    Content,\n",
    "    FunctionDeclaration,\n",
    "    GenerationConfig,\n",
    "    GenerativeModel,\n",
    "    Part,\n",
    "    Tool,\n",
    "    ToolConfig\n",
    ")\n",
    "from google import adk\n",
    "from google.adk.sessions import VertexAiSessionService\n",
    "from google.adk.runners import Runner\n",
    "from google.adk.agents import LlmAgent, BaseAgent\n",
    "import yaml\n",
    "from google.genai import types # For types.Content\n",
    "from typing import Optional\n",
    "from typing import Sequence\n",
    "from IPython.display import HTML, Markdown, display\n",
    "import warnings"
   ]
  },
  {
   "cell_type": "code",
   "execution_count": 2,
   "id": "defe40d7-60c9-4569-b3f1-6cc4ed16965e",
   "metadata": {
    "tags": []
   },
   "outputs": [],
   "source": [
    "import os\n",
    "os.environ[\"GOOGLE_GENAI_USE_VERTEXAI\"]=\"1\"\n",
    "os.environ[\"GOOGLE_CLOUD_PROJECT\"]=\"formidable-feat-466408-r6\"\n",
    "os.environ[\"GOOGLE_CLOUD_LOCATION\"]=\"us-central1\"\n"
   ]
  },
  {
   "cell_type": "code",
   "execution_count": 3,
   "id": "14e1b793-243e-4261-a449-4232355aba11",
   "metadata": {
    "tags": []
   },
   "outputs": [],
   "source": [
    "PROJECT_ID = \"formidable-feat-466408-r6\"  # @param {type:\"string\"}\n",
    "LOCATION = \"us-central1\"  # @param {type:\"string\"}\n",
    "STAGING_BUCKET = \"gs://agentic_ai_ebooks_bucket\"  # @param {type:\"string\"}\n",
    "\n",
    "import vertexai\n",
    "\n",
    "vertexai.init(project=PROJECT_ID, location=LOCATION, staging_bucket=STAGING_BUCKET)"
   ]
  },
  {
   "cell_type": "markdown",
   "id": "82dc52a9-c5c2-40a1-8de9-6b681e8f52ff",
   "metadata": {},
   "source": [
    "### Load the agent"
   ]
  },
  {
   "cell_type": "code",
   "execution_count": 4,
   "id": "b1bbfd0c-b7af-4d40-ba89-ac9b70bd48ad",
   "metadata": {
    "tags": []
   },
   "outputs": [],
   "source": [
    "sahayak_agent = agent_engines.get('projects/44474009687/locations/us-central1/reasoningEngines/7395007345165598720')\n",
    "'projects/44474009687/locations/us-central1/reasoningEngines/8877817522477334528'"
   ]
  },
  {
   "cell_type": "code",
   "execution_count": null,
   "id": "a6dabf98-1066-46f9-b239-c301bb41b1db",
   "metadata": {
    "tags": []
   },
   "outputs": [],
   "source": [
    "session = sahayak_agent.create_session(user_id=\"3\")"
   ]
  },
  {
   "cell_type": "code",
   "execution_count": 5,
   "id": "46abf58a-be89-404f-b6bc-d995e6cf721d",
   "metadata": {
    "tags": []
   },
   "outputs": [],
   "source": [
    "# List the session\n",
    "session = sahayak_agent.list_sessions(user_id='memory_test_4')"
   ]
  },
  {
   "cell_type": "code",
   "execution_count": 6,
   "id": "6f074b4b-c440-4494-bc82-80817b6e7c8a",
   "metadata": {
    "tags": []
   },
   "outputs": [],
   "source": [
    "# user_input = \"Which prompt was given to you earlier?\"\n",
    "user_input = \"list the prompts given to you\""
   ]
  },
  {
   "cell_type": "code",
   "execution_count": 7,
   "id": "bab08ed4-7e3d-4817-a4bd-6c7f8eeadb86",
   "metadata": {
    "tags": []
   },
   "outputs": [
    {
     "data": {
      "text/plain": [
       "{'sessions': [{'state': {},\n",
       "   'events': [],\n",
       "   'id': '1630314609980211200',\n",
       "   'lastUpdateTime': 1753419030.657336,\n",
       "   'userId': 'memory_test_4',\n",
       "   'appName': '7395007345165598720'},\n",
       "  {'state': {},\n",
       "   'appName': '7395007345165598720',\n",
       "   'lastUpdateTime': 1753359502.836323,\n",
       "   'events': [],\n",
       "   'id': '189162729221652480',\n",
       "   'userId': 'memory_test_4'},\n",
       "  {'state': {},\n",
       "   'userId': 'memory_test_4',\n",
       "   'lastUpdateTime': 1753359049.364603,\n",
       "   'id': '4935956736470155264',\n",
       "   'appName': '7395007345165598720',\n",
       "   'events': []},\n",
       "  {'id': '8106490874138984448',\n",
       "   'state': {},\n",
       "   'events': [],\n",
       "   'userId': 'memory_test_4',\n",
       "   'appName': '7395007345165598720',\n",
       "   'lastUpdateTime': 1753358928.916231},\n",
       "  {'appName': '7395007345165598720',\n",
       "   'lastUpdateTime': 1753358764.34288,\n",
       "   'events': [],\n",
       "   'id': '4827843957134196736',\n",
       "   'userId': 'memory_test_4',\n",
       "   'state': {}}]}"
      ]
     },
     "execution_count": 7,
     "metadata": {},
     "output_type": "execute_result"
    }
   ],
   "source": [
    "session"
   ]
  },
  {
   "cell_type": "code",
   "execution_count": 8,
   "id": "c62490bc-2821-4d4a-ad85-7778f92cf1e4",
   "metadata": {
    "tags": []
   },
   "outputs": [],
   "source": [
    "session = session['sessions'][0]"
   ]
  },
  {
   "cell_type": "code",
   "execution_count": 9,
   "id": "cbd77346-4e3b-4c98-826a-9333133354e4",
   "metadata": {
    "tags": []
   },
   "outputs": [
    {
     "data": {
      "text/plain": [
       "{'state': {},\n",
       " 'events': [],\n",
       " 'id': '1630314609980211200',\n",
       " 'lastUpdateTime': 1753419030.657336,\n",
       " 'userId': 'memory_test_4',\n",
       " 'appName': '7395007345165598720'}"
      ]
     },
     "execution_count": 9,
     "metadata": {},
     "output_type": "execute_result"
    }
   ],
   "source": [
    "session"
   ]
  },
  {
   "cell_type": "code",
   "execution_count": 10,
   "id": "d98e9fd1-a0ce-4902-bf94-55eab13fffd2",
   "metadata": {
    "tags": []
   },
   "outputs": [
    {
     "name": "stdout",
     "output_type": "stream",
     "text": [
      "Response: Here's a list of the prompts I've received:\n",
      "\n",
      "1.  Help me to get the stock value of the General Mills\n",
      "2.  Help me to get the stock value of the General Mills\n",
      "3.  Help me to get the stock value of the General Mills\n",
      "4.  Help me to get the information about the weather in Mumbai\n",
      "5.  Give me the list of travel destination near Pune\n",
      "6.  What is the meaning of ADK\n",
      "\n"
     ]
    }
   ],
   "source": [
    "for event in sahayak_agent.stream_query(\n",
    "            user_id=session['userId'], session_id=session['id'], message=user_input\n",
    "        ):\n",
    "            if \"content\" in event:\n",
    "                if \"parts\" in event[\"content\"]:\n",
    "                    parts = event[\"content\"][\"parts\"]\n",
    "                    for part in parts:\n",
    "                        if \"text\" in part:\n",
    "                            text_part = part[\"text\"]\n",
    "                            print(f\"Response: {text_part}\")"
   ]
  },
  {
   "cell_type": "code",
   "execution_count": null,
   "id": "1c98a763-18ed-4993-b118-37abec862295",
   "metadata": {
    "tags": []
   },
   "outputs": [],
   "source": [
    "# for event in sahayak_agent.stream_query(user_id=session.user_id, session_id.id, message=user_input):\n",
    "#     session_service.append_event(session, event)\n",
    "#     if \"content\" in event:\n",
    "#         if \"parts\" in event[\"content\"]:\n",
    "#             parts = event[\"content\"][\"parts\"]\n",
    "#             for part in parts:\n",
    "#                 if \"text\" in part:\n",
    "#                     text_part = part[\"text\"]\n",
    "#                     print(f\"Response: {text_part}\")"
   ]
  },
  {
   "cell_type": "markdown",
   "id": "3258ac4b-45ce-4278-a11f-16593526be0e",
   "metadata": {},
   "source": [
    "### Test the Vertex AI session service"
   ]
  },
  {
   "cell_type": "code",
   "execution_count": 24,
   "id": "e62e5218-d8f1-4ade-bfca-1c6f40aae315",
   "metadata": {
    "tags": []
   },
   "outputs": [],
   "source": [
    "PROJECT_ID = \"formidable-feat-466408-r6\"\n",
    "LOCATION = \"us-central1\"\n",
    "# The app_name used with this service should be the Reasoning Engine ID or name\n",
    "REASONING_ENGINE_APP_NAME = \"projects/44474009687/locations/us-central1/reasoningEngines/7395007345165598720\"\n",
    "\n",
    "session_service = VertexAiSessionService(project=PROJECT_ID, location=LOCATION)"
   ]
  },
  {
   "cell_type": "code",
   "execution_count": null,
   "id": "8b1e386e-f0bc-4ced-9db1-494752d0b5a3",
   "metadata": {
    "tags": []
   },
   "outputs": [],
   "source": [
    "# session_test = session_service.get_session(app_name='sahayak_agent',user_id='1',session_id='2617280227537059840')"
   ]
  },
  {
   "cell_type": "code",
   "execution_count": null,
   "id": "f82e1a77-f9db-4fab-839c-29d83b95203d",
   "metadata": {
    "tags": []
   },
   "outputs": [],
   "source": [
    "# session = await session_service.create_session(app_name=REASONING_ENGINE_APP_NAME,user_id='3')"
   ]
  },
  {
   "cell_type": "code",
   "execution_count": null,
   "id": "5d367d10-457e-4a36-bc4d-f96df726b412",
   "metadata": {
    "tags": []
   },
   "outputs": [],
   "source": [
    "user_input = \"Help me to get the stock value of the General Mills\""
   ]
  },
  {
   "cell_type": "code",
   "execution_count": null,
   "id": "1a0ceedc-ac42-489b-863e-c3143320d131",
   "metadata": {
    "tags": []
   },
   "outputs": [],
   "source": [
    "# --- Setup Runner and Session ---\n",
    "# async def setup_session_and_runner():\n",
    "#     session_service = InMemorySessionService()\n",
    "#     session = await session_service.create_session(app_name=REASONING_ENGINE_APP_NAME,user_id='memory_test_1')\n",
    "#     logger.info(f\"Initial session state: {session.state}\")\n",
    "#     runner = Runner(\n",
    "#         agent=story_flow_agent, # Pass the custom orchestrator agent\n",
    "#         app_name=APP_NAME,\n",
    "#         session_service=session_service\n",
    "#     )\n",
    "#     return session_service, runner"
   ]
  },
  {
   "cell_type": "code",
   "execution_count": null,
   "id": "e32b6c1a-ab92-407d-98e8-d5cd5ca52145",
   "metadata": {},
   "outputs": [],
   "source": [
    " # session_service, runner = await setup_session_and_runner()"
   ]
  },
  {
   "cell_type": "code",
   "execution_count": null,
   "id": "7b5266eb-e198-4c36-8b91-5d69400c73a7",
   "metadata": {
    "tags": []
   },
   "outputs": [],
   "source": [
    "# for event in sahayak_agent.stream_query(\n",
    "#             user_id=session_service.user_id, session_id=session_service.id, message=user_input\n",
    "#         ):\n",
    "#             session_service.append_event()\n",
    "#             if \"content\" in event:\n",
    "#                 if \"parts\" in event[\"content\"]:\n",
    "#                     parts = event[\"content\"][\"parts\"]\n",
    "#                     for part in parts:\n",
    "#                         if \"text\" in part:\n",
    "#                             text_part = part[\"text\"]\n",
    "#                             print(f\"Response: {text_part}\")"
   ]
  },
  {
   "cell_type": "code",
   "execution_count": 22,
   "id": "b3997c9d-2e5b-4ffb-b565-eff4cbbd11ef",
   "metadata": {
    "tags": []
   },
   "outputs": [],
   "source": [
    "# Define an ADK agent\n",
    "root_agent = adk.Agent(\n",
    "    model=\"gemini-2.0-flash\",\n",
    "    name='my_agent',\n",
    "    instruction=\"You are an helpful Agent\",\n",
    "    # tools=[greetings]\n",
    ")"
   ]
  },
  {
   "cell_type": "code",
   "execution_count": 23,
   "id": "ec7e9812-9cb2-4bb4-85ae-167de989101a",
   "metadata": {
    "tags": []
   },
   "outputs": [],
   "source": [
    "runner = adk.Runner(\n",
    "    agent=root_agent,\n",
    "    app_name=REASONING_ENGINE_APP_NAME,\n",
    "    session_service=session_service)"
   ]
  },
  {
   "cell_type": "code",
   "execution_count": 13,
   "id": "e7053781-f067-473f-af44-51509f2dd392",
   "metadata": {
    "tags": []
   },
   "outputs": [
    {
     "name": "stdout",
     "output_type": "stream",
     "text": [
      "Created new session: 4336696511053168640\n"
     ]
    }
   ],
   "source": [
    "# Create a session\n",
    "# session = await session_service.create_session(\n",
    "#        app_name=REASONING_ENGINE_APP_NAME,\n",
    "#        user_id='memory_test_4')\n",
    "\n",
    "#check for existing sessions\n",
    "existing_sessions = await session_service.list_sessions(\n",
    "    app_name = REASONING_ENGINE_APP_NAME,\n",
    "    user_id = 'memory_test_6',\n",
    ")\n",
    "\n",
    "if existing_sessions and len(existing_sessions.sessions) > 0:\n",
    "    SESSION_ID = existing_sessions.sessions[0].id\n",
    "    print(f\"Continuing existing session: {SESSION_ID}\")\n",
    "else:\n",
    "    new_session = await session_service.create_session(\n",
    "        app_name = REASONING_ENGINE_APP_NAME,\n",
    "        user_id = 'memory_test_6',\n",
    "    )\n",
    "    SESSION_ID = new_session.id\n",
    "    print(f\"Created new session: {SESSION_ID}\")\n"
   ]
  },
  {
   "cell_type": "code",
   "execution_count": 16,
   "id": "4ec1c6a5-f2c3-4d25-870f-e5d394a5aadc",
   "metadata": {
    "tags": []
   },
   "outputs": [],
   "source": [
    "# temp_session = existing_sessions.sessions[0]\n",
    "temp_session = new_session"
   ]
  },
  {
   "cell_type": "code",
   "execution_count": 17,
   "id": "a1995560-45a4-44bb-8714-b325bf03d71e",
   "metadata": {
    "tags": []
   },
   "outputs": [
    {
     "data": {
      "text/plain": [
       "Session(id='4336696511053168640', app_name='projects/44474009687/locations/us-central1/reasoningEngines/7395007345165598720', user_id='memory_test_6', state={}, events=[], last_update_time=1753419572.811848)"
      ]
     },
     "execution_count": 17,
     "metadata": {},
     "output_type": "execute_result"
    }
   ],
   "source": [
    "temp_session"
   ]
  },
  {
   "cell_type": "code",
   "execution_count": 25,
   "id": "f06f9121-a386-4392-88af-c39e4a273170",
   "metadata": {
    "tags": []
   },
   "outputs": [],
   "source": [
    "# Helper method to send query to the runner\n",
    "def call_agent(query, session_id, user_id):\n",
    "    content = types.Content(role='user', parts=[types.Part(text=query)])\n",
    "    events = runner.run(\n",
    "      user_id=user_id, session_id=session_id, new_message=content)\n",
    "    for event in events:\n",
    "        if event.is_final_response():\n",
    "            final_response = event.content.parts[0].text\n",
    "            print(\"Agent Response: \", final_response)"
   ]
  },
  {
   "cell_type": "code",
   "execution_count": 32,
   "id": "3df1474f-bcf8-445a-930a-e3107a7e7a17",
   "metadata": {
    "tags": []
   },
   "outputs": [],
   "source": [
    "# user_input = \"Help me to get the stock value of the Micron\"\n",
    "# user_input = \"Help me to get the information about the weather in Pune\"\n",
    "# user_input = \"Give me the list of travel destination near Mumbai\"\n",
    "user_input = \"What is the meaning of ADK\""
   ]
  },
  {
   "cell_type": "code",
   "execution_count": 33,
   "id": "dea5acca-d6d5-4838-9d66-b242bfb2308f",
   "metadata": {
    "tags": []
   },
   "outputs": [
    {
     "name": "stdout",
     "output_type": "stream",
     "text": [
      "Agent Response:  \"ADK\" can have a few different meanings, depending on the context. Here are the most common:\n",
      "\n",
      "*   **Android Development Kit:** This is the most likely meaning if you're talking about software development or technology. It's a set of tools that allows developers to build applications for the Android platform.\n",
      "\n",
      "*   **Appalachian Daily Kuso:** This can refer to online forums that are popular for entertainment\n",
      "\n",
      "*   **Adenosine Deaminase Kinase:** In the field of biochemistry and molecular biology, ADK stands for Adenosine Deaminase Kinase.\n",
      "*   **Adirondack Mountains:** A mountain range located in northeastern New York state, USA.\n",
      "\n",
      "To help me provide a more accurate answer, could you provide some context for where you saw or heard the abbreviation \"ADK\"?\n",
      "\n"
     ]
    }
   ],
   "source": [
    "call_agent(user_input, temp_session.id, temp_session.user_id)"
   ]
  },
  {
   "cell_type": "code",
   "execution_count": 34,
   "id": "b40ee0ba-8dc7-432d-87f4-5b2c29aa8d86",
   "metadata": {
    "tags": []
   },
   "outputs": [
    {
     "data": {
      "text/plain": [
       "Session(id='4336696511053168640', app_name='projects/44474009687/locations/us-central1/reasoningEngines/7395007345165598720', user_id='memory_test_6', state={}, events=[], last_update_time=1753419572.811848)"
      ]
     },
     "execution_count": 34,
     "metadata": {},
     "output_type": "execute_result"
    }
   ],
   "source": [
    "temp_session"
   ]
  },
  {
   "cell_type": "code",
   "execution_count": null,
   "id": "061aa3b1-1f6b-4e38-baea-cbab5cf4e043",
   "metadata": {},
   "outputs": [],
   "source": []
  }
 ],
 "metadata": {
  "environment": {
   "kernel": "conda-base-py",
   "name": "workbench-notebooks.m131",
   "type": "gcloud",
   "uri": "us-docker.pkg.dev/deeplearning-platform-release/gcr.io/workbench-notebooks:m131"
  },
  "kernelspec": {
   "display_name": "Python 3 (ipykernel) (Local)",
   "language": "python",
   "name": "conda-base-py"
  },
  "language_info": {
   "codemirror_mode": {
    "name": "ipython",
    "version": 3
   },
   "file_extension": ".py",
   "mimetype": "text/x-python",
   "name": "python",
   "nbconvert_exporter": "python",
   "pygments_lexer": "ipython3",
   "version": "3.10.18"
  }
 },
 "nbformat": 4,
 "nbformat_minor": 5
}
