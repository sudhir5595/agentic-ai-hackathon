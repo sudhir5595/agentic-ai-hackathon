{
 "cells": [
  {
   "cell_type": "code",
   "execution_count": 2,
   "id": "db1c25d9-c3db-4ef6-89bf-517fc357b2b7",
   "metadata": {
    "tags": []
   },
   "outputs": [],
   "source": [
    "PROJECT_ID = \"formidable-feat-466408-r6\"  # @param {type:\"string\"}\n",
    "LOCATION = \"us-central1\"  # @param {type:\"string\"}\n",
    "STAGING_BUCKET = \"gs://agentic_ai_ebooks_bucket\"  # @param {type:\"string\"}\n",
    "import vertexai\n",
    "vertexai.init(project=PROJECT_ID, location=LOCATION, staging_bucket=STAGING_BUCKET)"
   ]
  },
  {
   "cell_type": "code",
   "execution_count": 3,
   "id": "5988b8d7-d159-4fb1-97fa-32c3fa9629cc",
   "metadata": {
    "tags": []
   },
   "outputs": [],
   "source": [
    "from datetime import datetime\n",
    "from google import adk\n",
    "from google.adk.agents import Agent\n",
    "from vertexai import agent_engines\n",
    "from vertexai.preview.reasoning_engines import AdkApp\n",
    "from google.adk.sessions import InMemorySessionService, Session\n",
    "from google.adk.runners import Runner\n",
    "from google.genai.types import Content, Part\n",
    "from google.adk.sessions import VertexAiSessionService\n",
    "from google.adk.tools import google_search\n",
    "from google.adk.tools import LongRunningFunctionTool\n",
    "from google.adk.tools import ToolContext"
   ]
  },
  {
   "cell_type": "code",
   "execution_count": 4,
   "id": "c0212c5d-2a98-4544-b053-baa527331a50",
   "metadata": {
    "tags": []
   },
   "outputs": [],
   "source": [
    "from vertexai import rag\n",
    "from google.adk.tools.retrieval.vertex_ai_rag_retrieval import VertexAiRagRetrieval\n",
    "from vertexai.generative_models import GenerativeModel, Tool\n",
    "from google.genai import types # For types.Content\n",
    "from vertexai.preview.vision_models import ImageGenerationModel\n",
    "from vertexai import generative_models\n",
    "import json\n",
    "import io\n",
    "from google.cloud import storage"
   ]
  },
  {
   "cell_type": "code",
   "execution_count": 5,
   "id": "700e9677-9ea7-4ac8-8a9e-77e16821cae8",
   "metadata": {
    "tags": []
   },
   "outputs": [],
   "source": [
    "import os\n",
    "os.environ[\"GOOGLE_GENAI_USE_VERTEXAI\"]=\"1\"\n",
    "os.environ[\"GOOGLE_CLOUD_PROJECT\"]=\"formidable-feat-466408-r6\"\n",
    "os.environ[\"GOOGLE_CLOUD_LOCATION\"]=\"us-central1\""
   ]
  },
  {
   "cell_type": "code",
   "execution_count": 6,
   "id": "9832af4f-4738-4abb-b54b-1bf6f0dd78bb",
   "metadata": {
    "tags": []
   },
   "outputs": [],
   "source": [
    "from google import genai\n",
    "client = genai.Client()"
   ]
  },
  {
   "cell_type": "code",
   "execution_count": 7,
   "id": "8f95361f-ee47-4096-93ae-d3409e6a836c",
   "metadata": {
    "tags": []
   },
   "outputs": [],
   "source": [
    "# Save to GCS bucket\n",
    "# def upload_to_gcs():\n",
    "#     \"\"\"\n",
    "#     Uploads a file to the GCS bucket - no input is needed.\n",
    "    \n",
    "#     Returns:\n",
    "#         str: Public URL of the uploaded file.\n",
    "#     \"\"\"\n",
    "    \n",
    "#     bucket_name = \"agentic_ai_ebooks_bucket\"\n",
    "#     source_file_name = \"sample_image.png\"\n",
    "#     destination_blob_name = \"uploaded_images/sample_image.png\"\n",
    "    \n",
    "#     try:\n",
    "#         # Initialize the GCS client\n",
    "#         storage_client = storage.Client()\n",
    "\n",
    "#         # Get the bucket\n",
    "#         bucket = storage_client.bucket(bucket_name)\n",
    "\n",
    "#         # Create a blob object\n",
    "#         blob = bucket.blob(destination_blob_name)\n",
    "\n",
    "#         # Upload the file\n",
    "#         blob.upload_from_filename(source_file_name)\n",
    "\n",
    "#         print(f\"File {source_file_name} uploaded to {destination_blob_name} in bucket {bucket_name}.\")\n",
    "        \n",
    "#         # Return the public URL of the uploaded file\n",
    "#         return blob.public_url\n",
    "\n",
    "#     except Exception as e:\n",
    "#         print(f\"An error occurred: {e}\")\n",
    "#         return None\n",
    "# if __name__ == \"__main__\":\n",
    "#     # Example usage\n",
    "    \n",
    "\n",
    "#     public_url = upload_to_gcs(bucket_name, source_file_name, destination_blob_name)\n",
    "#     if public_url:\n",
    "#         print(f\"File uploaded successfully. Public URL: {public_url}\")\n",
    "#     else:\n",
    "#         print(\"File upload failed.\")"
   ]
  },
  {
   "cell_type": "code",
   "execution_count": 8,
   "id": "962acd97-7ae1-4c76-80f0-47a7c6fbb72a",
   "metadata": {
    "tags": []
   },
   "outputs": [],
   "source": [
    "# Define the image generation tool\n",
    "async def generate_image(prompt: str, tool_context: ToolContext):\n",
    "    \"\"\"Generates an image based on the given prompt using Imagen.\n",
    "     Returns:\n",
    "        str: Public URL of the uploaded file.\n",
    "    \"\"\"\n",
    "    \n",
    "    response = client.models.generate_images(\n",
    "        prompt=prompt,\n",
    "        model=\"imagen-3.0-generate-002\",\n",
    "        config=types.GenerateImagesConfig(\n",
    "                number_of_images=1,\n",
    "                aspect_ratio=\"9:16\",\n",
    "                safety_filter_level=\"block_few\",\n",
    "                person_generation=\"allow_all\",\n",
    "            )\n",
    "    )\n",
    "    \n",
    "    \n",
    "    if response.generated_images is not None:\n",
    "        for generated_image in response.generated_images:\n",
    "            # Get the image bytes\n",
    "            image_bytes = generated_image.image.image_bytes\n",
    "            counter = str(tool_context.state.get(\"loop_iteration\", 0))\n",
    "            artifact_name = f\"generated_image_\" + counter + \".png\"\n",
    "            # call save to gcs function\n",
    "            # if config.GCS_BUCKET_NAME:\n",
    "            save_to_gcs(tool_context, image_bytes, artifact_name, counter)\n",
    "            \n",
    "         # Save as ADK artifact (optional, if still needed by other ADK components)\n",
    "            report_artifact = types.Part.from_bytes(\n",
    "                data=image_bytes, mime_type=\"image/png\"\n",
    "            )\n",
    "\n",
    "            await tool_context.save_artifact(artifact_name, report_artifact)\n",
    "            print(f\"Image also saved as ADK artifact: {artifact_name}\")\n",
    "\n",
    "            return {\n",
    "                \"status\": \"success\",\n",
    "                \"message\": f\"Image generated .  ADK artifact: {artifact_name}.\",\n",
    "                \"artifact_name\": artifact_name,\n",
    "            }\n",
    "\n",
    "    \n",
    "    # images[0].save(\"sample_image.png\")\n",
    "    \n",
    "\n",
    "#     bucket_name = \"agentic_ai_ebooks_bucket\"\n",
    "#     source_file_name = \"sample_image.png\"\n",
    "#     destination_blob_name = \"uploaded_images/sample_image.png\"\n",
    "\n",
    "#     try:\n",
    "#         # Initialize the GCS client\n",
    "#         storage_client = storage.Client()\n",
    "\n",
    "#         # Get the bucket\n",
    "#         bucket = storage_client.bucket(bucket_name)\n",
    "\n",
    "#         # Create a blob object\n",
    "#         blob = bucket.blob(destination_blob_name)\n",
    "\n",
    "#         # Upload the file\n",
    "#         blob.upload_from_filename(source_file_name)\n",
    "\n",
    "#         print(f\"File {source_file_name} uploaded to {destination_blob_name} in bucket {bucket_name}.\")\n",
    "\n",
    "#         # Return the public URL of the uploaded file\n",
    "#         return blob.public_url\n",
    "\n",
    "#     except Exception as e:\n",
    "#         print(f\"An error occurred: {e}\")\n",
    "#         return None\n",
    "    \n",
    "#     # public_url = upload_to_gcs()\n",
    "    \n",
    "#     return None"
   ]
  },
  {
   "cell_type": "code",
   "execution_count": 9,
   "id": "6fedab11-356b-42d6-97e0-5d0643213a06",
   "metadata": {
    "tags": []
   },
   "outputs": [],
   "source": [
    "def save_to_gcs(tool_context: ToolContext, image_bytes, filename: str, counter: str):\n",
    "    # --- Save to GCS ---\n",
    "    storage_client = storage.Client()  # Initialize GCS client\n",
    "    bucket_name = \"agentic_ai_ebooks_bucket\"\n",
    "\n",
    "    unique_id = tool_context.state.get(\"unique_id\", \"\")\n",
    "    current_date_str = datetime.utcnow().strftime(\"%Y-%m-%d\")\n",
    "    unique_filename = filename\n",
    "    gcs_blob_name = f\"{current_date_str}/{unique_id}/{unique_filename}\"\n",
    "\n",
    "    bucket = storage_client.bucket(bucket_name)\n",
    "    blob = bucket.blob(gcs_blob_name)\n",
    "\n",
    "    try:\n",
    "        blob.upload_from_string(image_bytes, content_type=\"image/png\")\n",
    "        gcs_uri = f\"gs://{bucket_name}/{gcs_blob_name}\"\n",
    "\n",
    "        # Store GCS URI in session context\n",
    "        # Store GCS URI in session context\n",
    "        tool_context.state[\"generated_image_gcs_uri_\" + counter] = gcs_uri\n",
    "\n",
    "    except Exception as e_gcs:\n",
    "\n",
    "        # Decide if this is a fatal error for the tool\n",
    "        return {\n",
    "            \"status\": \"error\",\n",
    "            \"message\": f\"Image generated but failed to upload to GCS: {e_gcs}\",\n",
    "        }\n",
    "        # --- End Save to GCS ---"
   ]
  },
  {
   "cell_type": "code",
   "execution_count": 10,
   "id": "7a92e130-b0ab-4958-b90e-214d86a43b59",
   "metadata": {
    "tags": []
   },
   "outputs": [],
   "source": [
    "# long_running_tool = LongRunningFunctionTool(func=generate_image)"
   ]
  },
  {
   "cell_type": "code",
   "execution_count": 11,
   "id": "1ab4ff6c-b7e3-451b-ba1c-48721f711690",
   "metadata": {
    "tags": []
   },
   "outputs": [],
   "source": [
    "agent_model = \"gemini-2.0-flash-001\"\n",
    "AGENT_APP_NAME = \"Image_generation_agent\""
   ]
  },
  {
   "cell_type": "code",
   "execution_count": 12,
   "id": "c4a37e23-9cdd-4e11-9b1f-052dc69e36ed",
   "metadata": {
    "tags": []
   },
   "outputs": [],
   "source": [
    "image_generation_agent = Agent(\n",
    "        model=agent_model,\n",
    "        name=AGENT_APP_NAME,\n",
    "        description=\"You are helpful assitant, which help users to generate the images\",\n",
    "        instruction=\"You are an AI assistant designed to help teachers create visual aids for students. Your primary goal is to generate images that support educational activities and enhance learning.When generating an image, ensure it aligns with the following principles derived from educational practices:Encourage Observation: Create visuals that prompt students to look closely and observe details (निरीक्षण कर).Promote Action: Design images that can be used for look and do (बघ व कर) activities.Foster Creativity (सर्जनशीलता): Your visuals should inspire creative thinking and can be used for exercises like Picture Brainstorming or Thinker Keys.Be a Learning Medium (माध्यम): Function as a piece of educational technology (तंत्रज्ञान) that makes concepts clearer. Support Activities: If requested, generate simple outlines suitable for activities like fill the colours (रंग भर). Always generate content that is clear, simple, and appropriate for a student audience.\",\n",
    "        generate_content_config=types.GenerateContentConfig(temperature=0.2),\n",
    "        tools = [generate_image],\n",
    ")"
   ]
  },
  {
   "cell_type": "code",
   "execution_count": 13,
   "id": "871ef41f-5c8c-4290-801a-eb1ed695e25c",
   "metadata": {
    "tags": []
   },
   "outputs": [],
   "source": [
    "# Define an ADK agent\n",
    "root_agent = adk.Agent(\n",
    "    model=\"gemini-2.0-flash\",\n",
    "    name='my_agent',\n",
    "    instruction=\"You are an helpful Agent\",\n",
    ")"
   ]
  },
  {
   "cell_type": "code",
   "execution_count": 14,
   "id": "9c9a597d-ec5d-4ab8-bd61-2186e9f02254",
   "metadata": {
    "tags": []
   },
   "outputs": [],
   "source": [
    "app = AdkApp(\n",
    "   agent=image_generation_agent,\n",
    "    enable_tracing=True# Required.\n",
    "   # session_service_builder=session_service_builder,  # Optional.\n",
    ")"
   ]
  },
  {
   "cell_type": "code",
   "execution_count": 15,
   "id": "891acd87-91b0-4988-b2a5-f4103a652865",
   "metadata": {
    "tags": []
   },
   "outputs": [
    {
     "name": "stdout",
     "output_type": "stream",
     "text": [
      "Agent created successfully\n"
     ]
    }
   ],
   "source": [
    "# This will create a session locally for interaction\n",
    "session = app.create_session(user_id=\"123\")\n",
    "for event in app.stream_query(\n",
    "    user_id=\"123\",\n",
    "    session_id=session.id,\n",
    "    message=\"hello!\",\n",
    "):\n",
    "    if event.get(\"content\", None):\n",
    "        print(\n",
    "            f\"Agent created successfully\"\n",
    "        )"
   ]
  },
  {
   "cell_type": "code",
   "execution_count": null,
   "id": "799d5db6-b9e8-4eee-9b2a-3d8f0fbab397",
   "metadata": {},
   "outputs": [],
   "source": []
  },
  {
   "cell_type": "code",
   "execution_count": 26,
   "id": "557ba3b0-7834-47d5-8022-55788c6ccf02",
   "metadata": {
    "tags": []
   },
   "outputs": [],
   "source": [
    "# await query_agent(remote_agent)"
   ]
  },
  {
   "cell_type": "code",
   "execution_count": 27,
   "id": "0518f133-b0c5-40a2-96e8-18c3cc3dd30e",
   "metadata": {
    "tags": []
   },
   "outputs": [
    {
     "name": "stderr",
     "output_type": "stream",
     "text": [
      "Warning: there are non-text parts in the response: ['function_call'], returning concatenated text result from text parts. Check the full candidates.content.parts accessor to get the full model response.\n"
     ]
    },
    {
     "name": "stdout",
     "output_type": "stream",
     "text": [
      "{'content': {'parts': [{'function_call': {'id': 'adk-25993c2d-3228-43fd-b7f4-2511747ae422', 'args': {'prompt': 'mobile phone'}, 'name': 'generate_image'}}], 'role': 'model'}, 'usage_metadata': {'candidates_token_count': 6, 'candidates_tokens_details': [{'modality': <MediaModality.TEXT: 'TEXT'>, 'token_count': 6}], 'prompt_token_count': 261, 'prompt_tokens_details': [{'modality': <MediaModality.TEXT: 'TEXT'>, 'token_count': 261}], 'total_token_count': 267, 'traffic_type': <TrafficType.ON_DEMAND: 'ON_DEMAND'>}, 'invocation_id': 'e-1d3b4bee-6312-44a9-98f4-7b521df4c07e', 'author': 'Image_generation_agent', 'actions': {'state_delta': {}, 'artifact_delta': {}, 'requested_auth_configs': {}}, 'long_running_tool_ids': set(), 'id': '543216d6-aee9-4851-a05b-a6fb412878a1', 'timestamp': 1753566871.008511}\n",
      "Image also saved as ADK artifact: generated_image_0.png\n",
      "{'content': {'parts': [{'function_response': {'id': 'adk-25993c2d-3228-43fd-b7f4-2511747ae422', 'name': 'generate_image', 'response': {'status': 'success', 'message': 'Image generated .  ADK artifact: generated_image_0.png.', 'artifact_name': 'generated_image_0.png'}}}], 'role': 'user'}, 'invocation_id': 'e-1d3b4bee-6312-44a9-98f4-7b521df4c07e', 'author': 'Image_generation_agent', 'actions': {'state_delta': {'generated_image_gcs_uri_0': 'gs://agentic_ai_ebooks_bucket/2025-07-26//generated_image_0.png'}, 'artifact_delta': {'generated_image_0.png': 0}, 'requested_auth_configs': {}}, 'id': '0e3347bc-20bf-4dee-9fe9-206e35d4c5c3', 'timestamp': 1753566878.690641}\n",
      "{'content': {'parts': [{'text': 'I have generated an image of a mobile phone. If you need any modifications or a different style, just let me know!\\n'}], 'role': 'model'}, 'usage_metadata': {'candidates_token_count': 26, 'candidates_tokens_details': [{'modality': <MediaModality.TEXT: 'TEXT'>, 'token_count': 26}], 'prompt_token_count': 299, 'prompt_tokens_details': [{'modality': <MediaModality.TEXT: 'TEXT'>, 'token_count': 299}], 'total_token_count': 325, 'traffic_type': <TrafficType.ON_DEMAND: 'ON_DEMAND'>}, 'invocation_id': 'e-1d3b4bee-6312-44a9-98f4-7b521df4c07e', 'author': 'Image_generation_agent', 'actions': {'state_delta': {}, 'artifact_delta': {}, 'requested_auth_configs': {}}, 'id': 'c1dae7bf-b461-420e-8ddf-443f96ea3e64', 'timestamp': 1753566878.694952}\n"
     ]
    }
   ],
   "source": [
    "# This will create a session locally for interaction\n",
    "session = app.create_session(user_id=\"123\")\n",
    "for event in app.stream_query(\n",
    "    user_id=\"123\",\n",
    "    session_id=session.id,\n",
    "    message=\"Generate me any mobile phone image\",\n",
    "):\n",
    "    print(event)"
   ]
  },
  {
   "cell_type": "code",
   "execution_count": 16,
   "id": "c5567979-4e42-4091-a1dc-5d0a502d03d8",
   "metadata": {
    "tags": []
   },
   "outputs": [],
   "source": [
    "display_name = \"Image_Generation_Agent\"\n",
    "description = \"An agent that will generate the images based on the user query\""
   ]
  },
  {
   "cell_type": "code",
   "execution_count": 18,
   "id": "6210a750-855e-4243-8e3e-5400038cd035",
   "metadata": {
    "tags": []
   },
   "outputs": [
    {
     "name": "stdout",
     "output_type": "stream",
     "text": [
      "Identified the following requirements: {'google-cloud-aiplatform': '1.103.0', 'pydantic': '2.11.7', 'cloudpickle': '3.1.1'}\n",
      "The following requirements are missing: {'cloudpickle'}\n",
      "The following requirements are appended: {'cloudpickle==3.1.1'}\n",
      "The final list of requirements: ['google-adk (>=0.0.2)', 'google-cloud-aiplatform[agent_engines] (>=1.88.0,<2.0.0)', 'google-genai (>=1.5.0,<2.0.0)', 'pydantic (>=2.10.6,<3.0.0)', 'absl-py (>=2.2.1,<3.0.0)', 'google-cloud-storage(>=2.14.0,<=3.1.0)', 'pillow (>=10.3.0,<11.0.0)', 'cloudpickle==3.1.1']\n",
      "Using bucket agentic_ai_ebooks_bucket\n"
     ]
    },
    {
     "ename": "TypeError",
     "evalue": "Failed to serialize agent engine. Visit https://cloud.google.com/vertex-ai/generative-ai/docs/agent-engine/develop/custom#deployment-considerations for details.",
     "output_type": "error",
     "traceback": [
      "\u001b[0;31m---------------------------------------------------------------------------\u001b[0m",
      "\u001b[0;31mTypeError\u001b[0m                                 Traceback (most recent call last)",
      "File \u001b[0;32m/opt/conda/lib/python3.10/site-packages/vertexai/agent_engines/_agent_engines.py:981\u001b[0m, in \u001b[0;36m_upload_agent_engine\u001b[0;34m(agent_engine, gcs_bucket, gcs_dir_name, logger)\u001b[0m\n\u001b[1;32m    980\u001b[0m \u001b[38;5;28;01mtry\u001b[39;00m:\n\u001b[0;32m--> 981\u001b[0m     \u001b[43mcloudpickle\u001b[49m\u001b[38;5;241;43m.\u001b[39;49m\u001b[43mdump\u001b[49m\u001b[43m(\u001b[49m\u001b[43magent_engine\u001b[49m\u001b[43m,\u001b[49m\u001b[43m \u001b[49m\u001b[43mf\u001b[49m\u001b[43m)\u001b[49m\n\u001b[1;32m    982\u001b[0m \u001b[38;5;28;01mexcept\u001b[39;00m \u001b[38;5;167;01mException\u001b[39;00m \u001b[38;5;28;01mas\u001b[39;00m e:\n",
      "File \u001b[0;32m/opt/conda/lib/python3.10/site-packages/cloudpickle/cloudpickle.py:1519\u001b[0m, in \u001b[0;36mdump\u001b[0;34m(obj, file, protocol, buffer_callback)\u001b[0m\n\u001b[1;32m   1507\u001b[0m \u001b[38;5;250m\u001b[39m\u001b[38;5;124;03m\"\"\"Serialize obj as bytes streamed into file\u001b[39;00m\n\u001b[1;32m   1508\u001b[0m \n\u001b[1;32m   1509\u001b[0m \u001b[38;5;124;03mprotocol defaults to cloudpickle.DEFAULT_PROTOCOL which is an alias to\u001b[39;00m\n\u001b[0;32m   (...)\u001b[0m\n\u001b[1;32m   1517\u001b[0m \u001b[38;5;124;03mnext).\u001b[39;00m\n\u001b[1;32m   1518\u001b[0m \u001b[38;5;124;03m\"\"\"\u001b[39;00m\n\u001b[0;32m-> 1519\u001b[0m \u001b[43mPickler\u001b[49m\u001b[43m(\u001b[49m\u001b[43mfile\u001b[49m\u001b[43m,\u001b[49m\u001b[43m \u001b[49m\u001b[43mprotocol\u001b[49m\u001b[38;5;241;43m=\u001b[39;49m\u001b[43mprotocol\u001b[49m\u001b[43m,\u001b[49m\u001b[43m \u001b[49m\u001b[43mbuffer_callback\u001b[49m\u001b[38;5;241;43m=\u001b[39;49m\u001b[43mbuffer_callback\u001b[49m\u001b[43m)\u001b[49m\u001b[38;5;241;43m.\u001b[39;49m\u001b[43mdump\u001b[49m\u001b[43m(\u001b[49m\u001b[43mobj\u001b[49m\u001b[43m)\u001b[49m\n",
      "File \u001b[0;32m/opt/conda/lib/python3.10/site-packages/cloudpickle/cloudpickle.py:1303\u001b[0m, in \u001b[0;36mPickler.dump\u001b[0;34m(self, obj)\u001b[0m\n\u001b[1;32m   1302\u001b[0m \u001b[38;5;28;01mtry\u001b[39;00m:\n\u001b[0;32m-> 1303\u001b[0m     \u001b[38;5;28;01mreturn\u001b[39;00m \u001b[38;5;28;43msuper\u001b[39;49m\u001b[43m(\u001b[49m\u001b[43m)\u001b[49m\u001b[38;5;241;43m.\u001b[39;49m\u001b[43mdump\u001b[49m\u001b[43m(\u001b[49m\u001b[43mobj\u001b[49m\u001b[43m)\u001b[49m\n\u001b[1;32m   1304\u001b[0m \u001b[38;5;28;01mexcept\u001b[39;00m \u001b[38;5;167;01mRuntimeError\u001b[39;00m \u001b[38;5;28;01mas\u001b[39;00m e:\n",
      "\u001b[0;31mTypeError\u001b[0m: cannot pickle '_thread.lock' object",
      "\nThe above exception was the direct cause of the following exception:\n",
      "\u001b[0;31mTypeError\u001b[0m                                 Traceback (most recent call last)",
      "Cell \u001b[0;32mIn[18], line 1\u001b[0m\n\u001b[0;32m----> 1\u001b[0m remote_agent \u001b[38;5;241m=\u001b[39m \u001b[43magent_engines\u001b[49m\u001b[38;5;241;43m.\u001b[39;49m\u001b[43mcreate\u001b[49m\u001b[43m(\u001b[49m\n\u001b[1;32m      2\u001b[0m \u001b[43m    \u001b[49m\u001b[43mapp\u001b[49m\u001b[43m,\u001b[49m\n\u001b[1;32m      3\u001b[0m \u001b[43m    \u001b[49m\u001b[43mrequirements\u001b[49m\u001b[38;5;241;43m=\u001b[39;49m\u001b[43m[\u001b[49m\n\u001b[1;32m      4\u001b[0m \u001b[43m        \u001b[49m\u001b[38;5;124;43m\"\u001b[39;49m\u001b[38;5;124;43mgoogle-adk (>=0.0.2)\u001b[39;49m\u001b[38;5;124;43m\"\u001b[39;49m\u001b[43m,\u001b[49m\n\u001b[1;32m      5\u001b[0m \u001b[43m        \u001b[49m\u001b[38;5;124;43m\"\u001b[39;49m\u001b[38;5;124;43mgoogle-cloud-aiplatform[agent_engines] (>=1.88.0,<2.0.0)\u001b[39;49m\u001b[38;5;124;43m\"\u001b[39;49m\u001b[43m,\u001b[49m\n\u001b[1;32m      6\u001b[0m \u001b[43m        \u001b[49m\u001b[38;5;124;43m\"\u001b[39;49m\u001b[38;5;124;43mgoogle-genai (>=1.5.0,<2.0.0)\u001b[39;49m\u001b[38;5;124;43m\"\u001b[39;49m\u001b[43m,\u001b[49m\n\u001b[1;32m      7\u001b[0m \u001b[43m        \u001b[49m\u001b[38;5;124;43m\"\u001b[39;49m\u001b[38;5;124;43mpydantic (>=2.10.6,<3.0.0)\u001b[39;49m\u001b[38;5;124;43m\"\u001b[39;49m\u001b[43m,\u001b[49m\n\u001b[1;32m      8\u001b[0m \u001b[43m        \u001b[49m\u001b[38;5;124;43m\"\u001b[39;49m\u001b[38;5;124;43mabsl-py (>=2.2.1,<3.0.0)\u001b[39;49m\u001b[38;5;124;43m\"\u001b[39;49m\u001b[43m,\u001b[49m\n\u001b[1;32m      9\u001b[0m \u001b[43m        \u001b[49m\u001b[38;5;124;43m\"\u001b[39;49m\u001b[38;5;124;43mgoogle-cloud-storage(>=2.14.0,<=3.1.0)\u001b[39;49m\u001b[38;5;124;43m\"\u001b[39;49m\u001b[43m,\u001b[49m\n\u001b[1;32m     10\u001b[0m \u001b[43m        \u001b[49m\u001b[38;5;124;43m\"\u001b[39;49m\u001b[38;5;124;43mpillow (>=10.3.0,<11.0.0)\u001b[39;49m\u001b[38;5;124;43m\"\u001b[39;49m\u001b[43m,\u001b[49m\n\u001b[1;32m     11\u001b[0m \u001b[43m    \u001b[49m\u001b[43m]\u001b[49m\u001b[43m,\u001b[49m\n\u001b[1;32m     12\u001b[0m \u001b[43m    \u001b[49m\u001b[43mdisplay_name\u001b[49m\u001b[38;5;241;43m=\u001b[39;49m\u001b[43mdisplay_name\u001b[49m\u001b[43m,\u001b[49m\n\u001b[1;32m     13\u001b[0m \u001b[43m    \u001b[49m\u001b[43mdescription\u001b[49m\u001b[38;5;241;43m=\u001b[39;49m\u001b[43mdescription\u001b[49m\n\u001b[1;32m     14\u001b[0m \u001b[43m)\u001b[49m\n",
      "File \u001b[0;32m/opt/conda/lib/python3.10/site-packages/vertexai/agent_engines/__init__.py:161\u001b[0m, in \u001b[0;36mcreate\u001b[0;34m(agent_engine, requirements, display_name, description, gcs_dir_name, extra_packages, env_vars, build_options)\u001b[0m\n\u001b[1;32m     62\u001b[0m \u001b[38;5;28;01mdef\u001b[39;00m\u001b[38;5;250m \u001b[39m\u001b[38;5;21mcreate\u001b[39m(\n\u001b[1;32m     63\u001b[0m     agent_engine: Optional[Union[Queryable, OperationRegistrable]] \u001b[38;5;241m=\u001b[39m \u001b[38;5;28;01mNone\u001b[39;00m,\n\u001b[1;32m     64\u001b[0m     \u001b[38;5;241m*\u001b[39m,\n\u001b[0;32m   (...)\u001b[0m\n\u001b[1;32m     73\u001b[0m     build_options: Optional[Dict[\u001b[38;5;28mstr\u001b[39m, Sequence[\u001b[38;5;28mstr\u001b[39m]]] \u001b[38;5;241m=\u001b[39m \u001b[38;5;28;01mNone\u001b[39;00m,\n\u001b[1;32m     74\u001b[0m ) \u001b[38;5;241m-\u001b[39m\u001b[38;5;241m>\u001b[39m AgentEngine:\n\u001b[1;32m     75\u001b[0m \u001b[38;5;250m    \u001b[39m\u001b[38;5;124;03m\"\"\"Creates a new Agent Engine.\u001b[39;00m\n\u001b[1;32m     76\u001b[0m \n\u001b[1;32m     77\u001b[0m \u001b[38;5;124;03m    The Agent Engine will be an instance of the `agent_engine` that\u001b[39;00m\n\u001b[0;32m   (...)\u001b[0m\n\u001b[1;32m    159\u001b[0m \u001b[38;5;124;03m        nonexistent file.\u001b[39;00m\n\u001b[1;32m    160\u001b[0m \u001b[38;5;124;03m    \"\"\"\u001b[39;00m\n\u001b[0;32m--> 161\u001b[0m     \u001b[38;5;28;01mreturn\u001b[39;00m \u001b[43mAgentEngine\u001b[49m\u001b[38;5;241;43m.\u001b[39;49m\u001b[43mcreate\u001b[49m\u001b[43m(\u001b[49m\n\u001b[1;32m    162\u001b[0m \u001b[43m        \u001b[49m\u001b[43magent_engine\u001b[49m\u001b[38;5;241;43m=\u001b[39;49m\u001b[43magent_engine\u001b[49m\u001b[43m,\u001b[49m\n\u001b[1;32m    163\u001b[0m \u001b[43m        \u001b[49m\u001b[43mrequirements\u001b[49m\u001b[38;5;241;43m=\u001b[39;49m\u001b[43mrequirements\u001b[49m\u001b[43m,\u001b[49m\n\u001b[1;32m    164\u001b[0m \u001b[43m        \u001b[49m\u001b[43mdisplay_name\u001b[49m\u001b[38;5;241;43m=\u001b[39;49m\u001b[43mdisplay_name\u001b[49m\u001b[43m,\u001b[49m\n\u001b[1;32m    165\u001b[0m \u001b[43m        \u001b[49m\u001b[43mdescription\u001b[49m\u001b[38;5;241;43m=\u001b[39;49m\u001b[43mdescription\u001b[49m\u001b[43m,\u001b[49m\n\u001b[1;32m    166\u001b[0m \u001b[43m        \u001b[49m\u001b[43mgcs_dir_name\u001b[49m\u001b[38;5;241;43m=\u001b[39;49m\u001b[43mgcs_dir_name\u001b[49m\u001b[43m,\u001b[49m\n\u001b[1;32m    167\u001b[0m \u001b[43m        \u001b[49m\u001b[43mextra_packages\u001b[49m\u001b[38;5;241;43m=\u001b[39;49m\u001b[43mextra_packages\u001b[49m\u001b[43m,\u001b[49m\n\u001b[1;32m    168\u001b[0m \u001b[43m        \u001b[49m\u001b[43menv_vars\u001b[49m\u001b[38;5;241;43m=\u001b[39;49m\u001b[43menv_vars\u001b[49m\u001b[43m,\u001b[49m\n\u001b[1;32m    169\u001b[0m \u001b[43m        \u001b[49m\u001b[43mbuild_options\u001b[49m\u001b[38;5;241;43m=\u001b[39;49m\u001b[43mbuild_options\u001b[49m\u001b[43m,\u001b[49m\n\u001b[1;32m    170\u001b[0m \u001b[43m    \u001b[49m\u001b[43m)\u001b[49m\n",
      "File \u001b[0;32m/opt/conda/lib/python3.10/site-packages/vertexai/agent_engines/_agent_engines.py:463\u001b[0m, in \u001b[0;36mAgentEngine.create\u001b[0;34m(cls, agent_engine, requirements, display_name, description, gcs_dir_name, extra_packages, env_vars, build_options)\u001b[0m\n\u001b[1;32m    458\u001b[0m base\u001b[38;5;241m.\u001b[39mVertexAiResourceNounWithFutureManager\u001b[38;5;241m.\u001b[39m\u001b[38;5;21m__init__\u001b[39m(sdk_resource)\n\u001b[1;32m    459\u001b[0m \u001b[38;5;66;03m# Prepares the Agent Engine for creation in Vertex AI.\u001b[39;00m\n\u001b[1;32m    460\u001b[0m \u001b[38;5;66;03m# This involves packaging and uploading the artifacts for\u001b[39;00m\n\u001b[1;32m    461\u001b[0m \u001b[38;5;66;03m# agent_engine, requirements and extra_packages to\u001b[39;00m\n\u001b[1;32m    462\u001b[0m \u001b[38;5;66;03m# `staging_bucket/gcs_dir_name`.\u001b[39;00m\n\u001b[0;32m--> 463\u001b[0m \u001b[43m_prepare\u001b[49m\u001b[43m(\u001b[49m\n\u001b[1;32m    464\u001b[0m \u001b[43m    \u001b[49m\u001b[43magent_engine\u001b[49m\u001b[38;5;241;43m=\u001b[39;49m\u001b[43magent_engine\u001b[49m\u001b[43m,\u001b[49m\n\u001b[1;32m    465\u001b[0m \u001b[43m    \u001b[49m\u001b[43mrequirements\u001b[49m\u001b[38;5;241;43m=\u001b[39;49m\u001b[43mrequirements\u001b[49m\u001b[43m,\u001b[49m\n\u001b[1;32m    466\u001b[0m \u001b[43m    \u001b[49m\u001b[43mproject\u001b[49m\u001b[38;5;241;43m=\u001b[39;49m\u001b[43msdk_resource\u001b[49m\u001b[38;5;241;43m.\u001b[39;49m\u001b[43mproject\u001b[49m\u001b[43m,\u001b[49m\n\u001b[1;32m    467\u001b[0m \u001b[43m    \u001b[49m\u001b[43mlocation\u001b[49m\u001b[38;5;241;43m=\u001b[39;49m\u001b[43msdk_resource\u001b[49m\u001b[38;5;241;43m.\u001b[39;49m\u001b[43mlocation\u001b[49m\u001b[43m,\u001b[49m\n\u001b[1;32m    468\u001b[0m \u001b[43m    \u001b[49m\u001b[43mstaging_bucket\u001b[49m\u001b[38;5;241;43m=\u001b[39;49m\u001b[43mstaging_bucket\u001b[49m\u001b[43m,\u001b[49m\n\u001b[1;32m    469\u001b[0m \u001b[43m    \u001b[49m\u001b[43mgcs_dir_name\u001b[49m\u001b[38;5;241;43m=\u001b[39;49m\u001b[43mgcs_dir_name\u001b[49m\u001b[43m,\u001b[49m\n\u001b[1;32m    470\u001b[0m \u001b[43m    \u001b[49m\u001b[43mextra_packages\u001b[49m\u001b[38;5;241;43m=\u001b[39;49m\u001b[43mextra_packages\u001b[49m\u001b[43m,\u001b[49m\n\u001b[1;32m    471\u001b[0m \u001b[43m\u001b[49m\u001b[43m)\u001b[49m\n\u001b[1;32m    472\u001b[0m reasoning_engine \u001b[38;5;241m=\u001b[39m aip_types\u001b[38;5;241m.\u001b[39mReasoningEngine(\n\u001b[1;32m    473\u001b[0m     display_name\u001b[38;5;241m=\u001b[39mdisplay_name,\n\u001b[1;32m    474\u001b[0m     description\u001b[38;5;241m=\u001b[39mdescription,\n\u001b[1;32m    475\u001b[0m )\n\u001b[1;32m    476\u001b[0m \u001b[38;5;28;01mif\u001b[39;00m agent_engine \u001b[38;5;129;01mis\u001b[39;00m \u001b[38;5;129;01mnot\u001b[39;00m \u001b[38;5;28;01mNone\u001b[39;00m:\n\u001b[1;32m    477\u001b[0m     \u001b[38;5;66;03m# Update the package spec.\u001b[39;00m\n",
      "File \u001b[0;32m/opt/conda/lib/python3.10/site-packages/vertexai/agent_engines/_agent_engines.py:1066\u001b[0m, in \u001b[0;36m_prepare\u001b[0;34m(agent_engine, requirements, extra_packages, project, location, staging_bucket, gcs_dir_name, logger)\u001b[0m\n\u001b[1;32m   1059\u001b[0m     \u001b[38;5;28;01mreturn\u001b[39;00m\n\u001b[1;32m   1060\u001b[0m gcs_bucket \u001b[38;5;241m=\u001b[39m _get_gcs_bucket(\n\u001b[1;32m   1061\u001b[0m     project\u001b[38;5;241m=\u001b[39mproject,\n\u001b[1;32m   1062\u001b[0m     location\u001b[38;5;241m=\u001b[39mlocation,\n\u001b[1;32m   1063\u001b[0m     staging_bucket\u001b[38;5;241m=\u001b[39mstaging_bucket,\n\u001b[1;32m   1064\u001b[0m     logger\u001b[38;5;241m=\u001b[39mlogger,\n\u001b[1;32m   1065\u001b[0m )\n\u001b[0;32m-> 1066\u001b[0m \u001b[43m_upload_agent_engine\u001b[49m\u001b[43m(\u001b[49m\n\u001b[1;32m   1067\u001b[0m \u001b[43m    \u001b[49m\u001b[43magent_engine\u001b[49m\u001b[38;5;241;43m=\u001b[39;49m\u001b[43magent_engine\u001b[49m\u001b[43m,\u001b[49m\n\u001b[1;32m   1068\u001b[0m \u001b[43m    \u001b[49m\u001b[43mgcs_bucket\u001b[49m\u001b[38;5;241;43m=\u001b[39;49m\u001b[43mgcs_bucket\u001b[49m\u001b[43m,\u001b[49m\n\u001b[1;32m   1069\u001b[0m \u001b[43m    \u001b[49m\u001b[43mgcs_dir_name\u001b[49m\u001b[38;5;241;43m=\u001b[39;49m\u001b[43mgcs_dir_name\u001b[49m\u001b[43m,\u001b[49m\n\u001b[1;32m   1070\u001b[0m \u001b[43m    \u001b[49m\u001b[43mlogger\u001b[49m\u001b[38;5;241;43m=\u001b[39;49m\u001b[43mlogger\u001b[49m\u001b[43m,\u001b[49m\n\u001b[1;32m   1071\u001b[0m \u001b[43m\u001b[49m\u001b[43m)\u001b[49m\n\u001b[1;32m   1072\u001b[0m \u001b[38;5;28;01mif\u001b[39;00m requirements \u001b[38;5;129;01mis\u001b[39;00m \u001b[38;5;129;01mnot\u001b[39;00m \u001b[38;5;28;01mNone\u001b[39;00m:\n\u001b[1;32m   1073\u001b[0m     _upload_requirements(\n\u001b[1;32m   1074\u001b[0m         requirements\u001b[38;5;241m=\u001b[39mrequirements,\n\u001b[1;32m   1075\u001b[0m         gcs_bucket\u001b[38;5;241m=\u001b[39mgcs_bucket,\n\u001b[1;32m   1076\u001b[0m         gcs_dir_name\u001b[38;5;241m=\u001b[39mgcs_dir_name,\n\u001b[1;32m   1077\u001b[0m         logger\u001b[38;5;241m=\u001b[39mlogger,\n\u001b[1;32m   1078\u001b[0m     )\n",
      "File \u001b[0;32m/opt/conda/lib/python3.10/site-packages/vertexai/agent_engines/_agent_engines.py:984\u001b[0m, in \u001b[0;36m_upload_agent_engine\u001b[0;34m(agent_engine, gcs_bucket, gcs_dir_name, logger)\u001b[0m\n\u001b[1;32m    982\u001b[0m     \u001b[38;5;28;01mexcept\u001b[39;00m \u001b[38;5;167;01mException\u001b[39;00m \u001b[38;5;28;01mas\u001b[39;00m e:\n\u001b[1;32m    983\u001b[0m         url \u001b[38;5;241m=\u001b[39m \u001b[38;5;124m\"\u001b[39m\u001b[38;5;124mhttps://cloud.google.com/vertex-ai/generative-ai/docs/agent-engine/develop/custom#deployment-considerations\u001b[39m\u001b[38;5;124m\"\u001b[39m\n\u001b[0;32m--> 984\u001b[0m         \u001b[38;5;28;01mraise\u001b[39;00m \u001b[38;5;167;01mTypeError\u001b[39;00m(\n\u001b[1;32m    985\u001b[0m             \u001b[38;5;124mf\u001b[39m\u001b[38;5;124m\"\u001b[39m\u001b[38;5;124mFailed to serialize agent engine. Visit \u001b[39m\u001b[38;5;132;01m{\u001b[39;00murl\u001b[38;5;132;01m}\u001b[39;00m\u001b[38;5;124m for details.\u001b[39m\u001b[38;5;124m\"\u001b[39m\n\u001b[1;32m    986\u001b[0m         ) \u001b[38;5;28;01mfrom\u001b[39;00m\u001b[38;5;250m \u001b[39m\u001b[38;5;21;01me\u001b[39;00m\n\u001b[1;32m    987\u001b[0m \u001b[38;5;28;01mwith\u001b[39;00m blob\u001b[38;5;241m.\u001b[39mopen(\u001b[38;5;124m\"\u001b[39m\u001b[38;5;124mrb\u001b[39m\u001b[38;5;124m\"\u001b[39m) \u001b[38;5;28;01mas\u001b[39;00m f:\n\u001b[1;32m    988\u001b[0m     \u001b[38;5;28;01mtry\u001b[39;00m:\n",
      "\u001b[0;31mTypeError\u001b[0m: Failed to serialize agent engine. Visit https://cloud.google.com/vertex-ai/generative-ai/docs/agent-engine/develop/custom#deployment-considerations for details."
     ]
    }
   ],
   "source": [
    "remote_agent = agent_engines.create(\n",
    "    app,\n",
    "    requirements=[\n",
    "        \"google-adk (>=0.0.2)\",\n",
    "        \"google-cloud-aiplatform[agent_engines] (>=1.88.0,<2.0.0)\",\n",
    "        \"google-genai (>=1.5.0,<2.0.0)\",\n",
    "        \"pydantic (>=2.10.6,<3.0.0)\",\n",
    "        \"absl-py (>=2.2.1,<3.0.0)\",\n",
    "        \"google-cloud-storage(>=2.14.0,<=3.1.0)\",\n",
    "        \"pillow (>=10.3.0,<11.0.0)\",\n",
    "    ],\n",
    "    display_name=display_name,\n",
    "    description=description\n",
    ")"
   ]
  },
  {
   "cell_type": "code",
   "execution_count": 41,
   "id": "935a6508-e3a8-460c-869f-673980846424",
   "metadata": {
    "tags": []
   },
   "outputs": [
    {
     "name": "stdout",
     "output_type": "stream",
     "text": [
      "Identified the following requirements: {'google-cloud-aiplatform': '1.103.0', 'pydantic': '2.11.7', 'cloudpickle': '3.1.1'}\n",
      "The following requirements are missing: {'cloudpickle'}\n",
      "The following requirements are appended: {'cloudpickle==3.1.1'}\n",
      "The final list of requirements: ['google-adk (>=0.0.2)', 'google-cloud-aiplatform[agent_engines] (>=1.91.0,!=1.92.0)', 'google-genai (>=1.5.0,<2.0.0)', 'pillow', 'pydantic (>=2.10.6,<3.0.0)', 'cloudpickle==3.1.1']\n",
      "Using bucket agentic_ai_ebooks_bucket\n"
     ]
    },
    {
     "ename": "TypeError",
     "evalue": "Failed to serialize agent engine. Visit https://cloud.google.com/vertex-ai/generative-ai/docs/agent-engine/develop/custom#deployment-considerations for details.",
     "output_type": "error",
     "traceback": [
      "\u001b[0;31m---------------------------------------------------------------------------\u001b[0m",
      "\u001b[0;31mTypeError\u001b[0m                                 Traceback (most recent call last)",
      "File \u001b[0;32m/opt/conda/lib/python3.10/site-packages/vertexai/agent_engines/_agent_engines.py:981\u001b[0m, in \u001b[0;36m_upload_agent_engine\u001b[0;34m(agent_engine, gcs_bucket, gcs_dir_name, logger)\u001b[0m\n\u001b[1;32m    980\u001b[0m \u001b[38;5;28;01mtry\u001b[39;00m:\n\u001b[0;32m--> 981\u001b[0m     \u001b[43mcloudpickle\u001b[49m\u001b[38;5;241;43m.\u001b[39;49m\u001b[43mdump\u001b[49m\u001b[43m(\u001b[49m\u001b[43magent_engine\u001b[49m\u001b[43m,\u001b[49m\u001b[43m \u001b[49m\u001b[43mf\u001b[49m\u001b[43m)\u001b[49m\n\u001b[1;32m    982\u001b[0m \u001b[38;5;28;01mexcept\u001b[39;00m \u001b[38;5;167;01mException\u001b[39;00m \u001b[38;5;28;01mas\u001b[39;00m e:\n",
      "File \u001b[0;32m/opt/conda/lib/python3.10/site-packages/cloudpickle/cloudpickle.py:1519\u001b[0m, in \u001b[0;36mdump\u001b[0;34m(obj, file, protocol, buffer_callback)\u001b[0m\n\u001b[1;32m   1507\u001b[0m \u001b[38;5;250m\u001b[39m\u001b[38;5;124;03m\"\"\"Serialize obj as bytes streamed into file\u001b[39;00m\n\u001b[1;32m   1508\u001b[0m \n\u001b[1;32m   1509\u001b[0m \u001b[38;5;124;03mprotocol defaults to cloudpickle.DEFAULT_PROTOCOL which is an alias to\u001b[39;00m\n\u001b[0;32m   (...)\u001b[0m\n\u001b[1;32m   1517\u001b[0m \u001b[38;5;124;03mnext).\u001b[39;00m\n\u001b[1;32m   1518\u001b[0m \u001b[38;5;124;03m\"\"\"\u001b[39;00m\n\u001b[0;32m-> 1519\u001b[0m \u001b[43mPickler\u001b[49m\u001b[43m(\u001b[49m\u001b[43mfile\u001b[49m\u001b[43m,\u001b[49m\u001b[43m \u001b[49m\u001b[43mprotocol\u001b[49m\u001b[38;5;241;43m=\u001b[39;49m\u001b[43mprotocol\u001b[49m\u001b[43m,\u001b[49m\u001b[43m \u001b[49m\u001b[43mbuffer_callback\u001b[49m\u001b[38;5;241;43m=\u001b[39;49m\u001b[43mbuffer_callback\u001b[49m\u001b[43m)\u001b[49m\u001b[38;5;241;43m.\u001b[39;49m\u001b[43mdump\u001b[49m\u001b[43m(\u001b[49m\u001b[43mobj\u001b[49m\u001b[43m)\u001b[49m\n",
      "File \u001b[0;32m/opt/conda/lib/python3.10/site-packages/cloudpickle/cloudpickle.py:1303\u001b[0m, in \u001b[0;36mPickler.dump\u001b[0;34m(self, obj)\u001b[0m\n\u001b[1;32m   1302\u001b[0m \u001b[38;5;28;01mtry\u001b[39;00m:\n\u001b[0;32m-> 1303\u001b[0m     \u001b[38;5;28;01mreturn\u001b[39;00m \u001b[38;5;28;43msuper\u001b[39;49m\u001b[43m(\u001b[49m\u001b[43m)\u001b[49m\u001b[38;5;241;43m.\u001b[39;49m\u001b[43mdump\u001b[49m\u001b[43m(\u001b[49m\u001b[43mobj\u001b[49m\u001b[43m)\u001b[49m\n\u001b[1;32m   1304\u001b[0m \u001b[38;5;28;01mexcept\u001b[39;00m \u001b[38;5;167;01mRuntimeError\u001b[39;00m \u001b[38;5;28;01mas\u001b[39;00m e:\n",
      "\u001b[0;31mTypeError\u001b[0m: cannot pickle '_thread.lock' object",
      "\nThe above exception was the direct cause of the following exception:\n",
      "\u001b[0;31mTypeError\u001b[0m                                 Traceback (most recent call last)",
      "Cell \u001b[0;32mIn[41], line 3\u001b[0m\n\u001b[1;32m      1\u001b[0m resource_name\u001b[38;5;241m=\u001b[39m\u001b[38;5;124m'\u001b[39m\u001b[38;5;124mprojects/formidable-feat-466408-r6/locations/us-central1/reasoningEngines/1369753993697296384\u001b[39m\u001b[38;5;124m'\u001b[39m\n\u001b[0;32m----> 3\u001b[0m remote_agent \u001b[38;5;241m=\u001b[39m \u001b[43magent_engines\u001b[49m\u001b[38;5;241;43m.\u001b[39;49m\u001b[43mupdate\u001b[49m\u001b[43m(\u001b[49m\n\u001b[1;32m      4\u001b[0m \u001b[43m    \u001b[49m\u001b[43magent_engine\u001b[49m\u001b[38;5;241;43m=\u001b[39;49m\u001b[43mapp\u001b[49m\u001b[43m,\u001b[49m\n\u001b[1;32m      5\u001b[0m \u001b[43m    \u001b[49m\u001b[43mresource_name\u001b[49m\u001b[38;5;241;43m=\u001b[39;49m\u001b[43mresource_name\u001b[49m\u001b[43m,\u001b[49m\n\u001b[1;32m      6\u001b[0m \u001b[43m    \u001b[49m\u001b[43mrequirements\u001b[49m\u001b[38;5;241;43m=\u001b[39;49m\u001b[43m[\u001b[49m\n\u001b[1;32m      7\u001b[0m \u001b[43m        \u001b[49m\u001b[38;5;124;43m\"\u001b[39;49m\u001b[38;5;124;43mgoogle-adk (>=0.0.2)\u001b[39;49m\u001b[38;5;124;43m\"\u001b[39;49m\u001b[43m,\u001b[49m\n\u001b[1;32m      8\u001b[0m \u001b[43m        \u001b[49m\u001b[38;5;124;43m\"\u001b[39;49m\u001b[38;5;124;43mgoogle-cloud-aiplatform[agent_engines] (>=1.91.0,!=1.92.0)\u001b[39;49m\u001b[38;5;124;43m\"\u001b[39;49m\u001b[43m,\u001b[49m\n\u001b[1;32m      9\u001b[0m \u001b[43m        \u001b[49m\u001b[38;5;124;43m\"\u001b[39;49m\u001b[38;5;124;43mgoogle-genai (>=1.5.0,<2.0.0)\u001b[39;49m\u001b[38;5;124;43m\"\u001b[39;49m\u001b[43m,\u001b[49m\n\u001b[1;32m     10\u001b[0m \u001b[43m        \u001b[49m\u001b[38;5;124;43m\"\u001b[39;49m\u001b[38;5;124;43mpillow\u001b[39;49m\u001b[38;5;124;43m\"\u001b[39;49m\u001b[43m,\u001b[49m\n\u001b[1;32m     11\u001b[0m \u001b[43m        \u001b[49m\u001b[38;5;124;43m\"\u001b[39;49m\u001b[38;5;124;43mpydantic (>=2.10.6,<3.0.0)\u001b[39;49m\u001b[38;5;124;43m\"\u001b[39;49m\n\u001b[1;32m     12\u001b[0m \u001b[43m    \u001b[49m\u001b[43m]\u001b[49m\u001b[43m,\u001b[49m\n\u001b[1;32m     13\u001b[0m \u001b[43m    \u001b[49m\u001b[43mdisplay_name\u001b[49m\u001b[38;5;241;43m=\u001b[39;49m\u001b[43mdisplay_name\u001b[49m\u001b[43m,\u001b[49m\n\u001b[1;32m     14\u001b[0m \u001b[43m    \u001b[49m\u001b[43mdescription\u001b[49m\u001b[38;5;241;43m=\u001b[39;49m\u001b[43mdescription\u001b[49m\n\u001b[1;32m     15\u001b[0m \u001b[43m)\u001b[49m\n",
      "File \u001b[0;32m/opt/conda/lib/python3.10/site-packages/vertexai/agent_engines/__init__.py:317\u001b[0m, in \u001b[0;36mupdate\u001b[0;34m(resource_name, agent_engine, requirements, display_name, description, gcs_dir_name, extra_packages, env_vars, build_options)\u001b[0m\n\u001b[1;32m    256\u001b[0m \u001b[38;5;250m\u001b[39m\u001b[38;5;124;03m\"\"\"Updates an existing Agent Engine.\u001b[39;00m\n\u001b[1;32m    257\u001b[0m \n\u001b[1;32m    258\u001b[0m \u001b[38;5;124;03mThis method updates the configuration of a deployed Agent Engine, identified\u001b[39;00m\n\u001b[0;32m   (...)\u001b[0m\n\u001b[1;32m    314\u001b[0m \u001b[38;5;124;03m    nonexistent file.\u001b[39;00m\n\u001b[1;32m    315\u001b[0m \u001b[38;5;124;03m\"\"\"\u001b[39;00m\n\u001b[1;32m    316\u001b[0m agent \u001b[38;5;241m=\u001b[39m get(resource_name)\n\u001b[0;32m--> 317\u001b[0m \u001b[38;5;28;01mreturn\u001b[39;00m \u001b[43magent\u001b[49m\u001b[38;5;241;43m.\u001b[39;49m\u001b[43mupdate\u001b[49m\u001b[43m(\u001b[49m\n\u001b[1;32m    318\u001b[0m \u001b[43m    \u001b[49m\u001b[43magent_engine\u001b[49m\u001b[38;5;241;43m=\u001b[39;49m\u001b[43magent_engine\u001b[49m\u001b[43m,\u001b[49m\n\u001b[1;32m    319\u001b[0m \u001b[43m    \u001b[49m\u001b[43mrequirements\u001b[49m\u001b[38;5;241;43m=\u001b[39;49m\u001b[43mrequirements\u001b[49m\u001b[43m,\u001b[49m\n\u001b[1;32m    320\u001b[0m \u001b[43m    \u001b[49m\u001b[43mdisplay_name\u001b[49m\u001b[38;5;241;43m=\u001b[39;49m\u001b[43mdisplay_name\u001b[49m\u001b[43m,\u001b[49m\n\u001b[1;32m    321\u001b[0m \u001b[43m    \u001b[49m\u001b[43mdescription\u001b[49m\u001b[38;5;241;43m=\u001b[39;49m\u001b[43mdescription\u001b[49m\u001b[43m,\u001b[49m\n\u001b[1;32m    322\u001b[0m \u001b[43m    \u001b[49m\u001b[43mgcs_dir_name\u001b[49m\u001b[38;5;241;43m=\u001b[39;49m\u001b[43mgcs_dir_name\u001b[49m\u001b[43m,\u001b[49m\n\u001b[1;32m    323\u001b[0m \u001b[43m    \u001b[49m\u001b[43mextra_packages\u001b[49m\u001b[38;5;241;43m=\u001b[39;49m\u001b[43mextra_packages\u001b[49m\u001b[43m,\u001b[49m\n\u001b[1;32m    324\u001b[0m \u001b[43m    \u001b[49m\u001b[43menv_vars\u001b[49m\u001b[38;5;241;43m=\u001b[39;49m\u001b[43menv_vars\u001b[49m\u001b[43m,\u001b[49m\n\u001b[1;32m    325\u001b[0m \u001b[43m    \u001b[49m\u001b[43mbuild_options\u001b[49m\u001b[38;5;241;43m=\u001b[39;49m\u001b[43mbuild_options\u001b[49m\u001b[43m,\u001b[49m\n\u001b[1;32m    326\u001b[0m \u001b[43m\u001b[49m\u001b[43m)\u001b[49m\n",
      "File \u001b[0;32m/opt/conda/lib/python3.10/site-packages/vertexai/agent_engines/_agent_engines.py:672\u001b[0m, in \u001b[0;36mAgentEngine.update\u001b[0;34m(self, agent_engine, requirements, display_name, description, gcs_dir_name, extra_packages, env_vars, build_options)\u001b[0m\n\u001b[1;32m    667\u001b[0m     agent_engine \u001b[38;5;241m=\u001b[39m _validate_agent_engine_or_raise(agent_engine)\n\u001b[1;32m    669\u001b[0m \u001b[38;5;66;03m# Prepares the Agent Engine for update in Vertex AI. This involves\u001b[39;00m\n\u001b[1;32m    670\u001b[0m \u001b[38;5;66;03m# packaging and uploading the artifacts for agent_engine, requirements\u001b[39;00m\n\u001b[1;32m    671\u001b[0m \u001b[38;5;66;03m# and extra_packages to `staging_bucket/gcs_dir_name`.\u001b[39;00m\n\u001b[0;32m--> 672\u001b[0m \u001b[43m_prepare\u001b[49m\u001b[43m(\u001b[49m\n\u001b[1;32m    673\u001b[0m \u001b[43m    \u001b[49m\u001b[43magent_engine\u001b[49m\u001b[38;5;241;43m=\u001b[39;49m\u001b[43magent_engine\u001b[49m\u001b[43m,\u001b[49m\n\u001b[1;32m    674\u001b[0m \u001b[43m    \u001b[49m\u001b[43mrequirements\u001b[49m\u001b[38;5;241;43m=\u001b[39;49m\u001b[43mrequirements\u001b[49m\u001b[43m,\u001b[49m\n\u001b[1;32m    675\u001b[0m \u001b[43m    \u001b[49m\u001b[43mproject\u001b[49m\u001b[38;5;241;43m=\u001b[39;49m\u001b[38;5;28;43mself\u001b[39;49m\u001b[38;5;241;43m.\u001b[39;49m\u001b[43mproject\u001b[49m\u001b[43m,\u001b[49m\n\u001b[1;32m    676\u001b[0m \u001b[43m    \u001b[49m\u001b[43mlocation\u001b[49m\u001b[38;5;241;43m=\u001b[39;49m\u001b[38;5;28;43mself\u001b[39;49m\u001b[38;5;241;43m.\u001b[39;49m\u001b[43mlocation\u001b[49m\u001b[43m,\u001b[49m\n\u001b[1;32m    677\u001b[0m \u001b[43m    \u001b[49m\u001b[43mstaging_bucket\u001b[49m\u001b[38;5;241;43m=\u001b[39;49m\u001b[43mstaging_bucket\u001b[49m\u001b[43m,\u001b[49m\n\u001b[1;32m    678\u001b[0m \u001b[43m    \u001b[49m\u001b[43mgcs_dir_name\u001b[49m\u001b[38;5;241;43m=\u001b[39;49m\u001b[43mgcs_dir_name\u001b[49m\u001b[43m,\u001b[49m\n\u001b[1;32m    679\u001b[0m \u001b[43m    \u001b[49m\u001b[43mextra_packages\u001b[49m\u001b[38;5;241;43m=\u001b[39;49m\u001b[43mextra_packages\u001b[49m\u001b[43m,\u001b[49m\n\u001b[1;32m    680\u001b[0m \u001b[43m\u001b[49m\u001b[43m)\u001b[49m\n\u001b[1;32m    681\u001b[0m update_request \u001b[38;5;241m=\u001b[39m _generate_update_request_or_raise(\n\u001b[1;32m    682\u001b[0m     resource_name\u001b[38;5;241m=\u001b[39m\u001b[38;5;28mself\u001b[39m\u001b[38;5;241m.\u001b[39mresource_name,\n\u001b[1;32m    683\u001b[0m     staging_bucket\u001b[38;5;241m=\u001b[39mstaging_bucket,\n\u001b[0;32m   (...)\u001b[0m\n\u001b[1;32m    690\u001b[0m     env_vars\u001b[38;5;241m=\u001b[39menv_vars,\n\u001b[1;32m    691\u001b[0m )\n\u001b[1;32m    692\u001b[0m operation_future \u001b[38;5;241m=\u001b[39m \u001b[38;5;28mself\u001b[39m\u001b[38;5;241m.\u001b[39mapi_client\u001b[38;5;241m.\u001b[39mupdate_reasoning_engine(\n\u001b[1;32m    693\u001b[0m     request\u001b[38;5;241m=\u001b[39mupdate_request\n\u001b[1;32m    694\u001b[0m )\n",
      "File \u001b[0;32m/opt/conda/lib/python3.10/site-packages/vertexai/agent_engines/_agent_engines.py:1066\u001b[0m, in \u001b[0;36m_prepare\u001b[0;34m(agent_engine, requirements, extra_packages, project, location, staging_bucket, gcs_dir_name, logger)\u001b[0m\n\u001b[1;32m   1059\u001b[0m     \u001b[38;5;28;01mreturn\u001b[39;00m\n\u001b[1;32m   1060\u001b[0m gcs_bucket \u001b[38;5;241m=\u001b[39m _get_gcs_bucket(\n\u001b[1;32m   1061\u001b[0m     project\u001b[38;5;241m=\u001b[39mproject,\n\u001b[1;32m   1062\u001b[0m     location\u001b[38;5;241m=\u001b[39mlocation,\n\u001b[1;32m   1063\u001b[0m     staging_bucket\u001b[38;5;241m=\u001b[39mstaging_bucket,\n\u001b[1;32m   1064\u001b[0m     logger\u001b[38;5;241m=\u001b[39mlogger,\n\u001b[1;32m   1065\u001b[0m )\n\u001b[0;32m-> 1066\u001b[0m \u001b[43m_upload_agent_engine\u001b[49m\u001b[43m(\u001b[49m\n\u001b[1;32m   1067\u001b[0m \u001b[43m    \u001b[49m\u001b[43magent_engine\u001b[49m\u001b[38;5;241;43m=\u001b[39;49m\u001b[43magent_engine\u001b[49m\u001b[43m,\u001b[49m\n\u001b[1;32m   1068\u001b[0m \u001b[43m    \u001b[49m\u001b[43mgcs_bucket\u001b[49m\u001b[38;5;241;43m=\u001b[39;49m\u001b[43mgcs_bucket\u001b[49m\u001b[43m,\u001b[49m\n\u001b[1;32m   1069\u001b[0m \u001b[43m    \u001b[49m\u001b[43mgcs_dir_name\u001b[49m\u001b[38;5;241;43m=\u001b[39;49m\u001b[43mgcs_dir_name\u001b[49m\u001b[43m,\u001b[49m\n\u001b[1;32m   1070\u001b[0m \u001b[43m    \u001b[49m\u001b[43mlogger\u001b[49m\u001b[38;5;241;43m=\u001b[39;49m\u001b[43mlogger\u001b[49m\u001b[43m,\u001b[49m\n\u001b[1;32m   1071\u001b[0m \u001b[43m\u001b[49m\u001b[43m)\u001b[49m\n\u001b[1;32m   1072\u001b[0m \u001b[38;5;28;01mif\u001b[39;00m requirements \u001b[38;5;129;01mis\u001b[39;00m \u001b[38;5;129;01mnot\u001b[39;00m \u001b[38;5;28;01mNone\u001b[39;00m:\n\u001b[1;32m   1073\u001b[0m     _upload_requirements(\n\u001b[1;32m   1074\u001b[0m         requirements\u001b[38;5;241m=\u001b[39mrequirements,\n\u001b[1;32m   1075\u001b[0m         gcs_bucket\u001b[38;5;241m=\u001b[39mgcs_bucket,\n\u001b[1;32m   1076\u001b[0m         gcs_dir_name\u001b[38;5;241m=\u001b[39mgcs_dir_name,\n\u001b[1;32m   1077\u001b[0m         logger\u001b[38;5;241m=\u001b[39mlogger,\n\u001b[1;32m   1078\u001b[0m     )\n",
      "File \u001b[0;32m/opt/conda/lib/python3.10/site-packages/vertexai/agent_engines/_agent_engines.py:984\u001b[0m, in \u001b[0;36m_upload_agent_engine\u001b[0;34m(agent_engine, gcs_bucket, gcs_dir_name, logger)\u001b[0m\n\u001b[1;32m    982\u001b[0m     \u001b[38;5;28;01mexcept\u001b[39;00m \u001b[38;5;167;01mException\u001b[39;00m \u001b[38;5;28;01mas\u001b[39;00m e:\n\u001b[1;32m    983\u001b[0m         url \u001b[38;5;241m=\u001b[39m \u001b[38;5;124m\"\u001b[39m\u001b[38;5;124mhttps://cloud.google.com/vertex-ai/generative-ai/docs/agent-engine/develop/custom#deployment-considerations\u001b[39m\u001b[38;5;124m\"\u001b[39m\n\u001b[0;32m--> 984\u001b[0m         \u001b[38;5;28;01mraise\u001b[39;00m \u001b[38;5;167;01mTypeError\u001b[39;00m(\n\u001b[1;32m    985\u001b[0m             \u001b[38;5;124mf\u001b[39m\u001b[38;5;124m\"\u001b[39m\u001b[38;5;124mFailed to serialize agent engine. Visit \u001b[39m\u001b[38;5;132;01m{\u001b[39;00murl\u001b[38;5;132;01m}\u001b[39;00m\u001b[38;5;124m for details.\u001b[39m\u001b[38;5;124m\"\u001b[39m\n\u001b[1;32m    986\u001b[0m         ) \u001b[38;5;28;01mfrom\u001b[39;00m\u001b[38;5;250m \u001b[39m\u001b[38;5;21;01me\u001b[39;00m\n\u001b[1;32m    987\u001b[0m \u001b[38;5;28;01mwith\u001b[39;00m blob\u001b[38;5;241m.\u001b[39mopen(\u001b[38;5;124m\"\u001b[39m\u001b[38;5;124mrb\u001b[39m\u001b[38;5;124m\"\u001b[39m) \u001b[38;5;28;01mas\u001b[39;00m f:\n\u001b[1;32m    988\u001b[0m     \u001b[38;5;28;01mtry\u001b[39;00m:\n",
      "\u001b[0;31mTypeError\u001b[0m: Failed to serialize agent engine. Visit https://cloud.google.com/vertex-ai/generative-ai/docs/agent-engine/develop/custom#deployment-considerations for details."
     ]
    }
   ],
   "source": [
    "resource_name='projects/formidable-feat-466408-r6/locations/us-central1/reasoningEngines/1369753993697296384'\n",
    "\n",
    "remote_agent = agent_engines.update(\n",
    "    agent_engine=app,\n",
    "    resource_name=resource_name,\n",
    "    requirements=[\n",
    "        \"google-adk (>=0.0.2)\",\n",
    "        \"google-cloud-aiplatform[agent_engines] (>=1.91.0,!=1.92.0)\",\n",
    "        \"google-genai (>=1.5.0,<2.0.0)\",\n",
    "        \"pillow\",\n",
    "        \"pydantic (>=2.10.6,<3.0.0)\"\n",
    "    ],\n",
    "    display_name=display_name,\n",
    "    description=description\n",
    ")"
   ]
  },
  {
   "cell_type": "code",
   "execution_count": 15,
   "id": "098b5c5a-aa60-48aa-bb26-92458b7b89f5",
   "metadata": {
    "tags": []
   },
   "outputs": [],
   "source": [
    "# Step 8: Query the Agent\n",
    "async def query_agent(remote_agent):\n",
    "    async for event in remote_agent.stream_query(\n",
    "        user_id=\"1\",\n",
    "        message=\"Generate an image of a wooden table\",\n",
    "    ):\n",
    "        print(event)"
   ]
  },
  {
   "cell_type": "code",
   "execution_count": 17,
   "id": "b684e857-fe53-42c9-91ba-497429b50176",
   "metadata": {
    "tags": []
   },
   "outputs": [
    {
     "data": {
      "text/plain": [
       "<coroutine object query_agent at 0x7f0204f7b450>"
      ]
     },
     "execution_count": 17,
     "metadata": {},
     "output_type": "execute_result"
    }
   ],
   "source": [
    "query_agent(remote_agent)"
   ]
  },
  {
   "cell_type": "code",
   "execution_count": 19,
   "id": "df688ef1-0a4d-40db-9e81-6a319b651c24",
   "metadata": {
    "tags": []
   },
   "outputs": [
    {
     "name": "stdout",
     "output_type": "stream",
     "text": [
      "{'content': {'parts': [{'function_call': {'id': 'adk-c4ac2439-0f0b-4528-84a2-f25ca1acfc0a', 'args': {'prompt': 'wooden table'}, 'name': 'generate_image'}}], 'role': 'model'}, 'usage_metadata': {'candidates_token_count': 6, 'candidates_tokens_details': [{'modality': 'TEXT', 'token_count': 6}], 'prompt_token_count': 291, 'prompt_tokens_details': [{'modality': 'TEXT', 'token_count': 291}], 'total_token_count': 297, 'traffic_type': 'ON_DEMAND'}, 'invocation_id': 'e-fa0ed0b0-5221-44f7-b618-35667bc0ae8d', 'author': 'Image_generation_agent', 'actions': {'state_delta': {}, 'artifact_delta': {}, 'requested_auth_configs': {}}, 'long_running_tool_ids': ['adk-c4ac2439-0f0b-4528-84a2-f25ca1acfc0a'], 'id': '363ec3f8-bee6-48c1-9326-f3cfb1e3c56b', 'timestamp': 1753560609.949434}\n"
     ]
    }
   ],
   "source": [
    "for event in remote_agent.stream_query(\n",
    "    user_id=\"1\",\n",
    "    # session_id=SESSION_ID, # Optional. you can pass in the session_id when querying the agent\n",
    "    message=\"Generate the image of any wooden table\",\n",
    "):\n",
    "    print(event)"
   ]
  },
  {
   "cell_type": "code",
   "execution_count": 35,
   "id": "4fbc46d6-7f41-4a75-a4f9-80b94e1fe9ed",
   "metadata": {
    "tags": []
   },
   "outputs": [],
   "source": [
    "PROJECT_ID = \"formidable-feat-466408-r6\"\n",
    "LOCATION = \"us-central1\"\n",
    "# The app_name used with this service should be the Reasoning Engine ID or name\n",
    "REASONING_ENGINE_APP_NAME = \"projects/44474009687/locations/us-central1/reasoningEngines/1369753993697296384\"\n",
    "\n",
    "session_service = VertexAiSessionService(project=PROJECT_ID, location=LOCATION)"
   ]
  },
  {
   "cell_type": "code",
   "execution_count": 43,
   "id": "ccb81bb3-55f2-4a1f-b2f4-b36b2372e306",
   "metadata": {
    "tags": []
   },
   "outputs": [],
   "source": [
    "runner = adk.Runner(\n",
    "    agent=root_agent,\n",
    "    app_name=REASONING_ENGINE_APP_NAME,\n",
    "    session_service=session_service)"
   ]
  },
  {
   "cell_type": "code",
   "execution_count": 44,
   "id": "1313c5b9-ff09-4b5d-b587-281129f7c798",
   "metadata": {
    "tags": []
   },
   "outputs": [
    {
     "name": "stdout",
     "output_type": "stream",
     "text": [
      "Continuing existing session: 4757290495003066368\n"
     ]
    }
   ],
   "source": [
    "# Create a session\n",
    "# session = await session_service.create_session(\n",
    "#        app_name=REASONING_ENGINE_APP_NAME,\n",
    "#        user_id='memory_test_4')\n",
    "\n",
    "#check for existing sessions\n",
    "existing_sessions = await session_service.list_sessions(\n",
    "    app_name = REASONING_ENGINE_APP_NAME,\n",
    "    user_id = 'memory_test_6',\n",
    ")\n",
    "\n",
    "if existing_sessions and len(existing_sessions.sessions) > 0:\n",
    "    SESSION_ID = existing_sessions.sessions[0].id\n",
    "    print(f\"Continuing existing session: {SESSION_ID}\")\n",
    "else:\n",
    "    new_session = await session_service.create_session(\n",
    "        app_name = REASONING_ENGINE_APP_NAME,\n",
    "        user_id = 'memory_test_6',\n",
    "    )\n",
    "    SESSION_ID = new_session.id\n",
    "    print(f\"Created new session: {SESSION_ID}\")\n"
   ]
  },
  {
   "cell_type": "code",
   "execution_count": 45,
   "id": "1401a633-4e37-46f9-9c35-4bd6651daf24",
   "metadata": {
    "tags": []
   },
   "outputs": [],
   "source": [
    "temp_session = new_session"
   ]
  },
  {
   "cell_type": "code",
   "execution_count": 46,
   "id": "07cf912b-00f1-434a-8b80-2fa7375a6506",
   "metadata": {
    "tags": []
   },
   "outputs": [],
   "source": [
    "# Helper method to send query to the runner\n",
    "def call_agent(query, session_id, user_id):\n",
    "    content = types.Content(role='user', parts=[types.Part(text=query)])\n",
    "    events = runner.run(\n",
    "      user_id=user_id, session_id=session_id, new_message=content)\n",
    "    for event in events:\n",
    "        if event.is_final_response():\n",
    "            final_response = event.content.parts[0].text\n",
    "            print(\"Agent Response: \", final_response)"
   ]
  },
  {
   "cell_type": "code",
   "execution_count": 49,
   "id": "595f98fa-8346-4681-9f5a-d29dc682c444",
   "metadata": {
    "tags": []
   },
   "outputs": [],
   "source": [
    "user_input = \"Generate the wooden table image\""
   ]
  },
  {
   "cell_type": "code",
   "execution_count": 50,
   "id": "00b749f1-f5da-4d95-8a58-e4615d90c32d",
   "metadata": {
    "tags": []
   },
   "outputs": [
    {
     "name": "stdout",
     "output_type": "stream",
     "text": [
      "Agent Response:  ```tool_code\n",
      "[Image_generation_agent] generate_image(prompt='wooden table')\n",
      "```\n"
     ]
    }
   ],
   "source": [
    "call_agent(user_input, temp_session.id, temp_session.user_id)"
   ]
  },
  {
   "cell_type": "code",
   "execution_count": 109,
   "id": "24a3b87c-f2e6-4a88-b69a-a9f5c8f5a84c",
   "metadata": {
    "tags": []
   },
   "outputs": [],
   "source": [
    "# session = app.create_session(user_id='user')"
   ]
  },
  {
   "cell_type": "code",
   "execution_count": 114,
   "id": "10264e25-cbac-4e8d-8c03-388d084a22bc",
   "metadata": {
    "tags": []
   },
   "outputs": [],
   "source": [
    "# for event in app.stream_query(\n",
    "#     user_id=\"user\",\n",
    "#     # session_id=SESSION_ID, # Optional. you can pass in the session_id when querying the agent\n",
    "#     message=\"Generate a laptop image\",\n",
    "# ):\n",
    "#     print(event)\n",
    "    # image_op.append(event)"
   ]
  },
  {
   "cell_type": "code",
   "execution_count": null,
   "id": "82c5e9eb-bd16-4c12-aa09-c2f682929322",
   "metadata": {},
   "outputs": [],
   "source": []
  }
 ],
 "metadata": {
  "environment": {
   "kernel": "conda-base-py",
   "name": "workbench-notebooks.m131",
   "type": "gcloud",
   "uri": "us-docker.pkg.dev/deeplearning-platform-release/gcr.io/workbench-notebooks:m131"
  },
  "kernelspec": {
   "display_name": "Python 3 (ipykernel) (Local)",
   "language": "python",
   "name": "conda-base-py"
  },
  "language_info": {
   "codemirror_mode": {
    "name": "ipython",
    "version": 3
   },
   "file_extension": ".py",
   "mimetype": "text/x-python",
   "name": "python",
   "nbconvert_exporter": "python",
   "pygments_lexer": "ipython3",
   "version": "3.10.18"
  }
 },
 "nbformat": 4,
 "nbformat_minor": 5
}
