{
 "cells": [
  {
   "cell_type": "code",
   "execution_count": 1,
   "id": "ae539adb-4747-4278-9af2-c485397d93c7",
   "metadata": {
    "tags": []
   },
   "outputs": [],
   "source": [
    "from datetime import datetime\n",
    "from google import genai\n",
    "from google.genai import types\n",
    "from google.adk.tools import ToolContext\n",
    "from google.cloud import storage"
   ]
  },
  {
   "cell_type": "code",
   "execution_count": 14,
   "id": "2d03f415-aadc-4220-a278-bce2d84384d8",
   "metadata": {
    "tags": []
   },
   "outputs": [],
   "source": [
    "from google.adk.agents import Agent\n",
    "from vertexai.preview.reasoning_engines import AdkApp"
   ]
  },
  {
   "cell_type": "code",
   "execution_count": 29,
   "id": "5e572424-fabb-4030-9ff0-79b2a6bd0830",
   "metadata": {
    "tags": []
   },
   "outputs": [],
   "source": [
    "from tools.image_generation_tool import generate_images"
   ]
  },
  {
   "cell_type": "code",
   "execution_count": 10,
   "id": "d81ee88e-2e67-435f-84fc-da6d4165d152",
   "metadata": {
    "tags": []
   },
   "outputs": [],
   "source": [
    "PROJECT_ID = \"formidable-feat-466408-r6\"  # @param {type:\"string\"}\n",
    "LOCATION = \"us-central1\"  # @param {type:\"string\"}\n",
    "STAGING_BUCKET = \"gs://agentic_ai_ebooks_bucket\"  # @param {type:\"string\"}\n",
    "import vertexai\n",
    "vertexai.init(project=PROJECT_ID, location=LOCATION, staging_bucket=STAGING_BUCKET)"
   ]
  },
  {
   "cell_type": "code",
   "execution_count": 30,
   "id": "d95ce849-e036-4862-a305-ab8499f8cba1",
   "metadata": {
    "tags": []
   },
   "outputs": [],
   "source": [
    "image_generation_agent = Agent(\n",
    "    name=\"image_generation_agent\",\n",
    "    model=\"gemini-2.0-flash\",\n",
    "    description=(\"You are helpful assitant, which help users to generate the images\"),\n",
    "    instruction=(\"Your job is to invoke the 'generate_images' tool by passing the `image generation prompt` provided to you as a parameter .\"),\n",
    "    tools=[generate_images],\n",
    "    output_key=\"output_image\",\n",
    ")"
   ]
  },
  {
   "cell_type": "code",
   "execution_count": 31,
   "id": "689350a3-8cb8-40e8-a2d8-0793b1ef2439",
   "metadata": {
    "tags": []
   },
   "outputs": [],
   "source": [
    "app = AdkApp(\n",
    "   agent=image_generation_agent,\n",
    "    enable_tracing=True# Required.\n",
    "   # session_service_builder=session_service_builder,  # Optional.\n",
    ")"
   ]
  },
  {
   "cell_type": "code",
   "execution_count": 32,
   "id": "d9dd2974-0bfd-4a4d-8478-263b2263533c",
   "metadata": {
    "tags": []
   },
   "outputs": [
    {
     "name": "stdout",
     "output_type": "stream",
     "text": [
      "Agent created successfully\n"
     ]
    }
   ],
   "source": [
    "# This will create a session locally for interaction\n",
    "session = app.create_session(user_id=\"123\")\n",
    "for event in app.stream_query(\n",
    "    user_id=\"123\",\n",
    "    session_id=session.id,\n",
    "    message=\"hello!\",\n",
    "):\n",
    "    if event.get(\"content\", None):\n",
    "        print(\n",
    "            f\"Agent created successfully\"\n",
    "        )"
   ]
  },
  {
   "cell_type": "code",
   "execution_count": null,
   "id": "28259679-0078-46c7-b73b-ea574785d8a3",
   "metadata": {
    "tags": []
   },
   "outputs": [],
   "source": [
    "session = app.create_session(user_id=\"123\")\n",
    "temp = []\n",
    "for event in app.stream_query(\n",
    "    user_id=\"123\",\n",
    "    session_id=session.id,\n",
    "    message=\"Generate cat riding a bicycle\",\n",
    "):\n",
    "    print(event)\n",
    "    temp.append(event)"
   ]
  },
  {
   "cell_type": "code",
   "execution_count": null,
   "id": "9a92299a-620b-4b8d-ba62-d325a76d4953",
   "metadata": {
    "tags": []
   },
   "outputs": [],
   "source": [
    "temp"
   ]
  },
  {
   "cell_type": "code",
   "execution_count": null,
   "id": "30187e94-da6e-4683-b5eb-8756ba063b0b",
   "metadata": {},
   "outputs": [],
   "source": []
  }
 ],
 "metadata": {
  "environment": {
   "kernel": "conda-base-py",
   "name": "workbench-notebooks.m131",
   "type": "gcloud",
   "uri": "us-docker.pkg.dev/deeplearning-platform-release/gcr.io/workbench-notebooks:m131"
  },
  "kernelspec": {
   "display_name": "Python 3 (ipykernel) (Local)",
   "language": "python",
   "name": "conda-base-py"
  },
  "language_info": {
   "codemirror_mode": {
    "name": "ipython",
    "version": 3
   },
   "file_extension": ".py",
   "mimetype": "text/x-python",
   "name": "python",
   "nbconvert_exporter": "python",
   "pygments_lexer": "ipython3",
   "version": "3.10.18"
  }
 },
 "nbformat": 4,
 "nbformat_minor": 5
}
